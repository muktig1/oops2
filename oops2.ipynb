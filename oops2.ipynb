{
 "cells": [
  {
   "cell_type": "code",
   "execution_count": null,
   "id": "4cef5286-ba8c-4380-8f14-d02bcf22fe14",
   "metadata": {},
   "outputs": [],
   "source": [
    "Constructor:\n",
    "1. What is a constructor in Python? Explain its purpose and usage.\n",
    "In Python, a constructor is a special method within a class that is automatically called when an object\n",
    "of the class is created. It has the same name as the class and is defined using the __init__ method.\n",
    "The purpose of a constructor is to initialize the attributes of the object and perform\n",
    "any setup or configuration necessary for the object to function properly."
   ]
  },
  {
   "cell_type": "code",
   "execution_count": 1,
   "id": "c6e25a82-1f46-49f9-a82e-fecdedb1d82e",
   "metadata": {
    "tags": []
   },
   "outputs": [
    {
     "name": "stdout",
     "output_type": "stream",
     "text": [
      "Toyota Camry is accelerating. Current speed: 5 mph\n",
      "Toyota Camry is braking. Current speed: 0 mph\n"
     ]
    }
   ],
   "source": [
    "class Car:\n",
    "    def __init__(self, make, model, year):\n",
    "        self.make = make\n",
    "        self.model = model\n",
    "        self.year = year\n",
    "        self.speed = 0\n",
    "\n",
    "    def accelerate(self):\n",
    "        self.speed += 5\n",
    "        print(f\"{self.make} {self.model} is accelerating. Current speed: {self.speed} mph\")\n",
    "\n",
    "    def brake(self):\n",
    "        self.speed -= 5\n",
    "        print(f\"{self.make} {self.model} is braking. Current speed: {self.speed} mph\")\n",
    "\n",
    "# Creating an instance of the Car class\n",
    "my_car = Car(\"Toyota\", \"Camry\", 2022)\n",
    "\n",
    "# Calling methods on the object\n",
    "my_car.accelerate()\n",
    "my_car.brake()\n"
   ]
  },
  {
   "cell_type": "code",
   "execution_count": null,
   "id": "be375fed-5ba0-402c-b472-86d43642ae12",
   "metadata": {},
   "outputs": [],
   "source": [
    "2. Differentiate between a parameterless constructor and a parameterized constructor in Python.\n",
    "In Python, constructors can be classified into two types: parameterless constructors and parameterized constructors.\n",
    "\n",
    "Parameterless Constructor:\n",
    "\n",
    "A parameterless constructor is a constructor that takes no parameters or arguments other than the self reference.\n",
    "It is defined using the __init__ method without any additional parameters.\n",
    "This type of constructor is used when the initialization of the object does not require any external input."
   ]
  },
  {
   "cell_type": "code",
   "execution_count": 2,
   "id": "e3ee4e04-c710-4f43-8125-a51f81892d23",
   "metadata": {
    "tags": []
   },
   "outputs": [],
   "source": [
    "class MyClass:\n",
    "    def __init__(self):\n",
    "        # Code to initialize attributes goes here\n",
    "        self.value = 42\n",
    "\n",
    "# Creating an instance of MyClass\n",
    "my_instance = MyClass()\n"
   ]
  },
  {
   "cell_type": "code",
   "execution_count": null,
   "id": "43599adc-2362-4fc4-9d87-d55faccbd182",
   "metadata": {},
   "outputs": [],
   "source": [
    "Parameterized Constructor:\n",
    "\n",
    "A parameterized constructor is a constructor that takes one or more parameters in addition to the self reference.\n",
    "It allows the user to pass values during the creation of an object, and these values are used to initialize the object's attributes.\n",
    "It is defined with additional parameters within the __init__ method."
   ]
  },
  {
   "cell_type": "code",
   "execution_count": 3,
   "id": "e9317436-7cbb-4edb-8229-aa236e0aba24",
   "metadata": {
    "tags": []
   },
   "outputs": [],
   "source": [
    "class AnotherClass:\n",
    "    def __init__(self, name, age):\n",
    "        # Code to initialize attributes using parameters\n",
    "        self.name = name\n",
    "        self.age = age\n",
    "\n",
    "# Creating an instance of AnotherClass with parameters\n",
    "my_instance = AnotherClass(\"John\", 25)\n"
   ]
  },
  {
   "cell_type": "code",
   "execution_count": null,
   "id": "4e19327c-8520-4a8d-a292-0a43f9def3f1",
   "metadata": {},
   "outputs": [],
   "source": [
    "3. How do you define a constructor in a Python class? Provide an example.\n",
    "in Python, a constructor is defined within a class using a special method named __init__. This method is automatically\n",
    "called when an object of the class is created. The __init__ method can be used to initialize the \n",
    "attributes of the object and perform any setup or configuration required."
   ]
  },
  {
   "cell_type": "code",
   "execution_count": 4,
   "id": "a618c37b-11db-4ad0-8ea4-41ee0eb6fd95",
   "metadata": {
    "tags": []
   },
   "outputs": [
    {
     "name": "stdout",
     "output_type": "stream",
     "text": [
      "Name: Alice, Age: 30\n"
     ]
    }
   ],
   "source": [
    "class Person:\n",
    "    def __init__(self, name, age):\n",
    "        # Initializing attributes using parameters\n",
    "        self.name = name\n",
    "        self.age = age\n",
    "\n",
    "    def display_info(self):\n",
    "        print(f\"Name: {self.name}, Age: {self.age}\")\n",
    "\n",
    "# Creating an instance of the Person class with the constructor\n",
    "person1 = Person(\"Alice\", 30)\n",
    "\n",
    "# Calling a method on the object to display information\n",
    "person1.display_info()\n"
   ]
  },
  {
   "cell_type": "code",
   "execution_count": null,
   "id": "03e36e23-9612-4ee2-8ae2-a8ade0a13043",
   "metadata": {},
   "outputs": [],
   "source": [
    "4. Explain the `__init__` method in Python and its role in constructors.\n",
    "In Python, the __init__ method is a special method that plays a crucial role in constructors. It is automatically called when an object of a class is created.\n",
    "The purpose of the __init__ method is to initialize the attributes of the object and perform any necessary setup or configuration.\n",
    "\n",
    "Here are some key points about the __init__ method and its role in constructors:\n",
    "\n",
    "Initialization of Attributes:\n",
    "\n",
    "The __init__ method is used to initialize the attributes of the object by assigning values to them.\n",
    "It takes the self reference (representing the instance of the object being created) and any additional parameters needed for initialization.\n",
    "Automatic Invocation:\n",
    "\n",
    "The __init__ method is called automatically when an object is instantiated from the class. It is not called explicitly by the programmer but is\n",
    "invoked behind the scenes during object creation."
   ]
  },
  {
   "cell_type": "code",
   "execution_count": 5,
   "id": "f3867f4c-a055-4131-ada9-161ba3c81afe",
   "metadata": {
    "tags": []
   },
   "outputs": [],
   "source": [
    "class Person:\n",
    "    def __init__(self, name, age):\n",
    "        # Initializing attributes using parameters\n",
    "        self.name = name\n",
    "        self.age = age\n",
    "\n",
    "    def display_info(self):\n",
    "        print(f\"Name: {self.name}, Age: {self.age}\")\n",
    "\n",
    "# Creating an instance of the Person class with the constructor\n",
    "person1 = Person(\"Alice\", 30)\n",
    "\n",
    "# The __init__ method is automatically called during object creation\n"
   ]
  },
  {
   "cell_type": "code",
   "execution_count": null,
   "id": "4395771b-cdcd-4065-81be-9c4af10d3785",
   "metadata": {},
   "outputs": [],
   "source": [
    "Purpose of self:\n",
    "\n",
    "The self parameter in the __init__ method is a reference to the instance of the class. It is used to access and modify the attributes of that specific object.\n",
    "Initialization Logic:\n",
    "\n",
    "The __init__ method can include logic beyond attribute assignments. For example, it can perform additional setup, validate input,\n",
    "or execute any code needed to initialize the object correctly."
   ]
  },
  {
   "cell_type": "code",
   "execution_count": null,
   "id": "fceae0d6-8950-4029-9ef2-c9a67d2915dc",
   "metadata": {},
   "outputs": [],
   "source": [
    "5. In a class named `Person`, create a constructor that initializes the `name` and `age` attributes. Provide an\n",
    "example of creating an object of this class.\n"
   ]
  },
  {
   "cell_type": "code",
   "execution_count": 6,
   "id": "bcff657c-c892-4bec-bba6-72162cd3a828",
   "metadata": {
    "tags": []
   },
   "outputs": [
    {
     "name": "stdout",
     "output_type": "stream",
     "text": [
      "Name: Alice, Age: 30\n"
     ]
    }
   ],
   "source": [
    "class Person:\n",
    "    def __init__(self, name, age):\n",
    "        # Initializing attributes using parameters\n",
    "        self.name = name\n",
    "        self.age = age\n",
    "\n",
    "    def display_info(self):\n",
    "        print(f\"Name: {self.name}, Age: {self.age}\")\n",
    "\n",
    "# Creating an instance of the Person class with the constructor\n",
    "person1 = Person(\"Alice\", 30)\n",
    "\n",
    "# Calling a method on the object to display information\n",
    "person1.display_info()\n"
   ]
  },
  {
   "cell_type": "code",
   "execution_count": null,
   "id": "cbb6a858-6207-4553-837c-5e63176f5d1e",
   "metadata": {},
   "outputs": [],
   "source": [
    "6. How can you call a constructor explicitly in Python? Give an example.\n",
    "In Python, the constructor (__init__ method) is typically called automatically when an object is created,\n",
    "and there is usually no need to call it explicitly. However, if you want to call the \n",
    "constructor explicitly, you can do so using the class name."
   ]
  },
  {
   "cell_type": "code",
   "execution_count": null,
   "id": "63b7bed5-2e92-4f57-92d3-7b3726db3cf1",
   "metadata": {},
   "outputs": [],
   "source": [
    "class MyClass:\n",
    "    def __init__(self, value):\n",
    "        self.value = value\n",
    "        print(f\"Constructor called with value: {value}\")\n",
    "\n",
    "# Calling the constructor explicitly\n",
    "explicit_instance = MyClass.__init__(MyClass(), \"Hello\")\n",
    "\n",
    "# Accessing the attribute of the object\n",
    "print(explicit_instance.value)\n"
   ]
  },
  {
   "cell_type": "code",
   "execution_count": null,
   "id": "21824ea2-99ee-4236-ab33-527f76396b61",
   "metadata": {},
   "outputs": [],
   "source": [
    "7. What is the significance of the `self` parameter in Python constructors? Explain with an example.\n",
    "In Python constructors, including the __init__ method, the self parameter is a reference to the instance of the class. \n",
    "It is a convention in Python to use the name self for this first parameter, though you could technically use any name you prefer.\n",
    "The purpose of self is to allow access to the instance's attributes and methods within the class."
   ]
  },
  {
   "cell_type": "code",
   "execution_count": 9,
   "id": "76c157f8-d14b-4e5d-bf31-b051b3b02d63",
   "metadata": {
    "tags": []
   },
   "outputs": [
    {
     "name": "stdout",
     "output_type": "stream",
     "text": [
      "Name: Alice, Age: 30\n"
     ]
    }
   ],
   "source": [
    "class Person:\n",
    "    def __init__(self, name, age):\n",
    "        # Initializing attributes using parameters and the 'self' reference\n",
    "        self.name = name\n",
    "        self.age = age\n",
    "\n",
    "    def display_info(self):\n",
    "        # Accessing attributes using the 'self' reference\n",
    "        print(f\"Name: {self.name}, Age: {self.age}\")\n",
    "\n",
    "# Creating an instance of the Person class with the constructor\n",
    "person1 = Person(\"Alice\", 30)\n",
    "\n",
    "# Calling a method on the object to display information\n",
    "person1.display_info()\n"
   ]
  },
  {
   "cell_type": "code",
   "execution_count": null,
   "id": "c0341922-625f-4ab1-8874-26913c0173e6",
   "metadata": {},
   "outputs": [],
   "source": [
    "8. Discuss the concept of default constructors in Python. When are they used?\n",
    "In Python, a default constructor is a constructor that is provided by default if no explicit constructor is defined in a class. \n",
    "The default constructor is automatically created by Python and takes no parameters other than the mandatory self reference.\n",
    "It initializes the object without any additional setup.\n",
    "\n",
    "The default constructor is used when you create an object of a class, and the class does not have its own explicitly defined\n",
    "constructor (i.e., the __init__ method is not defined in the class). In this case, Python provides a default constructor that\n",
    "does not perform any specific initialization."
   ]
  },
  {
   "cell_type": "code",
   "execution_count": 10,
   "id": "24cd1277-889f-4864-8647-4791d4afc9d9",
   "metadata": {
    "tags": []
   },
   "outputs": [],
   "source": [
    "class MyClass:\n",
    "    pass  # No explicit constructor is defined\n",
    "\n",
    "# Creating an instance of MyClass without a specific constructor\n",
    "my_instance = MyClass()\n",
    "\n",
    "# No __init__ method is defined, so a default constructor is used\n"
   ]
  },
  {
   "cell_type": "code",
   "execution_count": null,
   "id": "ac9e04a7-cbdf-4368-a287-7632908429ef",
   "metadata": {},
   "outputs": [],
   "source": [
    "9. Create a Python class called `Rectangle` with a constructor that initializes the `width` and `height`\n",
    "attributes. Provide a method to calculate the area of the rectangle.\n"
   ]
  },
  {
   "cell_type": "code",
   "execution_count": 11,
   "id": "6ffc38c3-f85f-4825-af88-8da4aac55eb0",
   "metadata": {
    "tags": []
   },
   "outputs": [
    {
     "name": "stdout",
     "output_type": "stream",
     "text": [
      "Area of the rectangle: 40 square units\n"
     ]
    }
   ],
   "source": [
    "class Rectangle:\n",
    "    def __init__(self, width, height):\n",
    "        # Initializing attributes using parameters\n",
    "        self.width = width\n",
    "        self.height = height\n",
    "\n",
    "    def calculate_area(self):\n",
    "        # Calculating and returning the area of the rectangle\n",
    "        area = self.width * self.height\n",
    "        return area\n",
    "\n",
    "# Creating an instance of the Rectangle class with the constructor\n",
    "my_rectangle = Rectangle(5, 8)\n",
    "\n",
    "# Calling the method to calculate the area\n",
    "area_of_rectangle = my_rectangle.calculate_area()\n",
    "\n",
    "# Displaying the calculated area\n",
    "print(f\"Area of the rectangle: {area_of_rectangle} square units\")\n"
   ]
  },
  {
   "cell_type": "code",
   "execution_count": null,
   "id": "019dc7ea-d805-44f4-a676-db98789df221",
   "metadata": {},
   "outputs": [],
   "source": [
    "10. How can you have multiple constructors in a Python class? Explain with an example.\n",
    "in Python, you cannot have multiple constructors with different names like some other programming languages.\n",
    "However, you can achieve the effect of having multiple constructors by using default values for parameters in\n",
    "the __init__ method. By providing default values, you allow the constructor to be called with different sets of arguments,\n",
    "making it behave as if you have multiple constructors."
   ]
  },
  {
   "cell_type": "code",
   "execution_count": 12,
   "id": "ee6b3074-fa6c-4464-a524-41051a34e01e",
   "metadata": {
    "tags": []
   },
   "outputs": [
    {
     "name": "stdout",
     "output_type": "stream",
     "text": [
      "Default Param1 Default Param2\n",
      "Custom Value 1 Default Param2\n",
      "Custom Value 1 Custom Value 2\n"
     ]
    }
   ],
   "source": [
    "class MyClass:\n",
    "    def __init__(self, param1=None, param2=None):\n",
    "        # Default constructor with optional parameters\n",
    "        if param1 is None:\n",
    "            param1 = \"Default Param1\"\n",
    "        if param2 is None:\n",
    "            param2 = \"Default Param2\"\n",
    "\n",
    "        self.param1 = param1\n",
    "        self.param2 = param2\n",
    "\n",
    "# Creating instances with different sets of arguments\n",
    "obj1 = MyClass()\n",
    "obj2 = MyClass(\"Custom Value 1\")\n",
    "obj3 = MyClass(\"Custom Value 1\", \"Custom Value 2\")\n",
    "\n",
    "# Displaying values of parameters for each object\n",
    "print(obj1.param1, obj1.param2)  # Default Param1 Default Param2\n",
    "print(obj2.param1, obj2.param2)  # Custom Value 1 Default Param2\n",
    "print(obj3.param1, obj3.param2)  # Custom Value 1 Custom Value 2\n"
   ]
  },
  {
   "cell_type": "code",
   "execution_count": null,
   "id": "db67748d-8dca-46a9-b36b-ea628a7c7dcd",
   "metadata": {},
   "outputs": [],
   "source": [
    "11. What is method overloading, and how is it related to constructors in Python?\n",
    "Method overloading is a concept in object-oriented programming where a class can have multiple methods with the same name,\n",
    "but with different parameters or different types of parameters. The method that gets called depends on the number or \n",
    "types of arguments passed during the method invocation.\n",
    "\n",
    "However, it's important to note that Python does not support traditional method overloading like some other languages \n",
    "(e.g., Java or C++), where you can define multiple methods with the same name in a class with different parameter lists.\n",
    "In Python, if you define a method with the same name\n",
    "multiple times in a class, the latest definition will override any previous ones.\n",
    "\n",
    "That being said, in Python, method overloading can be achieved using default values for function parameters or using \n",
    "variable-length argument lists (e.g., *args and **kwargs).\n",
    "\n",
    "Now, in relation to constructors in Python, constructor overloading is a specific form of method overloading related \n",
    "to the initialization method (__init__). Since Python does not support traditional method overloading, constructor\n",
    "overloading can be implemented using default values for parameters or using variable-length argument lists."
   ]
  },
  {
   "cell_type": "code",
   "execution_count": 13,
   "id": "00883ffa-042d-4174-9f35-877457e3e38d",
   "metadata": {
    "tags": []
   },
   "outputs": [],
   "source": [
    "class MyClass:\n",
    "    def __init__(self, param1=None, param2=None):\n",
    "        if param1 is None:\n",
    "            param1 = \"Default Param1\"\n",
    "        if param2 is None:\n",
    "            param2 = \"Default Param2\"\n",
    "\n",
    "        self.param1 = param1\n",
    "        self.param2 = param2\n",
    "\n",
    "# Creating instances with different sets of arguments\n",
    "obj1 = MyClass()\n",
    "obj2 = MyClass(\"Custom Value 1\")\n",
    "obj3 = MyClass(\"Custom Value 1\", \"Custom Value 2\")\n"
   ]
  },
  {
   "cell_type": "code",
   "execution_count": null,
   "id": "53a9d0c4-c46b-40f4-bb81-1c0b92761298",
   "metadata": {},
   "outputs": [],
   "source": [
    "12. Explain the use of the `super()` function in Python constructors. Provide an example.\n",
    "In Python, the super() function is used to call methods from the parent class. It is often used in the context \n",
    "of constructors to invoke the constructor of the parent class, allowing you to perform the initialization in both \n",
    "the parent and child classes. This is particularly useful in situations where you want to\n",
    "extend the functionality of a parent class in a subclass."
   ]
  },
  {
   "cell_type": "code",
   "execution_count": 14,
   "id": "3e290419-ed6f-4bb3-8f83-4c7cbd9fecc0",
   "metadata": {
    "tags": []
   },
   "outputs": [
    {
     "name": "stdout",
     "output_type": "stream",
     "text": [
      "ParentClass constructor called with name: John\n",
      "ChildClass constructor called with additional_info: Some additional information\n"
     ]
    }
   ],
   "source": [
    "class ParentClass:\n",
    "    def __init__(self, name):\n",
    "        self.name = name\n",
    "        print(f\"ParentClass constructor called with name: {self.name}\")\n",
    "\n",
    "class ChildClass(ParentClass):\n",
    "    def __init__(self, name, additional_info):\n",
    "        # Calling the constructor of the parent class using super()\n",
    "        super().__init__(name)\n",
    "\n",
    "        # Initializing attributes specific to the child class\n",
    "        self.additional_info = additional_info\n",
    "        print(f\"ChildClass constructor called with additional_info: {self.additional_info}\")\n",
    "\n",
    "# Creating an instance of the ChildClass\n",
    "child_instance = ChildClass(\"John\", \"Some additional information\")\n"
   ]
  },
  {
   "cell_type": "code",
   "execution_count": null,
   "id": "c2e59929-c04b-4930-8830-c8a2d7d23085",
   "metadata": {},
   "outputs": [],
   "source": [
    "13. Create a class called `Book` with a constructor that initializes the `title`, `author`, and `published_year`\n",
    "attributes. Provide a method to display book details.\n"
   ]
  },
  {
   "cell_type": "code",
   "execution_count": 15,
   "id": "af97a5b5-aa19-4aed-9c6a-47386edab74e",
   "metadata": {
    "tags": []
   },
   "outputs": [
    {
     "name": "stdout",
     "output_type": "stream",
     "text": [
      "Title: The Great Gatsby\n",
      "Author: F. Scott Fitzgerald\n",
      "Published Year: 1925\n"
     ]
    }
   ],
   "source": [
    "class Book:\n",
    "    def __init__(self, title, author, published_year):\n",
    "        # Initializing attributes using parameters\n",
    "        self.title = title\n",
    "        self.author = author\n",
    "        self.published_year = published_year\n",
    "\n",
    "    def display_details(self):\n",
    "        # Displaying book details\n",
    "        print(f\"Title: {self.title}\")\n",
    "        print(f\"Author: {self.author}\")\n",
    "        print(f\"Published Year: {self.published_year}\")\n",
    "\n",
    "# Creating an instance of the Book class with the constructor\n",
    "my_book = Book(\"The Great Gatsby\", \"F. Scott Fitzgerald\", 1925)\n",
    "\n",
    "# Calling the method to display book details\n",
    "my_book.display_details()\n"
   ]
  },
  {
   "cell_type": "code",
   "execution_count": null,
   "id": "6526730e-d315-4d72-9026-9bea9cf1f5d8",
   "metadata": {},
   "outputs": [],
   "source": [
    "14. Discuss the differences between constructors and regular methods in Python classes.\n",
    "Constructors and regular methods in Python classes serve different purposes and have some key differences. Here are the main\n",
    "distinctions between constructors and regular methods:\n",
    "\n",
    "Purpose:\n",
    "\n",
    "Constructor: The primary purpose of a constructor is to initialize the attributes of an object when it is created. Constructors\n",
    "are automatically called when an object is instantiated from a class.\n",
    "Regular Method: Regular methods, on the other hand, perform various actions or computations on the object's attributes. They are \n",
    "called explicitly by the programmer on an already instantiated object.\n",
    "Invocation:\n",
    "\n",
    "Constructor: Constructors are automatically invoked when an object is created. In Python, the constructor method is named __init__.\n",
    "Regular Method: Regular methods need to be called explicitly by the programmer using the object instance.\n",
    "Name:\n",
    "\n",
    "Constructor: In Python, the constructor method is conventionally named __init__. It initializes the object's attributes during object creation.\n",
    "Regular Method: Regular methods can have any valid method name, and they perform specific actions on the object's attributes or state.\n",
    "Return Value:\n",
    "\n",
    "Constructor: The __init__ constructor doesn't explicitly return a value. It is responsible for initializing the object's attributes.\n",
    "Regular Method: Regular methods can have a return statement to return values, and the return type can be any valid data type.\n",
    "Call Syntax:\n",
    "\n",
    "Constructor: The constructor is automatically called when an object is created using the class. The syntax involves creating an object, \n",
    "and the constructor is invoked during this process.\n",
    "Regular Method: Regular methods are called explicitly using the object instance, and the syntax involves object.method()."
   ]
  },
  {
   "cell_type": "code",
   "execution_count": 16,
   "id": "87d00467-f53c-416e-8dc2-2d43e373e045",
   "metadata": {
    "tags": []
   },
   "outputs": [
    {
     "name": "stdout",
     "output_type": "stream",
     "text": [
      "example\n",
      "Regular method called. Attribute value: example\n"
     ]
    }
   ],
   "source": [
    "class MyClass:\n",
    "    def __init__(self, attribute):\n",
    "        self.attribute = attribute\n",
    "\n",
    "    def regular_method(self):\n",
    "        print(f\"Regular method called. Attribute value: {self.attribute}\")\n",
    "\n",
    "# Creating an instance of MyClass\n",
    "my_object = MyClass(\"example\")\n",
    "\n",
    "# Constructor is automatically called during object creation\n",
    "# No explicit call to __init__ is needed\n",
    "print(my_object.attribute)\n",
    "\n",
    "# Calling a regular method explicitly\n",
    "my_object.regular_method()\n"
   ]
  },
  {
   "cell_type": "code",
   "execution_count": null,
   "id": "934deff5-ec42-4ab4-aff6-a1a0a2347037",
   "metadata": {},
   "outputs": [],
   "source": [
    "15. Explain the role of the `self` parameter in instance variable initialization within a constructor.\n",
    "In Python, the self parameter in a constructor plays a crucial role in initializing instance variables. The self parameter\n",
    "represents the instance of the class, and it allows you to refer to and manipulate the attributes\n",
    "(instance variables) of that specific object. It is a convention in Python to use self as the name for the first parameter\n",
    "\n",
    "in instance methods, including the constructor (__init__).\n",
    "\n",
    "Here's an explanation of the role of the self parameter in instance variable initialization within a constructor:\n",
    "\n",
    "Reference to the Instance:\n",
    "\n",
    "self serves as a reference to the instance of the class. When an object is created, the self parameter allows you to access and \n",
    "work with the specific instance that is being initialized.\n",
    "Attribute Initialization:\n",
    "\n",
    "Instance variables (attributes) are initialized using the self parameter within the constructor. By using self, you specify that\n",
    "the attribute belongs to the instance of the class, making it unique to that object.\n",
    "Instance-Specific Values:\n",
    "\n",
    "Each instance of the class can have different values for its attributes. The self parameter allows you to differentiate between \n",
    "the attributes of different objects.\n",
    "Accessing Instance Variables:\n",
    "\n",
    "Within other methods of the class, and outside the class, you use self to access the instance variables. For example, in other\n",
    "methods or when accessing attributes from outside the class, you would use self.attribute1 to refer to the attribute1 of the specific instance."
   ]
  },
  {
   "cell_type": "code",
   "execution_count": 17,
   "id": "141135d3-748d-4258-80cd-16887ebf44a3",
   "metadata": {
    "tags": []
   },
   "outputs": [
    {
     "name": "stdout",
     "output_type": "stream",
     "text": [
      "Name: Alice, Age: 30\n"
     ]
    }
   ],
   "source": [
    "class Person:\n",
    "    def __init__(self, name, age):\n",
    "        # Using 'self' to initialize instance variables\n",
    "        self.name = name\n",
    "        self.age = age\n",
    "\n",
    "    def display_info(self):\n",
    "        # Accessing instance variables using 'self' in another method\n",
    "        print(f\"Name: {self.name}, Age: {self.age}\")\n",
    "\n",
    "# Creating an instance of the Person class with the constructor\n",
    "person1 = Person(\"Alice\", 30)\n",
    "\n",
    "# Calling a method on the object to display information\n",
    "person1.display_info()\n"
   ]
  },
  {
   "cell_type": "code",
   "execution_count": null,
   "id": "cca7eacb-6cd5-4ae9-9cf8-ab5d9c18bdfe",
   "metadata": {},
   "outputs": [],
   "source": [
    "16. How do you prevent a class from having multiple instances by using constructors in Python? Provide an\n",
    "example.\n",
    "\n",
    "In Python, preventing a class from having multiple instances is generally achieved through the use of a design pattern \n",
    "called the Singleton Pattern. The Singleton Pattern ensures that a class has only one instance and provides a global\n",
    "point of access to that instance. To implement a singleton, you typically override the __new__ method to control the \n",
    "creation of the instance and use class attributes to keep track\n",
    "of whether an instance has already been created."
   ]
  },
  {
   "cell_type": "code",
   "execution_count": null,
   "id": "93fafb9e-a097-4cd7-84b1-dcb6efe615a1",
   "metadata": {},
   "outputs": [],
   "source": [
    "class SingletonClass:\n",
    "    _instance = None  # Class attribute to store the single instance\n",
    "\n",
    "    def __new__(cls):\n",
    "        # Override __new__ to control instance creation\n",
    "        if cls._instance is None:\n",
    "            cls._instance = super().__new__(cls)\n",
    "        return cls._instance\n",
    "\n",
    "    def __init__(self, data):\n",
    "        # The __init__ method is called only if the instance is newly created\n",
    "        if not hasattr(self, '_initialized'):\n",
    "            self.data = data\n",
    "            self._initialized = True\n",
    "\n",
    "# Creating instances of the SingletonClass\n",
    "singleton_instance1 = SingletonClass(\"Instance 1\")\n",
    "singleton_instance2 = SingletonClass(\"Instance 2\")\n",
    "\n",
    "# Both instances refer to the same object\n",
    "print(singleton_instance1 is singleton_instance2)  # True\n",
    "\n",
    "# Accessing data attribute from either instance\n",
    "print(singleton_instance1.data)  # Instance 1\n",
    "print(singleton_instance2.data)  # Instance 1\n"
   ]
  },
  {
   "cell_type": "code",
   "execution_count": null,
   "id": "1befde1b-0868-4ea6-831b-b41495103f7f",
   "metadata": {},
   "outputs": [],
   "source": [
    "17. Create a Python class called `Student` with a constructor that takes a list of subjects as a parameter and\n",
    "initializes the `subjects` attribute.\n"
   ]
  },
  {
   "cell_type": "code",
   "execution_count": 19,
   "id": "1e73e7f6-a79c-4c0c-b6dc-02b5adbf14c8",
   "metadata": {
    "tags": []
   },
   "outputs": [
    {
     "name": "stdout",
     "output_type": "stream",
     "text": [
      "List of Subjects:\n",
      "Math\n",
      "Science\n",
      "English\n",
      "History\n"
     ]
    }
   ],
   "source": [
    "class Student:\n",
    "    def __init__(self, subjects):\n",
    "        # Initializing the 'subjects' attribute using the provided parameter\n",
    "        self.subjects = subjects\n",
    "\n",
    "    def display_subjects(self):\n",
    "        # Displaying the list of subjects\n",
    "        print(\"List of Subjects:\")\n",
    "        for subject in self.subjects:\n",
    "            print(subject)\n",
    "\n",
    "# Creating an instance of the Student class with the constructor\n",
    "student1 = Student([\"Math\", \"Science\", \"English\", \"History\"])\n",
    "\n",
    "# Calling a method on the object to display the subjects\n",
    "student1.display_subjects()\n"
   ]
  },
  {
   "cell_type": "code",
   "execution_count": null,
   "id": "d500bdbe-9b0a-4f96-9742-abdfbf17f60c",
   "metadata": {},
   "outputs": [],
   "source": [
    "18. What is the purpose of the `__del__` method in Python classes, and how does it relate to constructors?\n",
    "The __del__ method in Python is a special method that is part of the object's lifecycle. It is called when \n",
    "an object is about to be destroyed or deleted, typically\n",
    "when it goes out of scope or when the del statement is used to explicitly delete the object. The __del__ method\n",
    "is a destructor, and it is the opposite of the constructor (__init__ method).\n",
    "\n",
    "The primary purpose of the __del__ method is to perform any cleanup or resource release operations before an object\n",
    "is deleted. This may involve releasing external resources, closing files, or performing other cleanup tasks."
   ]
  },
  {
   "cell_type": "code",
   "execution_count": 20,
   "id": "912d9f95-81fc-48b2-9d5d-367791426975",
   "metadata": {
    "tags": []
   },
   "outputs": [
    {
     "name": "stdout",
     "output_type": "stream",
     "text": [
      "Object Instance1 created.\n",
      "Object Instance2 created.\n",
      "Object Instance1 is being deleted.\n"
     ]
    }
   ],
   "source": [
    "class MyClass:\n",
    "    def __init__(self, name):\n",
    "        self.name = name\n",
    "        print(f\"Object {self.name} created.\")\n",
    "\n",
    "    def __del__(self):\n",
    "        print(f\"Object {self.name} is being deleted.\")\n",
    "\n",
    "# Creating instances of MyClass\n",
    "obj1 = MyClass(\"Instance1\")\n",
    "obj2 = MyClass(\"Instance2\")\n",
    "\n",
    "# Explicitly deleting one instance\n",
    "del obj1\n",
    "\n",
    "# The remaining instance will be deleted when the script or program ends\n"
   ]
  },
  {
   "cell_type": "code",
   "execution_count": null,
   "id": "7f02aeb7-a4eb-41e3-a57e-72e380dbfaad",
   "metadata": {},
   "outputs": [],
   "source": [
    "19. Explain the use of constructor chaining in Python. Provide a practical example.\n",
    "Constructor chaining in Python refers to the process of calling one constructor from another \n",
    "constructor within the same class or between parent and child classes. This allows you to reuse code\n",
    "and avoid redundancy when initializing objects. Constructor\n",
    "chaining is achieved using the super() function to call the constructor of the parent class."
   ]
  },
  {
   "cell_type": "code",
   "execution_count": 21,
   "id": "194908d5-2a71-4f58-937c-8535928ac697",
   "metadata": {
    "tags": []
   },
   "outputs": [
    {
     "name": "stdout",
     "output_type": "stream",
     "text": [
      "Vehicle: Toyota Camry\n",
      "Car: Toyota Camry, Color: Blue\n"
     ]
    }
   ],
   "source": [
    "class Vehicle:\n",
    "    def __init__(self, make, model):\n",
    "        self.make = make\n",
    "        self.model = model\n",
    "        print(f\"Vehicle: {self.make} {self.model}\")\n",
    "\n",
    "class Car(Vehicle):\n",
    "    def __init__(self, make, model, color):\n",
    "        # Calling the constructor of the parent class using super()\n",
    "        super().__init__(make, model)\n",
    "\n",
    "        # Initializing attributes specific to the Car class\n",
    "        self.color = color\n",
    "        print(f\"Car: {self.make} {self.model}, Color: {self.color}\")\n",
    "\n",
    "# Creating an instance of the Car class\n",
    "my_car = Car(\"Toyota\", \"Camry\", \"Blue\")\n"
   ]
  },
  {
   "cell_type": "code",
   "execution_count": null,
   "id": "696400a2-7e1a-41fd-9cde-20ba2749502e",
   "metadata": {},
   "outputs": [],
   "source": [
    "20. Create a Python class called `Car` with a default constructor that initializes the `make` and `model`\n",
    "attributes. Provide a method to display car information.\n",
    "\n"
   ]
  },
  {
   "cell_type": "code",
   "execution_count": 22,
   "id": "d31a66ae-4c5a-4c7f-887d-86fb4585e0d1",
   "metadata": {
    "tags": []
   },
   "outputs": [
    {
     "name": "stdout",
     "output_type": "stream",
     "text": [
      "Make: Unknown Make\n",
      "Model: Unknown Model\n"
     ]
    }
   ],
   "source": [
    "class Car:\n",
    "    def __init__(self, make=\"Unknown Make\", model=\"Unknown Model\"):\n",
    "        # Default constructor with default parameter values\n",
    "        self.make = make\n",
    "        self.model = model\n",
    "\n",
    "    def display_info(self):\n",
    "        # Displaying car information\n",
    "        print(f\"Make: {self.make}\")\n",
    "        print(f\"Model: {self.model}\")\n",
    "\n",
    "# Creating an instance of the Car class with the default constructor\n",
    "default_car = Car()\n",
    "\n",
    "# Calling the method to display car information\n",
    "default_car.display_info()\n"
   ]
  },
  {
   "cell_type": "code",
   "execution_count": null,
   "id": "21d2d971-412f-4685-8568-4754269ced07",
   "metadata": {},
   "outputs": [],
   "source": [
    "Inheritance:\n",
    "1. What is inheritance in Python? Explain its significance in object-oriented programming.\n",
    "Inheritance is a fundamental concept in object-oriented programming (OOP) that allows a class (subclass or derived class)\n",
    "to inherit properties and behaviors (attributes and methods) from another class (superclass or base class).\n",
    "The class that is being inherited from is referred to as the superclass,\n",
    "and the class that inherits is referred to as the subclass.\n"
   ]
  },
  {
   "cell_type": "code",
   "execution_count": null,
   "id": "bb8293c2-055f-4bb0-9e5e-dc9345c41f28",
   "metadata": {},
   "outputs": [],
   "source": [
    "Key points about inheritance in Python and its significance in OOP:\n",
    "\n",
    "Code Reusability: Inheritance promotes code reusability by allowing a subclass to reuse and extend the functionality of a superclass.\n",
    "\n",
    "The common attributes and methods defined in the superclass can be inherited by multiple subclasses.\n",
    "\n",
    "Hierarchy: Inheritance establishes a hierarchy of classes, where subclasses can be organized in a hierarchical structure based on their\n",
    "relationship with superclasses. This helps in creating a clear and organized class structure.\n",
    "\n",
    "Overriding Methods: Subclasses have the ability to override methods inherited from the superclass. This allows customization of behavior \n",
    "specific to the subclass while still benefiting from the common functionality provided by the superclass.\n",
    "\n",
    "Base Class Features: The superclass often serves as a base class that defines common features shared by multiple subclasses.\n",
    "This helps in abstracting common behavior and attributes, improving modularity and maintainability.\n",
    "\n",
    "Polymorphism: Inheritance is closely related to polymorphism, another OOP concept. Polymorphism allows objects of different\n",
    "classes to be treated as objects of a common superclass, enabling code to work with objects at a higher level of abstraction.\n",
    "\n",
    "Encapsulation: Inheritance, along with encapsulation, helps in achieving the principle of \"code to interfaces, not implementations.\"\n",
    "Subclasses can access the public interface of the superclass, and changes to the internal \n",
    "implementation of the superclass do not affect the subclasses."
   ]
  },
  {
   "cell_type": "code",
   "execution_count": 23,
   "id": "4c782344-c1e2-41bd-b282-c1e017892c3a",
   "metadata": {
    "tags": []
   },
   "outputs": [
    {
     "name": "stdout",
     "output_type": "stream",
     "text": [
      "Generic animal sound\n",
      "Woof! Woof!\n"
     ]
    }
   ],
   "source": [
    "class Animal:\n",
    "    def __init__(self, species):\n",
    "        self.species = species\n",
    "\n",
    "    def make_sound(self):\n",
    "        print(\"Generic animal sound\")\n",
    "\n",
    "class Dog(Animal):\n",
    "    def make_sound(self):\n",
    "        print(\"Woof! Woof!\")\n",
    "\n",
    "# Creating instances of the classes\n",
    "generic_animal = Animal(\"Mammal\")\n",
    "dog_instance = Dog(\"Canine\")\n",
    "\n",
    "# Using inherited methods\n",
    "generic_animal.make_sound()  # Output: Generic animal sound\n",
    "dog_instance.make_sound()    # Output: Woof! Woof!\n"
   ]
  },
  {
   "cell_type": "code",
   "execution_count": null,
   "id": "9c44051e-7793-4dbd-805f-8d0510aa2488",
   "metadata": {},
   "outputs": [],
   "source": [
    "2. Differentiate between single inheritance and multiple inheritance in Python. Provide examples for each.\n",
    "In single inheritance, a subclass inherits from only one superclass. The subclass inherits the attributes and methods of the single superclass,\n",
    "creating a linear or hierarchical relationship."
   ]
  },
  {
   "cell_type": "code",
   "execution_count": 24,
   "id": "94016ef7-3670-47f3-b209-6f28daaf4fbe",
   "metadata": {
    "tags": []
   },
   "outputs": [
    {
     "name": "stdout",
     "output_type": "stream",
     "text": [
      "Canine\n",
      "Generic animal sound\n",
      "Woof! Woof!\n"
     ]
    }
   ],
   "source": [
    "class Animal:\n",
    "    def __init__(self, species):\n",
    "        self.species = species\n",
    "\n",
    "    def make_sound(self):\n",
    "        print(\"Generic animal sound\")\n",
    "\n",
    "class Dog(Animal):\n",
    "    def bark(self):\n",
    "        print(\"Woof! Woof!\")\n",
    "\n",
    "# Creating an instance of the Dog class\n",
    "my_dog = Dog(\"Canine\")\n",
    "\n",
    "# Using inherited methods and subclass-specific method\n",
    "print(my_dog.species)     # Output: Canine\n",
    "my_dog.make_sound()       # Output: Generic animal sound\n",
    "my_dog.bark()             # Output: Woof! Woof!\n"
   ]
  },
  {
   "cell_type": "code",
   "execution_count": null,
   "id": "ee3562aa-8200-4657-bb75-a3b308a37b70",
   "metadata": {},
   "outputs": [],
   "source": [
    "Multiple Inheritance:\n",
    "\n",
    "In multiple inheritance, a subclass inherits from more than one superclass. This allows the subclass to inherit attributes\n",
    "and methods from multiple classes, creating a more complex class hierarchy."
   ]
  },
  {
   "cell_type": "code",
   "execution_count": 25,
   "id": "6dd543cc-dead-45a1-9ae4-68af0341d96c",
   "metadata": {
    "tags": []
   },
   "outputs": [
    {
     "name": "stdout",
     "output_type": "stream",
     "text": [
      "I can fly\n",
      "I can walk\n",
      "Screech!\n"
     ]
    }
   ],
   "source": [
    "class Bird:\n",
    "    def fly(self):\n",
    "        print(\"I can fly\")\n",
    "\n",
    "class Mammal:\n",
    "    def walk(self):\n",
    "        print(\"I can walk\")\n",
    "\n",
    "class Bat(Bird, Mammal):\n",
    "    def make_sound(self):\n",
    "        print(\"Screech!\")\n",
    "\n",
    "# Creating an instance of the Bat class\n",
    "my_bat = Bat()\n",
    "\n",
    "# Using inherited methods from multiple superclasses\n",
    "my_bat.fly()          # Output: I can fly\n",
    "my_bat.walk()         # Output: I can walk\n",
    "my_bat.make_sound()   # Output: Screech!\n"
   ]
  },
  {
   "cell_type": "code",
   "execution_count": null,
   "id": "253a5e53-d025-4091-b3c3-4a6a2174bce9",
   "metadata": {},
   "outputs": [],
   "source": [
    "3. Create a Python class called `Vehicle` with attributes `color` and `speed`. Then, create a child class called\n",
    "`Car` that inherits from `Vehicle` and adds a `brand` attribute. Provide an example of creating a `Car` object.\n"
   ]
  },
  {
   "cell_type": "code",
   "execution_count": 26,
   "id": "b18958e4-a9a3-4d59-8604-803454ad414d",
   "metadata": {
    "tags": []
   },
   "outputs": [
    {
     "name": "stdout",
     "output_type": "stream",
     "text": [
      "Color: Blue\n",
      "Speed: 60\n",
      "Brand: Toyota\n"
     ]
    }
   ],
   "source": [
    "class Vehicle:\n",
    "    def __init__(self, color, speed):\n",
    "        self.color = color\n",
    "        self.speed = speed\n",
    "\n",
    "class Car(Vehicle):\n",
    "    def __init__(self, color, speed, brand):\n",
    "        # Calling the constructor of the parent class using super()\n",
    "        super().__init__(color, speed)\n",
    "        # Initializing the 'brand' attribute specific to the Car class\n",
    "        self.brand = brand\n",
    "\n",
    "# Creating an instance of the Car class\n",
    "my_car = Car(color=\"Blue\", speed=60, brand=\"Toyota\")\n",
    "\n",
    "# Accessing attributes from the Vehicle superclass and Car subclass\n",
    "print(f\"Color: {my_car.color}\")\n",
    "print(f\"Speed: {my_car.speed}\")\n",
    "print(f\"Brand: {my_car.brand}\")\n"
   ]
  },
  {
   "cell_type": "code",
   "execution_count": null,
   "id": "f7d9dcc1-f91c-4afd-baa0-270164b97e33",
   "metadata": {},
   "outputs": [],
   "source": [
    "4. Explain the concept of method overriding in inheritance. Provide a practical example.\n",
    "method overriding is a concept in inheritance where a subclass provides a specific implementation for a method that is already \n",
    "\n",
    "defined in its superclass. The overridden method in the subclass has the same name and signature (parameters) as the method\n",
    "in the superclass. This allows the subclass to provide its own behavior while still benefiting from the common interface defined by the superclass.\n",
    "\n",
    "Key points about method overriding:\n",
    "\n",
    "Same Method Signature: The overridden method in the subclass must have the same method signature (name and parameters) as the method in the superclass.\n",
    "\n",
    "Inheritance Relationship: Method overriding is applicable in the context of inheritance, where a subclass inherits from a superclass.\n",
    "\n",
    "Use of super(): Inside the overridden method, the super() function is often used to call the method of the superclass before\n",
    "or after adding the specific behavior of the subclass."
   ]
  },
  {
   "cell_type": "code",
   "execution_count": 27,
   "id": "96e9a7aa-046c-43d1-94fa-5cca67678192",
   "metadata": {
    "tags": []
   },
   "outputs": [
    {
     "name": "stdout",
     "output_type": "stream",
     "text": [
      "Generic animal sound\n",
      "Woof! Woof!\n"
     ]
    }
   ],
   "source": [
    "class Animal:\n",
    "    def make_sound(self):\n",
    "        print(\"Generic animal sound\")\n",
    "\n",
    "class Dog(Animal):\n",
    "    def make_sound(self):\n",
    "        # Using 'super()' to call the overridden method in the superclass\n",
    "        super().make_sound()\n",
    "        print(\"Woof! Woof!\")\n",
    "\n",
    "# Creating an instance of the Dog class\n",
    "my_dog = Dog()\n",
    "\n",
    "# Calling the overridden method in the subclass\n",
    "my_dog.make_sound()\n"
   ]
  },
  {
   "cell_type": "code",
   "execution_count": null,
   "id": "3a5b6f83-1d21-4212-a43f-f093605e1b7d",
   "metadata": {},
   "outputs": [],
   "source": [
    "5. How can you access the methods and attributes of a parent class from a child class in Python? Give an\n",
    "example.\n",
    "In Python, you can access the methods and attributes of a parent class from a child class using the super() function.\n",
    "The super() function is used to get a temporary object of the parent class,\n",
    "allowing you to call its methods or access its attributes\n"
   ]
  },
  {
   "cell_type": "code",
   "execution_count": 28,
   "id": "ab8a8720-9578-4898-8010-3617d7452a2e",
   "metadata": {
    "tags": []
   },
   "outputs": [
    {
     "name": "stdout",
     "output_type": "stream",
     "text": [
      "Parent Attribute: Parent Value\n",
      "This is a method in the parent class\n",
      "Child Attribute: Child Value\n",
      "This is a method in the parent class\n",
      "This is a method in the child class\n"
     ]
    }
   ],
   "source": [
    "class ParentClass:\n",
    "    def __init__(self, parent_attribute):\n",
    "        self.parent_attribute = parent_attribute\n",
    "\n",
    "    def parent_method(self):\n",
    "        print(\"This is a method in the parent class\")\n",
    "\n",
    "class ChildClass(ParentClass):\n",
    "    def __init__(self, parent_attribute, child_attribute):\n",
    "        # Calling the constructor of the parent class using super()\n",
    "        super().__init__(parent_attribute)\n",
    "        # Initializing the attribute specific to the child class\n",
    "        self.child_attribute = child_attribute\n",
    "\n",
    "    def child_method(self):\n",
    "        # Accessing the method of the parent class using super()\n",
    "        super().parent_method()\n",
    "        print(\"This is a method in the child class\")\n",
    "\n",
    "# Creating an instance of the ChildClass\n",
    "child_instance = ChildClass(parent_attribute=\"Parent Value\", child_attribute=\"Child Value\")\n",
    "\n",
    "# Accessing attributes and methods from both the parent and child classes\n",
    "print(\"Parent Attribute:\", child_instance.parent_attribute)\n",
    "child_instance.parent_method()\n",
    "print(\"Child Attribute:\", child_instance.child_attribute)\n",
    "child_instance.child_method()\n"
   ]
  },
  {
   "cell_type": "code",
   "execution_count": null,
   "id": "a97b34ea-a89b-45ce-b5c4-c33a5f3507a9",
   "metadata": {},
   "outputs": [],
   "source": [
    "6. Discuss the use of the `super()` function in Python inheritance. When and why is it used? Provide an\n",
    "example.\n",
    "the super() function in Python is used in the context of inheritance to access and call methods or attributes from the parent (superclass) class. \n",
    "It returns a temporary object of the superclass, allowing you to invoke its methods or access its attributes.\n",
    "The primary purpose of super() is to enable cooperative multiple inheritance and to ensure proper execution of methods in the inheritance hierarchy.\n",
    "\n",
    "Here are some key points about the use of the super() function:\n",
    "\n",
    "Accessing Parent Class Methods: super() is commonly used in child (subclass) methods to call the methods of the parent (superclass) class. \n",
    "This is particularly useful when you want to extend or override the behavior of a method in the child class while still executing the method in the parent class.\n",
    "\n",
    "Initialization in Constructors: In constructors (__init__ methods), super() is often used to call the constructor of the parent class\n",
    "before initializing attributes specific to the child class. This ensures that the initialization code in the parent class is executed.\n",
    "\n",
    "Cooperative Multiple Inheritance: super() facilitates cooperative multiple inheritance by allowing each class in the inheritance hierarchy\n",
    "to contribute its part without interfering with the behavior of other classes.\n"
   ]
  },
  {
   "cell_type": "code",
   "execution_count": 29,
   "id": "a1787a03-3840-416f-a7f1-135cf9bfb268",
   "metadata": {
    "tags": []
   },
   "outputs": [
    {
     "name": "stdout",
     "output_type": "stream",
     "text": [
      "Species: Canine\n",
      "Breed: Labrador\n",
      "Generic animal sound\n",
      "Woof! Woof!\n"
     ]
    }
   ],
   "source": [
    "class Animal:\n",
    "    def __init__(self, species):\n",
    "        self.species = species\n",
    "\n",
    "    def make_sound(self):\n",
    "        print(\"Generic animal sound\")\n",
    "\n",
    "class Dog(Animal):\n",
    "    def __init__(self, species, breed):\n",
    "        # Calling the constructor of the parent class using super()\n",
    "        super().__init__(species)\n",
    "        # Initializing the 'breed' attribute specific to the Dog class\n",
    "        self.breed = breed\n",
    "\n",
    "    def make_sound(self):\n",
    "        # Using super() to call the overridden method in the parent class\n",
    "        super().make_sound()\n",
    "        print(\"Woof! Woof!\")\n",
    "\n",
    "# Creating an instance of the Dog class\n",
    "my_dog = Dog(species=\"Canine\", breed=\"Labrador\")\n",
    "\n",
    "# Accessing attributes and methods from both the parent and child classes\n",
    "print(\"Species:\", my_dog.species)\n",
    "print(\"Breed:\", my_dog.breed)\n",
    "my_dog.make_sound()\n"
   ]
  },
  {
   "cell_type": "code",
   "execution_count": null,
   "id": "15f83543-dd00-41e5-9fdc-6b14348ab582",
   "metadata": {},
   "outputs": [],
   "source": [
    "7. Create a Python class called `Animal` with a method `speak()`. Then, create child classes `Dog` and `Cat`\n"
   ]
  },
  {
   "cell_type": "code",
   "execution_count": 30,
   "id": "c90a03cd-e2c3-4d29-a80a-d9c18e29a6ec",
   "metadata": {
    "tags": []
   },
   "outputs": [
    {
     "name": "stdout",
     "output_type": "stream",
     "text": [
      "Generic Animal:\n",
      "Generic animal sound\n",
      "\n",
      "Dog:\n",
      "Woof! Woof!\n",
      "\n",
      "Cat:\n",
      "Meow!\n"
     ]
    }
   ],
   "source": [
    "class Animal:\n",
    "    def speak(self):\n",
    "        print(\"Generic animal sound\")\n",
    "\n",
    "class Dog(Animal):\n",
    "    def speak(self):\n",
    "        print(\"Woof! Woof!\")\n",
    "\n",
    "class Cat(Animal):\n",
    "    def speak(self):\n",
    "        print(\"Meow!\")\n",
    "\n",
    "# Creating instances of the classes\n",
    "generic_animal = Animal()\n",
    "my_dog = Dog()\n",
    "my_cat = Cat()\n",
    "\n",
    "# Calling the 'speak' method on each object\n",
    "print(\"Generic Animal:\")\n",
    "generic_animal.speak()  # Output: Generic animal sound\n",
    "\n",
    "print(\"\\nDog:\")\n",
    "my_dog.speak()  # Output: Woof! Woof!\n",
    "\n",
    "print(\"\\nCat:\")\n",
    "my_cat.speak()  # Output: Meow!\n"
   ]
  },
  {
   "cell_type": "code",
   "execution_count": null,
   "id": "1b7d2f9c-3a94-4e4b-8029-dafb7ae15b34",
   "metadata": {},
   "outputs": [],
   "source": [
    "8Explain the role of the `isinstance()` function in Python and how it relates to inheritance.\n",
    "The isinstance() function in Python is used to check whether an object belongs to a particular class or is an instance of a class.\n",
    "It is often employed to determine the type of an object before\n",
    "performing specific operations or to validate input types.\n"
   ]
  },
  {
   "cell_type": "code",
   "execution_count": null,
   "id": "7ba4f63f-bdff-4059-820a-78f3a52372a0",
   "metadata": {},
   "outputs": [],
   "source": [
    "the isinstance() function is closely related to inheritance because it takes into account the class hierarchy. If a class inherits \n",
    "from another class, an instance of the subclass is considered an instance\n",
    "of both the subclass and the superclass."
   ]
  },
  {
   "cell_type": "code",
   "execution_count": 31,
   "id": "1e51d8f9-50ea-4a60-b094-68b2897a59ae",
   "metadata": {
    "tags": []
   },
   "outputs": [
    {
     "name": "stdout",
     "output_type": "stream",
     "text": [
      "True\n",
      "True\n",
      "True\n",
      "True\n",
      "True\n",
      "False\n"
     ]
    }
   ],
   "source": [
    "class Animal:\n",
    "    pass\n",
    "\n",
    "class Dog(Animal):\n",
    "    pass\n",
    "\n",
    "class Cat(Animal):\n",
    "    pass\n",
    "\n",
    "# Creating instances of the classes\n",
    "animal_instance = Animal()\n",
    "dog_instance = Dog()\n",
    "cat_instance = Cat()\n",
    "\n",
    "# Using isinstance() to check the type of objects\n",
    "print(isinstance(animal_instance, Animal))  # Output: True\n",
    "print(isinstance(dog_instance, Dog))         # Output: True\n",
    "print(isinstance(cat_instance, Cat))         # Output: True\n",
    "\n",
    "# Checking inheritance relationships\n",
    "print(isinstance(dog_instance, Animal))     # Output: True (Dog inherits from Animal)\n",
    "print(isinstance(cat_instance, Animal))     # Output: True (Cat inherits from Animal)\n",
    "print(isinstance(animal_instance, Dog))     # Output: False (Animal is not a subclass of Dog)\n"
   ]
  },
  {
   "cell_type": "code",
   "execution_count": null,
   "id": "05cdae5b-0e26-4b8e-9b6e-12cdc6847574",
   "metadata": {},
   "outputs": [],
   "source": [
    "9. What is the purpose of the `issubclass()` function in Python? Provide an example.\n",
    "The issubclass() function in Python is used to check whether a class is a subclass of another class.\n",
    "It helps determine the inheritance relationship between two classes,\n",
    "providing a way to check if one class is derived from another."
   ]
  },
  {
   "cell_type": "code",
   "execution_count": 32,
   "id": "1ea502b4-ab6b-4e35-807d-012e63b23951",
   "metadata": {
    "tags": []
   },
   "outputs": [
    {
     "name": "stdout",
     "output_type": "stream",
     "text": [
      "True\n",
      "True\n",
      "True\n",
      "False\n"
     ]
    }
   ],
   "source": [
    "class Animal:\n",
    "    pass\n",
    "\n",
    "class Mammal(Animal):\n",
    "    pass\n",
    "\n",
    "class Dog(Mammal):\n",
    "    pass\n",
    "\n",
    "# Using issubclass() to check the subclass relationship\n",
    "print(issubclass(Mammal, Animal))  # Output: True (Mammal is a subclass of Animal)\n",
    "print(issubclass(Dog, Mammal))      # Output: True (Dog is a subclass of Mammal)\n",
    "\n",
    "# Checking if a class is a subclass of multiple classes\n",
    "print(issubclass(Dog, (Animal, Mammal)))  # Output: True (Dog is a subclass of both Animal and Mammal)\n",
    "print(issubclass(Animal, (Mammal, Dog)))  # Output: False (Animal is not a subclass of Mammal or Dog)\n"
   ]
  },
  {
   "cell_type": "code",
   "execution_count": null,
   "id": "d9b211b0-904e-4843-b52b-bd8a74183c21",
   "metadata": {},
   "outputs": [],
   "source": [
    "10. Discuss the concept of constructor inheritance in Python. How are constructors inherited in child classes?\n",
    "In Python, constructor inheritance refers to the way in which child classes inherit the constructors of their parent classes.\n",
    "When a child class is created, it has the option to inherit the constructor of its parent class. The child class can then \n",
    "choose to extend or override\n",
    "the inherited constructor, allowing it to perform additional initialization specific to the child class while still benefiting\n",
    "from the parent class's initialization logic.\n",
    "\n",
    "Here are the key points related to constructor inheritance in Python:\n",
    "\n",
    "Inheritance by Default: By default, a child class inherits the constructor of its parent class if the child class does not have\n",
    "\n",
    "\n",
    "its own constructor. In this case, the child class constructor is the same as the parent class constructor.\n",
    "\n",
    "Explicit Inheritance with super(): If a child class has its own constructor and wants to explicitly call the constructor of the parent class,\n",
    "the super() function is used. This is common when you want to perform initialization in both the child and parent classes.\n",
    "\n",
    "Overriding and Extending: Child classes have the option to override the constructor of the parent class. This means providing their\n",
    "own implementation of the constructor. Alternatively, a child class can extend the constructor by calling the parent class constructor\n",
    "using super() and then adding its specific initialization."
   ]
  },
  {
   "cell_type": "code",
   "execution_count": 33,
   "id": "61817270-e192-4865-ad6a-d8596431c7cb",
   "metadata": {
    "tags": []
   },
   "outputs": [
    {
     "name": "stdout",
     "output_type": "stream",
     "text": [
      "Animal constructor for Canine\n",
      "Dog constructor for Canine, Breed: Labrador\n"
     ]
    }
   ],
   "source": [
    "class Animal:\n",
    "    def __init__(self, species):\n",
    "        self.species = species\n",
    "        print(f\"Animal constructor for {self.species}\")\n",
    "\n",
    "class Dog(Animal):\n",
    "    def __init__(self, species, breed):\n",
    "        # Calling the constructor of the parent class using super()\n",
    "        super().__init__(species)\n",
    "        # Initializing the 'breed' attribute specific to the Dog class\n",
    "        self.breed = breed\n",
    "        print(f\"Dog constructor for {self.species}, Breed: {self.breed}\")\n",
    "\n",
    "# Creating an instance of the Dog class\n",
    "my_dog = Dog(species=\"Canine\", breed=\"Labrador\")\n"
   ]
  },
  {
   "cell_type": "code",
   "execution_count": null,
   "id": "8d1a60f0-4c76-46a3-945d-587a977f8ef7",
   "metadata": {},
   "outputs": [],
   "source": [
    "11. Create a Python class called `Shape` with a method `area()` that calculates the area of a shape.\n",
    "Then, create child classes `Circle` and `Rectangle` that inherit from `Shape` and implement the `area()` method\n",
    "accordingly. Provide an example.\n"
   ]
  },
  {
   "cell_type": "code",
   "execution_count": 34,
   "id": "10c85a95-6c06-42de-a90a-547a3a799150",
   "metadata": {
    "tags": []
   },
   "outputs": [
    {
     "name": "stdout",
     "output_type": "stream",
     "text": [
      "Circle Area: 78.53981633974483\n",
      "Rectangle Area: 24\n"
     ]
    }
   ],
   "source": [
    "import math\n",
    "\n",
    "class Shape:\n",
    "    def area(self):\n",
    "        pass  # Placeholder for the area method to be implemented in the subclasses\n",
    "\n",
    "class Circle(Shape):\n",
    "    def __init__(self, radius):\n",
    "        self.radius = radius\n",
    "\n",
    "    def area(self):\n",
    "        # Implementing the area calculation for a circle\n",
    "        return math.pi * self.radius**2\n",
    "\n",
    "class Rectangle(Shape):\n",
    "    def __init__(self, width, height):\n",
    "        self.width = width\n",
    "        self.height = height\n",
    "\n",
    "    def area(self):\n",
    "        # Implementing the area calculation for a rectangle\n",
    "        return self.width * self.height\n",
    "\n",
    "# Creating instances of the classes\n",
    "circle_instance = Circle(radius=5)\n",
    "rectangle_instance = Rectangle(width=4, height=6)\n",
    "\n",
    "# Calculating and displaying the area for each shape\n",
    "print(\"Circle Area:\", circle_instance.area())\n",
    "print(\"Rectangle Area:\", rectangle_instance.area())\n"
   ]
  },
  {
   "cell_type": "code",
   "execution_count": null,
   "id": "ccb6a3e5-3398-416c-a135-47080152e9d0",
   "metadata": {},
   "outputs": [],
   "source": [
    "12. Explain the use of abstract base classes (ABCs) in Python and how they relate to inheritance. Provide an\n",
    "example using the `abc` module.\n",
    "\n",
    "Abstract Base Classes (ABCs) in Python provide a way to define abstract classes and abstract methods. An abstract class is a class that cannot\n",
    "be instantiated and is meant to be subclassed by other classes. Abstract methods declared in an abstract class must be implemented\n",
    "by any concrete (non-abstract) subclasses. ABCs serve as a form of interface or contract that enforces certain behaviors in the derived classes.\n",
    "\n",
    "The abc module in Python provides the ABC class, which is used as a metaclass for creating abstract base classes, and the abstractmethod decorator,\n",
    "which is used to declare abstract methods.\n"
   ]
  },
  {
   "cell_type": "code",
   "execution_count": 35,
   "id": "25934ebe-3717-4c65-a626-bf7e241fd6a4",
   "metadata": {
    "tags": []
   },
   "outputs": [
    {
     "name": "stdout",
     "output_type": "stream",
     "text": [
      "Circle Area: 78.5\n",
      "Rectangle Area: 24\n"
     ]
    }
   ],
   "source": [
    "from abc import ABC, abstractmethod\n",
    "\n",
    "# Define an abstract base class 'Shape'\n",
    "class Shape(ABC):\n",
    "    @abstractmethod\n",
    "    def area(self):\n",
    "        pass\n",
    "\n",
    "# Concrete subclass 'Circle' that inherits from 'Shape'\n",
    "class Circle(Shape):\n",
    "    def __init__(self, radius):\n",
    "        self.radius = radius\n",
    "\n",
    "    def area(self):\n",
    "        return 3.14 * self.radius**2\n",
    "\n",
    "# Concrete subclass 'Rectangle' that inherits from 'Shape'\n",
    "class Rectangle(Shape):\n",
    "    def __init__(self, width, height):\n",
    "        self.width = width\n",
    "        self.height = height\n",
    "\n",
    "    def area(self):\n",
    "        return self.width * self.height\n",
    "\n",
    "# Creating instances of the concrete subclasses\n",
    "circle_instance = Circle(radius=5)\n",
    "rectangle_instance = Rectangle(width=4, height=6)\n",
    "\n",
    "# Calculating and displaying the area for each shape\n",
    "print(\"Circle Area:\", circle_instance.area())\n",
    "print(\"Rectangle Area:\", rectangle_instance.area())\n"
   ]
  },
  {
   "cell_type": "code",
   "execution_count": null,
   "id": "709a0b79-8bc3-42ba-a753-7f4e811fe438",
   "metadata": {},
   "outputs": [],
   "source": [
    "13. How can you prevent a child class from modifying certain attributes or methods inherited from a parent\n",
    "class in Python?\n",
    "In Python, you can prevent a child class from modifying certain attributes or methods inherited from a parent class by \n",
    "using encapsulation and access modifiers. Encapsulation involves restricting access to certain attributes or methods by\n",
    "marking them as private or protected. Access modifiers such as _ (single underscore) and __ (double underscore) \n",
    "can be used to signify the intended visibility of attributes or methods.\n"
   ]
  },
  {
   "cell_type": "code",
   "execution_count": 36,
   "id": "525f9446-af0e-4a5a-8624-53b7c4ddee45",
   "metadata": {
    "tags": []
   },
   "outputs": [
    {
     "name": "stdout",
     "output_type": "stream",
     "text": [
      "I am protected\n",
      "This is a protected method\n",
      "I am protected\n",
      "This is a protected method\n"
     ]
    }
   ],
   "source": [
    "class ParentClass:\n",
    "    def __init__(self):\n",
    "        self._protected_attribute = \"I am protected\"\n",
    "\n",
    "    def _protected_method(self):\n",
    "        print(\"This is a protected method\")\n",
    "\n",
    "class ChildClass(ParentClass):\n",
    "    def access_protected(self):\n",
    "        print(self._protected_attribute)\n",
    "        self._protected_method()\n",
    "\n",
    "# Creating instances of the classes\n",
    "parent_instance = ParentClass()\n",
    "child_instance = ChildClass()\n",
    "\n",
    "# Accessing protected attribute and method\n",
    "print(parent_instance._protected_attribute)  # Output: I am protected\n",
    "parent_instance._protected_method()           # Output: This is a protected method\n",
    "\n",
    "child_instance.access_protected()             # Output: I am protected, This is a protected method\n"
   ]
  },
  {
   "cell_type": "code",
   "execution_count": 37,
   "id": "2ae4e38c-0a5e-4299-af88-31e7c9f86172",
   "metadata": {
    "tags": []
   },
   "outputs": [
    {
     "name": "stdout",
     "output_type": "stream",
     "text": [
      "I am private\n",
      "This is a private method\n",
      "I am private\n",
      "This is a private method\n"
     ]
    }
   ],
   "source": [
    "class ParentClass:\n",
    "    def __init__(self):\n",
    "        self.__private_attribute = \"I am private\"\n",
    "\n",
    "    def __private_method(self):\n",
    "        print(\"This is a private method\")\n",
    "\n",
    "class ChildClass(ParentClass):\n",
    "    def access_private(self):\n",
    "        # The name-mangled attribute and method\n",
    "        print(self._ParentClass__private_attribute)\n",
    "        self._ParentClass__private_method()\n",
    "\n",
    "# Creating instances of the classes\n",
    "parent_instance = ParentClass()\n",
    "child_instance = ChildClass()\n",
    "\n",
    "# Accessing private attribute and method (with name-mangling)\n",
    "print(parent_instance._ParentClass__private_attribute)  # Output: I am private\n",
    "parent_instance._ParentClass__private_method()           # Output: This is a private method\n",
    "\n",
    "child_instance.access_private()                           # Output: I am private, This is a private method\n"
   ]
  },
  {
   "cell_type": "code",
   "execution_count": null,
   "id": "cda17ed1-4843-40e9-a81b-6a0126171eb6",
   "metadata": {},
   "outputs": [],
   "source": [
    "14. Create a Python class called `Employee` with attributes `name` and `salary`. Then, create a child class\n",
    "`Manager` that inherits from `Employee` and adds an attribute `department`. Provide an example.\n"
   ]
  },
  {
   "cell_type": "code",
   "execution_count": 38,
   "id": "614e4750-0570-418a-9a19-369fecf9cea4",
   "metadata": {
    "tags": []
   },
   "outputs": [
    {
     "name": "stdout",
     "output_type": "stream",
     "text": [
      "Name: John Doe\n",
      "Salary: 75000\n",
      "Department: Human Resources\n"
     ]
    }
   ],
   "source": [
    "class Employee:\n",
    "    def __init__(self, name, salary):\n",
    "        self.name = name\n",
    "        self.salary = salary\n",
    "\n",
    "class Manager(Employee):\n",
    "    def __init__(self, name, salary, department):\n",
    "        # Calling the constructor of the parent class using super()\n",
    "        super().__init__(name, salary)\n",
    "        # Initializing the 'department' attribute specific to the Manager class\n",
    "        self.department = department\n",
    "\n",
    "# Creating an instance of the Manager class\n",
    "manager_instance = Manager(name=\"John Doe\", salary=75000, department=\"Human Resources\")\n",
    "\n",
    "# Accessing attributes from both the parent and child classes\n",
    "print(\"Name:\", manager_instance.name)\n",
    "print(\"Salary:\", manager_instance.salary)\n",
    "print(\"Department:\", manager_instance.department)\n"
   ]
  },
  {
   "cell_type": "code",
   "execution_count": null,
   "id": "8a20d901-76e7-427b-a670-c5cc943fb5f6",
   "metadata": {},
   "outputs": [],
   "source": [
    "15. Discuss the concept of method overloading in Python inheritance. How does it differ from method\n",
    "overriding?\n",
    "Method Overloading:\n",
    "Method overloading refers to the ability to define multiple methods in a class with the same name but with \n",
    "different parameters. Python does not natively support traditional method overloading based on the number or \n",
    "types of parameters, as seen in some other programming languages like Java or C++. However, Python allows a form of method overloading \n",
    "through default values and variable-length argument lists.\n"
   ]
  },
  {
   "cell_type": "code",
   "execution_count": 39,
   "id": "d0bdf35f-487d-4b7e-94b8-af1fe7befe9f",
   "metadata": {
    "tags": []
   },
   "outputs": [
    {
     "name": "stdout",
     "output_type": "stream",
     "text": [
      "5\n",
      "10\n"
     ]
    }
   ],
   "source": [
    "class Calculator:\n",
    "    def add(self, a, b=0):\n",
    "        return a + b\n",
    "\n",
    "# Creating an instance of the Calculator class\n",
    "calc = Calculator()\n",
    "\n",
    "# Calling the add method with one or two arguments\n",
    "result1 = calc.add(5)\n",
    "result2 = calc.add(3, 7)\n",
    "\n",
    "print(result1)  # Output: 5\n",
    "print(result2)  # Output: 10\n"
   ]
  },
  {
   "cell_type": "code",
   "execution_count": null,
   "id": "049a53e7-ec82-4178-b921-f2cf6530eac2",
   "metadata": {},
   "outputs": [],
   "source": [
    "Method Overriding:\n",
    "Method overriding occurs when a subclass provides a specific implementation for a method that is already\n",
    "defined in its superclass. The overriding method must have the same name,\n",
    "return type, and parameters as the method in the superclass."
   ]
  },
  {
   "cell_type": "code",
   "execution_count": 40,
   "id": "eba950c6-8309-41f2-aa9d-59d8dce70185",
   "metadata": {
    "tags": []
   },
   "outputs": [
    {
     "name": "stdout",
     "output_type": "stream",
     "text": [
      "Woof! Woof!\n"
     ]
    }
   ],
   "source": [
    "class Animal:\n",
    "    def make_sound(self):\n",
    "        print(\"Generic animal sound\")\n",
    "\n",
    "class Dog(Animal):\n",
    "    def make_sound(self):\n",
    "        print(\"Woof! Woof!\")\n",
    "\n",
    "# Creating an instance of the Dog class\n",
    "my_dog = Dog()\n",
    "\n",
    "# Calling the overridden make_sound method\n",
    "my_dog.make_sound()  # Output: Woof! Woof!\n"
   ]
  },
  {
   "cell_type": "code",
   "execution_count": null,
   "id": "261cf027-bd96-4a6b-95e0-41d85f1a78d2",
   "metadata": {},
   "outputs": [],
   "source": [
    "Key Differences:\n",
    "Parameters and Name:\n",
    "\n",
    "Method overloading involves defining multiple methods with the same name but different parameters or parameter types.\n",
    "Method overriding involves providing a specific implementation for a method that already exists in the superclass, with the same method name and parameters.\n",
    "Support in Python:\n",
    "\n",
    "Method overloading in Python is achieved using default values or variable-length argument lists.\n",
    "Method overriding in Python is a standard feature of object-oriented programming, where a subclass can override methods of its superclass.\n",
    "Invocation:\n",
    "\n",
    "In method overloading, the appropriate method is selected based on the number or types of arguments during the method invocation.\n",
    "In method overriding, the method of the actual object type (runtime type) is called."
   ]
  },
  {
   "cell_type": "code",
   "execution_count": null,
   "id": "7bfb46e9-af1e-4790-ad66-8ee05b1cc7e4",
   "metadata": {},
   "outputs": [],
   "source": [
    "16. Explain the purpose of the `__init__()` method in Python inheritance and how it is utilized in child classes.\n",
    "The __init__() method in Python is a special method, also known as the constructor, that is automatically called when an object is created\n",
    "from a class. It plays a crucial role in initializing the attributes or properties of the object, allowing you to set up the initial state of the object.\n",
    "\n",
    "In the context of inheritance, the __init__() method is often used in both the parent (superclass) and child (subclass) classes \n",
    "to ensure proper initialization of attributes. The child class can call the __init__() method of the parent class using the super() function, \n",
    "ensuring that the initialization\n",
    "logic of both classes is executed.\n"
   ]
  },
  {
   "cell_type": "code",
   "execution_count": 41,
   "id": "4acb95c8-c132-420f-a7ed-9dc17f278844",
   "metadata": {
    "tags": []
   },
   "outputs": [
    {
     "name": "stdout",
     "output_type": "stream",
     "text": [
      "Animal initialized with species: Canine\n",
      "Dog initialized with species: Canine, breed: Labrador\n"
     ]
    }
   ],
   "source": [
    "class Animal:\n",
    "    def __init__(self, species):\n",
    "        self.species = species\n",
    "        print(f\"Animal initialized with species: {self.species}\")\n",
    "\n",
    "class Dog(Animal):\n",
    "    def __init__(self, species, breed):\n",
    "        # Calling the __init__() method of the parent class using super()\n",
    "        super().__init__(species)\n",
    "        self.breed = breed\n",
    "        print(f\"Dog initialized with species: {self.species}, breed: {self.breed}\")\n",
    "\n",
    "# Creating an instance of the Dog class\n",
    "my_dog = Dog(species=\"Canine\", breed=\"Labrador\")\n"
   ]
  },
  {
   "cell_type": "code",
   "execution_count": null,
   "id": "525072e6-a2d7-4ab7-b91e-babfb6a12fac",
   "metadata": {},
   "outputs": [],
   "source": [
    "17. Create a Python class called `Bird` with a method `fly()`. Then, create child classes `Eagle` and `Sparrow` that inherit from `Bird` and\n",
    "implement the `fly()` method differently. Provide an example of using these\n",
    "classes.\n"
   ]
  },
  {
   "cell_type": "code",
   "execution_count": 42,
   "id": "b2ab5809-657e-4f51-95d3-185805a31804",
   "metadata": {
    "tags": []
   },
   "outputs": [
    {
     "name": "stdout",
     "output_type": "stream",
     "text": [
      "Generic Bird:\n",
      "Generic bird flying\n",
      "\n",
      "Eagle:\n",
      "Eagle soaring through the sky\n",
      "\n",
      "Sparrow:\n",
      "Sparrow flapping its wings and flying\n"
     ]
    }
   ],
   "source": [
    "class Bird:\n",
    "    def fly(self):\n",
    "        print(\"Generic bird flying\")\n",
    "\n",
    "class Eagle(Bird):\n",
    "    def fly(self):\n",
    "        print(\"Eagle soaring through the sky\")\n",
    "\n",
    "class Sparrow(Bird):\n",
    "    def fly(self):\n",
    "        print(\"Sparrow flapping its wings and flying\")\n",
    "\n",
    "# Creating instances of the classes\n",
    "generic_bird = Bird()\n",
    "eagle_instance = Eagle()\n",
    "sparrow_instance = Sparrow()\n",
    "\n",
    "# Calling the fly method for each type of bird\n",
    "print(\"Generic Bird:\")\n",
    "generic_bird.fly()  # Output: Generic bird flying\n",
    "\n",
    "print(\"\\nEagle:\")\n",
    "eagle_instance.fly()  # Output: Eagle soaring through the sky\n",
    "\n",
    "print(\"\\nSparrow:\")\n",
    "sparrow_instance.fly()  # Output: Sparrow flapping its wings and flying\n"
   ]
  },
  {
   "cell_type": "code",
   "execution_count": null,
   "id": "acc00944-c8a5-4bcc-a6de-6444223f4992",
   "metadata": {},
   "outputs": [],
   "source": [
    "18. What is the \"diamond problem\" in multiple inheritance, and how does Python address it?\n",
    "The \"diamond problem\" is a challenge that can arise in programming languages that support multiple inheritance.\n",
    "It occurs when a class inherits from two classes that have a common ancestor. This creates an ambiguity when calling methods or accessing attributes\n",
    "from the shared ancestor through the derived class."
   ]
  },
  {
   "cell_type": "code",
   "execution_count": null,
   "id": "ea3dbc58-f25e-469a-ae5f-7c03cdea8625",
   "metadata": {},
   "outputs": [],
   "source": [
    "Here's a visual representation of the diamond problem:\n",
    "\n",
    "\n",
    "      A\n",
    "     / \\\n",
    "    B   C\n",
    "     \\ /\n",
    "      D\n",
    "In this diagram:\n",
    "\n",
    "Class D inherits from both classes B and C.\n",
    "Both B and C individually inherit from the common ancestor A.\n",
    "The issue arises when trying to access a method or attribute from class A through class D. Since D has multiple paths to reach A \n",
    "through both B and C, it is unclear which path should be followed.\n",
    "\n",
    "How Python Addresses the Diamond Problem:\n",
    "Python addresses the diamond problem using a mechanism called Method Resolution Order (MRO). The MRO defines the order in which base\n",
    "classes are considered when looking for a method or attribute in a class hierarchy.\n",
    "\n",
    "In Python, the C3 linearization algorithm is used to determine the MRO. The MRO is computed based on the following principles:\n",
    "\n",
    "Depth-First Search (DFS): The MRO follows a depth-first search approach.\n",
    "Left-to-Right: When there are multiple paths, the algorithm prefers the leftmost path."
   ]
  },
  {
   "cell_type": "code",
   "execution_count": 44,
   "id": "3030bae7-68da-498a-be09-f1b11a12dcd4",
   "metadata": {
    "tags": []
   },
   "outputs": [
    {
     "name": "stdout",
     "output_type": "stream",
     "text": [
      "Method in class C\n"
     ]
    }
   ],
   "source": [
    "class A:\n",
    "    def method(self):\n",
    "        print(\"Method in class A\")\n",
    "\n",
    "class B(A):\n",
    "    pass\n",
    "\n",
    "class C(A):\n",
    "    def method(self):\n",
    "        print(\"Method in class C\")\n",
    "\n",
    "class D(B, C):\n",
    "    pass\n",
    "\n",
    "# Creating an instance of class D\n",
    "obj_d = D()\n",
    "\n",
    "# Calling the method from class A through class D\n",
    "obj_d.method()\n"
   ]
  },
  {
   "cell_type": "code",
   "execution_count": null,
   "id": "44e7d19d-a6be-4ddf-811f-601141c77fac",
   "metadata": {},
   "outputs": [],
   "source": [
    "in this example:\n",
    "\n",
    "Class D inherits from both classes B and C.\n",
    "The MRO for class D is determined as [D, B, C, A].\n",
    "When calling the method() from class A through an instance of class D, Python follows the MRO, and since class B appears before C,\n",
    "it uses the method from class A through class B."
   ]
  },
  {
   "cell_type": "code",
   "execution_count": null,
   "id": "8840d770-e678-4b6f-85b6-ee1921ca8e5c",
   "metadata": {},
   "outputs": [],
   "source": [
    "19. Discuss the concept of \"is-a\" and \"has-a\" relationships in inheritance, and provide examples of each.\n",
    "In object-oriented programming, the concepts of \"is-a\" and \"has-a\" relationships are associated with inheritance and composition,\n",
    "respectively. These relationships describe the nature of connections between\n",
    "classes in an inheritance hierarchy or through composition.\n",
    "\n",
    "\"is-a\" Relationship (Inheritance):\n",
    "The \"is-a\" relationship represents an inheritance relationship between classes, indicating that one class is a subtype or \n",
    "specialization of another. It emphasizes the idea that an object of a derived class is a type of object of the base class."
   ]
  },
  {
   "cell_type": "code",
   "execution_count": 45,
   "id": "7d1a157b-b370-4827-9fdc-07d3eceb4629",
   "metadata": {
    "tags": []
   },
   "outputs": [
    {
     "name": "stdout",
     "output_type": "stream",
     "text": [
      "Generic animal sound\n",
      "Woof! Woof!\n"
     ]
    }
   ],
   "source": [
    "class Animal:\n",
    "    def speak(self):\n",
    "        print(\"Generic animal sound\")\n",
    "\n",
    "class Dog(Animal):\n",
    "    def bark(self):\n",
    "        print(\"Woof! Woof!\")\n",
    "\n",
    "# \"Dog is-a Animal\" - Dog inherits from Animal\n",
    "my_dog = Dog()\n",
    "my_dog.speak()  # Output: Generic animal sound\n",
    "my_dog.bark()   # Output: Woof! Woof!\n"
   ]
  },
  {
   "cell_type": "code",
   "execution_count": null,
   "id": "d60f807c-f467-455e-94f8-0cb3c14d0125",
   "metadata": {},
   "outputs": [],
   "source": [
    "In this example, Dog is a subclass of Animal, and the \"is-a\" relationship is expressed through inheritance.\n",
    "A Dog is a type of Animal, and it inherits the speak() method from the base class."
   ]
  },
  {
   "cell_type": "code",
   "execution_count": null,
   "id": "aa64445d-306a-4023-81bd-ed8625b47724",
   "metadata": {},
   "outputs": [],
   "source": [
    "\"has-a\" Relationship (Composition):\n",
    "The \"has-a\" relationship represents a composition or containment relationship between classes, indicating that one class\n",
    "has another class as a component or part. It emphasizes the idea that an object \n",
    "of one class has an object of another class."
   ]
  },
  {
   "cell_type": "code",
   "execution_count": 46,
   "id": "c99aaea1-daf4-4ce0-8035-54f19008b37f",
   "metadata": {
    "tags": []
   },
   "outputs": [
    {
     "name": "stdout",
     "output_type": "stream",
     "text": [
      "Car is in motion\n",
      "Engine started\n"
     ]
    }
   ],
   "source": [
    "class Engine:\n",
    "    def start(self):\n",
    "        print(\"Engine started\")\n",
    "\n",
    "class Car:\n",
    "    def __init__(self):\n",
    "        # \"Car has-a Engine\" - Composition\n",
    "        self.engine = Engine()\n",
    "\n",
    "    def drive(self):\n",
    "        print(\"Car is in motion\")\n",
    "\n",
    "# Creating an instance of Car\n",
    "my_car = Car()\n",
    "my_car.drive()      # Output: Car is in motion\n",
    "my_car.engine.start()  # Output: Engine started\n"
   ]
  },
  {
   "cell_type": "code",
   "execution_count": null,
   "id": "0892bb23-1267-4eb9-98ac-7db67be1d70f",
   "metadata": {},
   "outputs": [],
   "source": [
    "In this example, Car has an \"has-a\" relationship with Engine through composition. The Car class contains an \n",
    "instance of the Engine class as one of its components. The drive() method of Car indicates that the car is in motion, and the start() \n",
    "method of the Engine can be called as it is part of the car."
   ]
  },
  {
   "cell_type": "code",
   "execution_count": null,
   "id": "57877e5b-b914-40bf-ba85-8915cdc6f263",
   "metadata": {},
   "outputs": [],
   "source": [
    "20. Create a Python class hierarchy for a university system. Start with a base class `Person` and create child\n",
    "classes `Student` and `Professor`, each with their own attributes and methods. Provide an example of using\n",
    "these classes in a university context.\n"
   ]
  },
  {
   "cell_type": "code",
   "execution_count": 47,
   "id": "c01b0f7c-45ba-44a8-ba6e-bfa366c23c29",
   "metadata": {
    "tags": []
   },
   "outputs": [
    {
     "name": "stdout",
     "output_type": "stream",
     "text": [
      "Student Information:\n",
      "Name: Alice, Age: 20\n",
      "Student ID: S12345\n",
      "\n",
      "Professor Information:\n",
      "Name: Dr. Smith, Age: 40\n",
      "Employee ID: P9876\n",
      "Alice is studying Computer Science\n",
      "Dr. Smith is teaching Data Structures\n"
     ]
    }
   ],
   "source": [
    "class Person:\n",
    "    def __init__(self, name, age):\n",
    "        self.name = name\n",
    "        self.age = age\n",
    "\n",
    "    def display_info(self):\n",
    "        print(f\"Name: {self.name}, Age: {self.age}\")\n",
    "\n",
    "\n",
    "class Student(Person):\n",
    "    def __init__(self, name, age, student_id):\n",
    "        super().__init__(name, age)\n",
    "        self.student_id = student_id\n",
    "\n",
    "    def display_info(self):\n",
    "        super().display_info()\n",
    "        print(f\"Student ID: {self.student_id}\")\n",
    "\n",
    "    def study(self, subject):\n",
    "        print(f\"{self.name} is studying {subject}\")\n",
    "\n",
    "\n",
    "class Professor(Person):\n",
    "    def __init__(self, name, age, employee_id):\n",
    "        super().__init__(name, age)\n",
    "        self.employee_id = employee_id\n",
    "\n",
    "    def display_info(self):\n",
    "        super().display_info()\n",
    "        print(f\"Employee ID: {self.employee_id}\")\n",
    "\n",
    "    def teach(self, subject):\n",
    "        print(f\"{self.name} is teaching {subject}\")\n",
    "\n",
    "\n",
    "# Example usage:\n",
    "\n",
    "# Creating instances of the classes\n",
    "student1 = Student(name=\"Alice\", age=20, student_id=\"S12345\")\n",
    "professor1 = Professor(name=\"Dr. Smith\", age=40, employee_id=\"P9876\")\n",
    "\n",
    "# Displaying information\n",
    "print(\"Student Information:\")\n",
    "student1.display_info()\n",
    "print(\"\\nProfessor Information:\")\n",
    "professor1.display_info()\n",
    "\n",
    "# Performing student and professor specific actions\n",
    "student1.study(\"Computer Science\")\n",
    "professor1.teach(\"Data Structures\")\n"
   ]
  },
  {
   "cell_type": "code",
   "execution_count": null,
   "id": "17b8a60a-9306-472d-88dc-254339522a1a",
   "metadata": {},
   "outputs": [],
   "source": [
    "In this example:\n",
    "\n",
    "The Person class is the base class with attributes name and age and a method display_info() to display information about a person.\n",
    "\n",
    "The Student class is a subclass of Person with an additional attribute student_id. It overrides the display_info()\n",
    "method to include student-specific information and has a method study() for studying a particular subject.\n",
    "\n",
    "The Professor class is another subclass of Person with an additional attribute employee_id. It also overrides the\n",
    "display_info() method to include professor-specific information and has a method teach() for teaching a particular subject.\n",
    "\n",
    "Instances of the Student and Professor classes are created, and their information is displayed. They also perform actions specific to their roles."
   ]
  },
  {
   "cell_type": "code",
   "execution_count": null,
   "id": "4e5354e1-e6a3-4297-86db-723e2ce129d9",
   "metadata": {},
   "outputs": [],
   "source": [
    "Encapsulation:\n",
    "1. Explain the concept of encapsulation in Python. What is its role in object-oriented programming?\n",
    "Encapsulation is one of the fundamental concepts in object-oriented programming (OOP) that involves bundling data (attributes) and the methods\n",
    "(functions) that operate on the data into a single unit called a class. The main idea behind encapsulation is to restrict \n",
    "access to the internal details of an object and only expose what is necessary for the outside world to interact with it. This helps in achieving\n",
    "\n",
    "data hiding and abstraction.\n",
    "\n",
    "Key aspects of encapsulation:\n",
    "Data Hiding: Encapsulation allows the internal details (attributes) of an object to be hidden from the outside world. Only the methods of the \n",
    "class can access and manipulate the data, providing a level of security and preventing direct access to the internal state of an object.\n",
    "\n",
    "Abstraction: Encapsulation also involves the concept of abstraction, where only essential features of an object are exposed while hiding the\n",
    "unnecessary details. This allows users of the class to interact with the object using a well-defined interface, without needing to understand\n",
    "its internal implementation.\n",
    "\n",
    "Access Control: Encapsulation enables control over the access to the attributes and methods of a class. Access modifiers\n",
    "(public, private, protected) help define the visibility of members, determining whether they can be accessed from outside\n",
    "the class or only from within the class\n",
    "\n",
    "Encapsulation promotes modular design, code organization, and reduces the likelihood of unintended interference with the internal\n",
    "workings of an object. It is a key principle in building maintainable,\n",
    "scalable, and secure object-oriented systems."
   ]
  },
  {
   "cell_type": "code",
   "execution_count": 48,
   "id": "b7402185-3713-4e57-a4d5-d421d0b2d9d4",
   "metadata": {
    "tags": []
   },
   "outputs": [
    {
     "name": "stdout",
     "output_type": "stream",
     "text": [
      "Deposited 500 units. New balance: 1500\n",
      "Withdrew 200 units. New balance: 1300\n",
      "Current Balance: 1300\n"
     ]
    }
   ],
   "source": [
    "class BankAccount:\n",
    "    def __init__(self, account_holder, balance):\n",
    "        # Private attributes\n",
    "        self._account_holder = account_holder\n",
    "        self._balance = balance\n",
    "\n",
    "    # Public methods for interacting with the object\n",
    "    def deposit(self, amount):\n",
    "        self._balance += amount\n",
    "        print(f\"Deposited {amount} units. New balance: {self._balance}\")\n",
    "\n",
    "    def withdraw(self, amount):\n",
    "        if amount <= self._balance:\n",
    "            self._balance -= amount\n",
    "            print(f\"Withdrew {amount} units. New balance: {self._balance}\")\n",
    "        else:\n",
    "            print(\"Insufficient funds.\")\n",
    "\n",
    "    def get_balance(self):\n",
    "        return self._balance\n",
    "\n",
    "# Example usage\n",
    "account = BankAccount(account_holder=\"John Doe\", balance=1000)\n",
    "\n",
    "# Accessing public methods, while encapsulating the internal details\n",
    "account.deposit(500)\n",
    "account.withdraw(200)\n",
    "print(\"Current Balance:\", account.get_balance())\n"
   ]
  },
  {
   "cell_type": "code",
   "execution_count": null,
   "id": "7c7bfff1-c58d-4643-8703-17452589eae2",
   "metadata": {},
   "outputs": [],
   "source": [
    "In this example, the BankAccount class encapsulates the attributes _account_holder and _balance. These attributes \n",
    "are marked as private by convention (using a single leading underscore), and direct access to them is discouraged.\n",
    "Public methods (deposit, withdraw, and get_balance) provide a controlled way to interact\n",
    "with and manipulate the internal state of the object."
   ]
  },
  {
   "cell_type": "code",
   "execution_count": null,
   "id": "fb2c04d2-c1cc-4b44-a9a3-e3e20f2b3c9a",
   "metadata": {},
   "outputs": [],
   "source": [
    "2. Describe the key principles of encapsulation, including access control and data hiding.\n",
    "1. Access Control:\n",
    "Access control refers to the mechanisms that restrict or grant access to the members (attributes and methods) of a class.\n",
    "It involves specifying the visibility of class members to other parts of the program. The three main access modifiers\n",
    "commonly used in object-oriented languages, including Python, are:\n",
    "\n",
    "Public (public): Members declared as public are accessible from any part of the program. They form the external interface of the class.\n",
    "\n",
    "\n",
    "class MyClass:\n",
    "    def public_method(self):\n",
    "        print(\"This is a public method\")\n",
    "\n",
    "obj = MyClass()\n",
    "obj.public_method()\n",
    "Private (private): Members declared as private are only accessible within the class. They are hidden from external access.\n",
    "\n",
    "\n",
    "class MyClass:\n",
    "    def __init__(self):\n",
    "        self._private_attribute = 42  # By convention, a single leading underscore indicates \"protected\"\n",
    "\n",
    "    def _private_method(self):\n",
    "        print(\"This is a private method\")\n",
    "\n",
    "obj = MyClass()\n",
    "print(obj._private_attribute)  # Accessing a \"protected\" attribute (by convention)\n",
    "obj._private_method()          # Accessing a \"protected\" method (by convention)\n",
    "Protected (protected): Members declared as protected are accessible within the class and its subclasses. \n",
    "By convention, a single leading underscore is used to indicate \"protected.\""
   ]
  },
  {
   "cell_type": "code",
   "execution_count": 49,
   "id": "4f93929d-88e5-4b92-b76d-853ed5265dee",
   "metadata": {
    "tags": []
   },
   "outputs": [
    {
     "name": "stdout",
     "output_type": "stream",
     "text": [
      "42\n"
     ]
    }
   ],
   "source": [
    "class MyBaseClass:\n",
    "    def __init__(self):\n",
    "        self._protected_attribute = 42\n",
    "\n",
    "    def _protected_method(self):\n",
    "        print(\"This is a protected method\")\n",
    "\n",
    "class MyDerivedClass(MyBaseClass):\n",
    "    def access_protected(self):\n",
    "        print(self._protected_attribute)  # Accessing a \"protected\" attribute from the base class\n",
    "\n",
    "obj = MyDerivedClass()\n",
    "obj.access_protected()\n"
   ]
  },
  {
   "cell_type": "code",
   "execution_count": null,
   "id": "530999dc-8972-4bd9-8dd6-915c3cbdd752",
   "metadata": {},
   "outputs": [],
   "source": [
    " Data Hiding:\n",
    "Data hiding involves restricting direct access to the internal state (attributes) of a class. It promotes the principle \n",
    "of information hiding, where the implementation details are concealed,\n",
    "and only the necessary information is exposed through a well-defined interface.\n",
    "\n",
    "By convention, a single leading underscore (_) in Python is used to indicate that an attribute or method is intended for \n",
    "internal use within the class or its subclasses. \n",
    "It signals to other developers that direct access should be avoided."
   ]
  },
  {
   "cell_type": "code",
   "execution_count": 50,
   "id": "87ae75bc-f05e-4ac6-bbfd-d88fd71e8ed8",
   "metadata": {
    "tags": []
   },
   "outputs": [
    {
     "name": "stdout",
     "output_type": "stream",
     "text": [
      "This is internal data\n",
      "This is internal data\n"
     ]
    }
   ],
   "source": [
    "class MyClass:\n",
    "    def __init__(self):\n",
    "        self._internal_data = \"This is internal data\"\n",
    "\n",
    "    def get_data(self):\n",
    "        return self._internal_data\n",
    "\n",
    "# Example usage\n",
    "obj = MyClass()\n",
    "print(obj.get_data())       # Using a public method to access internal data\n",
    "print(obj._internal_data)   # Avoiding direct access to internal data (by convention)\n"
   ]
  },
  {
   "cell_type": "code",
   "execution_count": null,
   "id": "67825a3c-5972-4d09-a49b-613201a9c016",
   "metadata": {},
   "outputs": [],
   "source": [
    "3 How can you achieve encapsulation in Python classes? Provide an example.\n",
    "Encapsulation in Python classes is achieved through the use of access control and data hiding.\n",
    "Key techniques include defining private attributes or methods, using access modifiers,\n",
    "and providing public methods to interact with the internal state of an object. "
   ]
  },
  {
   "cell_type": "code",
   "execution_count": 51,
   "id": "a5742f26-053a-4e16-af42-553dc862a78b",
   "metadata": {
    "tags": []
   },
   "outputs": [
    {
     "name": "stdout",
     "output_type": "stream",
     "text": [
      "Make: Toyota\n",
      "Model: Camry\n",
      "Year: 2022\n",
      "Year updated to 2023\n",
      "Direct access - Make: Toyota\n"
     ]
    }
   ],
   "source": [
    "class Car:\n",
    "    def __init__(self, make, model, year):\n",
    "        # Private attributes (data hiding)\n",
    "        self._make = make  # By convention, a single leading underscore indicates \"protected\"\n",
    "        self._model = model\n",
    "        self._year = year\n",
    "\n",
    "    # Public methods to access or modify private attributes\n",
    "    def get_make(self):\n",
    "        return self._make\n",
    "\n",
    "    def get_model(self):\n",
    "        return self._model\n",
    "\n",
    "    def get_year(self):\n",
    "        return self._year\n",
    "\n",
    "    def set_year(self, new_year):\n",
    "        if new_year > 0:\n",
    "            self._year = new_year\n",
    "            print(f\"Year updated to {new_year}\")\n",
    "        else:\n",
    "            print(\"Invalid year. Please provide a positive value.\")\n",
    "\n",
    "# Example usage\n",
    "my_car = Car(make=\"Toyota\", model=\"Camry\", year=2022)\n",
    "\n",
    "# Accessing private attributes using public methods\n",
    "print(\"Make:\", my_car.get_make())\n",
    "print(\"Model:\", my_car.get_model())\n",
    "print(\"Year:\", my_car.get_year())\n",
    "\n",
    "# Modifying a private attribute using a public method\n",
    "my_car.set_year(new_year=2023)\n",
    "\n",
    "# Attempting to access private attributes directly (not recommended)\n",
    "# Avoiding direct access to private attributes (by convention)\n",
    "# Note: Direct access is still possible, but it's discouraged.\n",
    "print(\"Direct access - Make:\", my_car._make)\n"
   ]
  },
  {
   "cell_type": "code",
   "execution_count": null,
   "id": "683b3bef-e8a8-44bb-86ac-c6533d2b4ef0",
   "metadata": {},
   "outputs": [],
   "source": [
    "In this example:\n",
    "\n",
    "The Car class has private attributes _make, _model, and _year. By convention, a single leading underscore indicates \"protected\" attributes.\n",
    "\n",
    "Public methods (get_make, get_model, get_year, set_year) provide controlled access to the private attributes. These methods act\n",
    "as getters and setters for interacting with the internal state of the object.\n",
    "\n",
    "The set_year method demonstrates validation before updating the _year attribute. This is a common pattern to ensure that the object's state remains valid.\n",
    "\n",
    "Direct access to private attributes is discouraged (by convention, using a single leading underscore), and public methods should be used instead."
   ]
  },
  {
   "cell_type": "code",
   "execution_count": null,
   "id": "32ba1e82-9c44-4306-afc4-00f95d7137fb",
   "metadata": {},
   "outputs": [],
   "source": [
    "4. Discuss the difference between public, private, and protected access modifiers in Python.\n",
    "In Python, access modifiers are used to control the visibility of attributes and methods within a class. \n",
    "While Python does not enforce strict access control like some other languages, it provides conventions and \n",
    "mechanisms to indicate the intended visibility of class members. The three main access modifiers in Python are public, private, and protected.\n",
    "\n",
    "1. Public Access Modifier:\n",
    "Symbol: No specific symbol or keyword. All attributes and methods without leading underscores are considered public by convention.\n",
    "\n",
    "Visibility: Public members are accessible from anywhere, both inside and outside the class.\n",
    "\n",
    "Example:\n",
    "\n",
    "\n",
    "class MyClass:\n",
    "    def public_method(self):\n",
    "        print(\"This is a public method\")\n",
    "2. Private Access Modifier:\n",
    "Symbol: A single leading underscore (_) before the attribute or method name.\n",
    "\n",
    "Visibility: Private members are intended for internal use within the class. While Python does not enforce strict privacy,\n",
    "a single leading underscore signals to other developers that direct access is discouraged.\n",
    "\n",
    "Example:\n",
    "\n",
    "\n",
    "class MyClass:\n",
    "    def __init__(self):\n",
    "\n",
    "        self._private_attribute = 42  # By convention, a single leading underscore indicates \"protected\"\n",
    "\n",
    "    def _private_method(self):\n",
    "        print(\"This is a private method\")\n",
    "3. Protected Access Modifier:\n",
    "Symbol: A single leading underscore (_) before the attribute or method name.\n",
    "\n",
    "Visibility: Similar to private members, protected members are intended for internal use within the class and its subclasses.\n",
    "By convention, a single leading underscore is used to indicate \"protected.\"\n",
    "\n",
    "Example:\n",
    "\n",
    "\n",
    "class MyBaseClass:\n",
    "    def __init__(self):\n",
    "        self._protected_attribute = 42\n",
    "\n",
    "    def _protected_method(self):\n",
    "        print(\"This is a protected method\")\n",
    "\n",
    "class MyDerivedClass(MyBaseClass):\n",
    "    def access_protected(self):\n",
    "        print(self._protected_attribute)  # Accessing a \"protected\" attribute from the base class\n",
    "Key Points:\n",
    "Python's access control is based on conventions, and there is no strict enforcement. Developers are expected to follow these\n",
    "conventions to indicate the intended visibility.\n",
    "\n",
    "Public members have no specific symbol and are accessible from anywhere.\n",
    "\n",
    "Private members use a single leading underscore (_) to indicate that they are for internal use. Direct access is discouraged.\n",
    "\n",
    "Protected members also use a single leading underscore (_) and are accessible within the class and its subclasses.\n",
    "\n",
    "While Python allows direct access to private and protected members, using public methods for interaction is a recommended \n",
    "practice to adhere to the principles of encapsulation."
   ]
  },
  {
   "cell_type": "code",
   "execution_count": null,
   "id": "28d55be9-10c6-4d45-a230-e1b2ec9afa6d",
   "metadata": {},
   "outputs": [],
   "source": [
    "5. Create a Python class called `Person` with a private attribute `__name`. Provide methods to get and set the\n",
    "name attribute.\n"
   ]
  },
  {
   "cell_type": "code",
   "execution_count": 52,
   "id": "97cda3b1-3277-4e5b-88a1-00a18075bf03",
   "metadata": {
    "tags": []
   },
   "outputs": [
    {
     "name": "stdout",
     "output_type": "stream",
     "text": [
      "Current Name: John Doe\n",
      "Updated Name: Jane Doe\n"
     ]
    }
   ],
   "source": [
    "class Person:\n",
    "    def __init__(self, initial_name=\"\"):\n",
    "        # Private attribute with double leading underscores\n",
    "        self.__name = initial_name\n",
    "\n",
    "    # Getter method to retrieve the value of the private attribute\n",
    "    def get_name(self):\n",
    "        return self.__name\n",
    "\n",
    "    # Setter method to modify the value of the private attribute\n",
    "    def set_name(self, new_name):\n",
    "        self.__name = new_name\n",
    "\n",
    "# Example usage\n",
    "person_instance = Person(initial_name=\"John Doe\")\n",
    "\n",
    "# Accessing the private attribute using the getter method\n",
    "current_name = person_instance.get_name()\n",
    "print(\"Current Name:\", current_name)\n",
    "\n",
    "# Modifying the private attribute using the setter method\n",
    "person_instance.set_name(new_name=\"Jane Doe\")\n",
    "\n",
    "# Accessing the updated name\n",
    "updated_name = person_instance.get_name()\n",
    "print(\"Updated Name:\", updated_name)\n"
   ]
  },
  {
   "cell_type": "code",
   "execution_count": null,
   "id": "709aebc8-f060-4399-a132-37da43443658",
   "metadata": {},
   "outputs": [],
   "source": [
    "In this example:\n",
    "\n",
    "The Person class has a private attribute __name that is initialized in the constructor.\n",
    "\n",
    "The getter method get_name() allows external code to retrieve the value of the private attribute.\n",
    "\n",
    "The setter method set_name(new_name) allows external code to modify the value of the private attribute.\n",
    "\n",
    "The double leading underscores in __name indicate that it is a private attribute. While Python does not enforce strict privacy, \n",
    "the use of double underscores signals that access should be limited.\n",
    "\n",
    "The example demonstrates creating an instance of the Person class, accessing and modifying the private attribute using the provided methods."
   ]
  },
  {
   "cell_type": "code",
   "execution_count": null,
   "id": "37ff82dd-fa13-4351-84ba-d0258082efa2",
   "metadata": {},
   "outputs": [],
   "source": [
    "6. Explain the purpose of getter and setter methods in encapsulation. Provide examples.\n",
    "Getter and setter methods play a crucial role in encapsulation by providing controlled access to the attributes (data members) of a class.\n",
    "These methods allow for indirect access to the internal state of an object, facilitating data hiding, validation, and additional logic.\n",
    "Here's an explanation of the purpose of getter and setter methods, along with examples:\n",
    "\n",
    "1. Getter Methods:\n",
    "Purpose: Getter methods are used to retrieve the values of private attributes. They allow external code to access the state of an object in a controlled manner.\n",
    "\n",
    "Example:"
   ]
  },
  {
   "cell_type": "code",
   "execution_count": 53,
   "id": "b88a787f-aa6f-4dc8-bb94-98aa35d2a09b",
   "metadata": {
    "tags": []
   },
   "outputs": [
    {
     "name": "stdout",
     "output_type": "stream",
     "text": [
      "Current Name: John Doe\n"
     ]
    }
   ],
   "source": [
    "class Person:\n",
    "    def __init__(self, initial_name=\"\"):\n",
    "        self.__name = initial_name\n",
    "\n",
    "    # Getter method to retrieve the value of the private attribute\n",
    "    def get_name(self):\n",
    "        return self.__name\n",
    "\n",
    "# Example usage\n",
    "person_instance = Person(initial_name=\"John Doe\")\n",
    "\n",
    "# Accessing the private attribute using the getter method\n",
    "current_name = person_instance.get_name()\n",
    "print(\"Current Name:\", current_name)\n"
   ]
  },
  {
   "cell_type": "code",
   "execution_count": null,
   "id": "d5847866-cc10-46ab-a823-c4a624355d1e",
   "metadata": {},
   "outputs": [],
   "source": [
    "2. Setter Methods:\n",
    "Purpose: Setter methods are used to modify the values of private attributes. They allow external code to update the state of an object in a controlled manner,\n",
    "enabling validation or additional logic."
   ]
  },
  {
   "cell_type": "code",
   "execution_count": 55,
   "id": "d3e192be-67b6-429f-a78e-e75428bbfa17",
   "metadata": {
    "tags": []
   },
   "outputs": [],
   "source": [
    "class Person:\n",
    "    def __init__(self, initial_name=\"\"):\n",
    "        self.__name = initial_name\n",
    "\n",
    "    # Setter method to modify the value of the private attribute\n",
    "    def set_name(self, new_name):\n",
    "        # Additional logic or validation can be applied here\n",
    "        if new_name:\n",
    "            self.__name = new_name\n",
    "        else:\n",
    "            print(\"Invalid name. Please provide a non-empty name.\")\n",
    "\n",
    "# Example usage\n",
    "person_instance = Person(initial_name=\"John Doe\")\n",
    "\n",
    "# Modifying the private attribute using the setter method\n",
    "person_instance.set_name(new_name=\"Jane Doe\")\n"
   ]
  },
  {
   "cell_type": "code",
   "execution_count": null,
   "id": "5e780b0e-6e4d-4a91-a82a-a2d77fadae9c",
   "metadata": {},
   "outputs": [],
   "source": [
    "Benefits of Getter and Setter Methods:\n",
    "Encapsulation: Getter and setter methods encapsulate the internal state of an object, hiding the implementation details.\n",
    "\n",
    "Controlled Access: These methods provide controlled access to attributes, allowing developers to enforce validation, \n",
    "apply logic, or maintain consistency in the object's state.\n",
    "\n",
    "Flexibility: If needed, getter and setter methods can be modified without affecting external code that uses the class,\n",
    "providing flexibility in adapting to changing requirements.\n",
    "\n",
    "Readability: Using explicit methods like get_name() and set_name() improves the readability of the code, making it clear\n",
    "when external code is accessing or modifying an attribute.\n",
    "\n",
    "In summary, getter and setter methods enhance encapsulation by offering a controlled and indirect interface for accessing\n",
    "and modifying the internal state of objects. This helps in maintaining the integrity of the object's data and promoting a clear separation\n",
    "between the public interface and the implementation details of a class."
   ]
  },
  {
   "cell_type": "code",
   "execution_count": null,
   "id": "a4e073d4-85aa-4662-9d82-846f76e394f0",
   "metadata": {},
   "outputs": [],
   "source": [
    "7. What is name mangling in Python, and how does it affect encapsulation?\n",
    "Name mangling is a technique used in Python to make the names of attributes in a class more unique by adding a prefix to them.\n",
    "This is done to avoid naming conflicts in situations where subclasses might unintentionally override attributes of their base classes.\n",
    "Name mangling is achieved by adding a double underscore (__) as a prefix to an attribute name.\n",
    "\n",
    "How Name Mangling Works:\n",
    "When an attribute is prefixed with a double underscore within a class definition, Python performs name mangling by adding a prefix that\n",
    "includes the class name. The transformation is as follows: __attribute becomes _classname__attribute, where classname is the name of the current class.\n",
    "\n",
    "Purpose of Name Mangling:\n",
    "Avoiding Name Clashes: Name mangling helps avoid accidental name clashes in situations where a subclass defines an attribute with \n",
    "the same name as an attribute in its superclass.\n",
    "\n",
    "Encapsulation Enhancement: While not a strict form of encapsulation, name mangling provides a level of privacy for attributes by\n",
    "making their names less accessible and less \n",
    "likely to be unintentionally overridden."
   ]
  },
  {
   "cell_type": "code",
   "execution_count": 56,
   "id": "2f7449ab-9ef9-4bf9-8177-84a99ec2e206",
   "metadata": {
    "tags": []
   },
   "outputs": [
    {
     "name": "stdout",
     "output_type": "stream",
     "text": [
      "42\n",
      "42\n"
     ]
    }
   ],
   "source": [
    "class MyClass:\n",
    "    def __init__(self):\n",
    "        # Using name mangling to make the attribute private-like\n",
    "        self.__private_attribute = 42\n",
    "\n",
    "    def get_private_attribute(self):\n",
    "        return self.__private_attribute\n",
    "\n",
    "class MyDerivedClass(MyClass):\n",
    "    def __init__(self):\n",
    "        super().__init__()\n",
    "        # The subclass has its own attribute with the same name\n",
    "        self.__private_attribute = \"Derived Attribute\"\n",
    "\n",
    "# Example usage\n",
    "obj = MyDerivedClass()\n",
    "\n",
    "# Accessing the attribute using the subclass instance\n",
    "print(obj.get_private_attribute())  # Output: 42\n",
    "\n",
    "# Direct access to the name-mangled attribute in the subclass\n",
    "print(obj._MyClass__private_attribute)  # Output: Derived Attribute\n"
   ]
  },
  {
   "cell_type": "code",
   "execution_count": null,
   "id": "013dd607-53fc-464e-9003-21a403802dee",
   "metadata": {},
   "outputs": [],
   "source": [
    "In this example, MyClass defines an attribute named __private_attribute with name mangling applied. \n",
    "The subclass MyDerivedClass also defines an attribute with the same name but in a different context.\n",
    "Accessing the name-mangled attribute in the subclass requires using the _classname__attribute syntax"
   ]
  },
  {
   "cell_type": "code",
   "execution_count": null,
   "id": "384d6986-3a49-472f-adb6-1ec2c34452de",
   "metadata": {},
   "outputs": [],
   "source": [
    "Impact on Encapsulation:\n",
    "While name mangling provides a form of attribute name protection, it is important to note that it is not a strict form of encapsulation. Python does not prevent access to name-mangled attributes; it simply makes their names less accessible. Developers can still access these attributes directly if they choose to do so.\n",
    "\n",
    "Encapsulation in Python is primarily achieved through conventions, such as using a single leading\n",
    "underscore for protected attributes and a double leading underscore for \"private-like\" attributes \n",
    "with name mangling. The key principle is to rely on convention and documentation\n",
    "to guide developers on how to interact with the attributes of a class."
   ]
  },
  {
   "cell_type": "code",
   "execution_count": null,
   "id": "58d38093-c349-44ad-8331-06802f693231",
   "metadata": {},
   "outputs": [],
   "source": [
    "8. Create a Python class called `BankAccount` with private attributes for the account balance (`__balance`)"
   ]
  },
  {
   "cell_type": "code",
   "execution_count": 57,
   "id": "4df0574f-4c6c-471e-ab38-8abcc2a22788",
   "metadata": {
    "tags": []
   },
   "outputs": [
    {
     "name": "stdout",
     "output_type": "stream",
     "text": [
      "Initial Balance: 1000.0\n",
      "Deposited 500.0 units. New balance: 1500.0\n",
      "Withdrew 200.0 units. New balance: 1300.0\n",
      "Current Balance: 1300.0\n"
     ]
    }
   ],
   "source": [
    "class BankAccount:\n",
    "    def __init__(self, account_holder, initial_balance=0.0):\n",
    "        # Private attribute for account balance using name mangling\n",
    "        self.__balance = initial_balance\n",
    "        self.account_holder = account_holder\n",
    "\n",
    "    def deposit(self, amount):\n",
    "        if amount > 0:\n",
    "            self.__balance += amount\n",
    "            print(f\"Deposited {amount} units. New balance: {self.__balance}\")\n",
    "        else:\n",
    "            print(\"Invalid deposit amount. Please provide a positive value.\")\n",
    "\n",
    "    def withdraw(self, amount):\n",
    "        if amount > 0 and amount <= self.__balance:\n",
    "            self.__balance -= amount\n",
    "            print(f\"Withdrew {amount} units. New balance: {self.__balance}\")\n",
    "        else:\n",
    "            print(\"Invalid withdrawal amount or insufficient funds.\")\n",
    "\n",
    "    def get_balance(self):\n",
    "        return self.__balance\n",
    "\n",
    "# Example usage\n",
    "account = BankAccount(account_holder=\"John Doe\", initial_balance=1000.0)\n",
    "\n",
    "# Accessing and displaying the initial balance (using the getter method)\n",
    "print(\"Initial Balance:\", account.get_balance())\n",
    "\n",
    "# Performing transactions\n",
    "account.deposit(500.0)\n",
    "account.withdraw(200.0)\n",
    "\n",
    "# Accessing and displaying the updated balance\n",
    "print(\"Current Balance:\", account.get_balance())\n"
   ]
  },
  {
   "cell_type": "code",
   "execution_count": null,
   "id": "9999c8d8-b1c2-4a79-8e2d-97dc750c5ff6",
   "metadata": {},
   "outputs": [],
   "source": [
    "9. Discuss the advantages of encapsulation in terms of code maintainability and security.\n",
    "Encapsulation provides several advantages in terms of code maintainability and security in object-oriented programming. Here are some key benefits:\n",
    "\n",
    "Code Maintainability:\n",
    "Modularity: Encapsulation promotes modularity by encapsulating the internal details of a class within its scope.\n",
    "This modular design makes it easier to understand, maintain, and update individual components without affecting the entire system.\n",
    "\n",
    "Ease of Modification: Since the internal implementation details are hidden from external code, modifications to the\n",
    "internal logic of a class can be made without affecting other parts of the program. This reduces the risk of unintended side effects.\n",
    "\n",
    "Code Organization: Encapsulation encourages developers to organize their code by grouping related attributes and \n",
    "methods within a class. This organization enhances code readability and maintainability, making it easier to locate and understand functionality.\n",
    "\n",
    "Code Reusability: Encapsulated classes with well-defined interfaces can be reused in different parts of the program\n",
    "or in other projects. This reusability reduces redundancy and accelerates development.\n",
    "\n",
    "Security:\n",
    "Access Control: Encapsulation allows the control of access to the internal state of an object. By using access modifiers\n",
    "(public, private, protected), developers can restrict direct access to certain attributes or methods, preventing unintended interference.\n",
    "\n",
    "Data Hiding: Encapsulation hides the internal implementation details from external code. This data hiding ensures that\n",
    "sensitive information or complex algorithms are not exposed, enhancing security and preventing unauthorized manipulation.\n",
    "\n",
    "Encapsulation of Invariants: Encapsulation helps encapsulate invariants or integrity constraints within a class. Invariants\n",
    "are conditions that must be true at specific points in the program. By encapsulating them, developers can ensure that the \n",
    "integrity of the object is maintained.\n",
    "\n",
    "Enhanced Debugging and Testing: Encapsulation provides a clear separation between the public interface and internal implementation.\n",
    "This separation simplifies debugging and testing since developers can focus on testing the public methods without needing\n",
    "to be concerned about the internal details.\n",
    "\n",
    "Maintenance of Invariants: Encapsulation allows developers to enforce invariants (conditions that must always be true)\n",
    "within the class methods. This helps maintain the integrity of the object and reduces the risk of unexpected behavior.\n",
    "\n",
    "Overall:\n",
    "Encapsulation contributes to building robust and maintainable code by enforcing a clear separation of concerns, controlling access,\n",
    "and protecting the internal state of objects. While it does not provide absolute security, it establishes a foundation for good coding practices\n",
    "that enhance both maintainability and security in software development"
   ]
  },
  {
   "cell_type": "code",
   "execution_count": null,
   "id": "65cc49fe-0fcc-4267-b25a-fa874b6b96b4",
   "metadata": {},
   "outputs": [],
   "source": [
    "10. How can you access private attributes in Python? Provide an example demonstrating the use of name\n",
    "mangling.\n",
    "n Python, private attributes are intended to be accessed only within the class they are defined in.\n",
    "However, it is still possible to access them from outside the class using name mangling. Name mangling is a technique that adds a prefix to the attribute name, \n",
    "making it less straightforward to access from external code."
   ]
  },
  {
   "cell_type": "code",
   "execution_count": 58,
   "id": "78d29580-463c-4ed8-b2c7-50f1ac4088c0",
   "metadata": {
    "tags": []
   },
   "outputs": [
    {
     "name": "stdout",
     "output_type": "stream",
     "text": [
      "I'm private!\n"
     ]
    }
   ],
   "source": [
    "class MyClass:\n",
    "    def __init__(self):\n",
    "        # Private attribute using name mangling\n",
    "        self.__private_attribute = \"I'm private!\"\n",
    "\n",
    "# Creating an instance of the class\n",
    "obj = MyClass()\n",
    "\n",
    "# Attempting to access the private attribute directly (will result in an AttributeError)\n",
    "# Uncommenting the line below will raise an AttributeError\n",
    "# print(obj.__private_attribute)\n",
    "\n",
    "# Accessing the private attribute using name mangling\n",
    "# The attribute name gets transformed to _MyClass__private_attribute\n",
    "print(obj._MyClass__private_attribute)  # Output: I'm private!\n"
   ]
  },
  {
   "cell_type": "code",
   "execution_count": null,
   "id": "25f09d80-8652-4bc6-98e4-061d23ca4b85",
   "metadata": {},
   "outputs": [],
   "source": [
    "11. Create a Python class hierarchy for a school system, including classes for students, teachers, and courses,\n",
    "and implement encapsulation principles to protect sensitive information.\n"
   ]
  },
  {
   "cell_type": "code",
   "execution_count": 59,
   "id": "8eab2d26-9d1c-48c7-ab54-808f4cfc9725",
   "metadata": {
    "tags": []
   },
   "outputs": [
    {
     "name": "stdout",
     "output_type": "stream",
     "text": [
      "Course Name: Mathematics\n",
      "Course Code: MATH101\n",
      "\n",
      "Teacher:\n",
      "Name: John Teacher\n",
      "Employee ID: T123\n",
      "\n",
      "Students:\n",
      "Name: Alice Student\n",
      "Student ID: S001\n",
      "Age: 18\n",
      "Contact Info: 987-654-3210\n",
      "---\n",
      "Name: Bob Student\n",
      "Student ID: S002\n",
      "Age: 17\n",
      "Contact Info: 555-123-4567\n",
      "---\n"
     ]
    }
   ],
   "source": [
    "class Person:\n",
    "    def __init__(self, name, age, contact_info):\n",
    "        self._name = name  # Protected attribute\n",
    "        self._age = age    # Protected attribute\n",
    "        self._contact_info = contact_info  # Protected attribute\n",
    "\n",
    "    def get_name(self):\n",
    "        return self._name\n",
    "\n",
    "    def get_age(self):\n",
    "        return self._age\n",
    "\n",
    "    def get_contact_info(self):\n",
    "        return self._contact_info\n",
    "\n",
    "\n",
    "class Student(Person):\n",
    "    def __init__(self, name, age, contact_info, student_id):\n",
    "        super().__init__(name, age, contact_info)\n",
    "        self._student_id = student_id  # Protected attribute\n",
    "\n",
    "    def get_student_id(self):\n",
    "        return self._student_id\n",
    "\n",
    "\n",
    "class Teacher(Person):\n",
    "    def __init__(self, name, age, contact_info, employee_id):\n",
    "        super().__init__(name, age, contact_info)\n",
    "        self._employee_id = employee_id  # Protected attribute\n",
    "\n",
    "    def get_employee_id(self):\n",
    "        return self._employee_id\n",
    "\n",
    "\n",
    "class Course:\n",
    "    def __init__(self, course_name, course_code, teacher, students=[]):\n",
    "        self._course_name = course_name  # Protected attribute\n",
    "        self._course_code = course_code  # Protected attribute\n",
    "        self._teacher = teacher  # Protected attribute\n",
    "        self._students = students  # Protected attribute\n",
    "\n",
    "    def get_course_name(self):\n",
    "        return self._course_name\n",
    "\n",
    "    def get_course_code(self):\n",
    "        return self._course_code\n",
    "\n",
    "    def get_teacher(self):\n",
    "        return self._teacher\n",
    "\n",
    "    def get_students(self):\n",
    "        return self._students\n",
    "\n",
    "\n",
    "# Example usage\n",
    "teacher = Teacher(name=\"John Teacher\", age=35, contact_info=\"123-456-7890\", employee_id=\"T123\")\n",
    "student1 = Student(name=\"Alice Student\", age=18, contact_info=\"987-654-3210\", student_id=\"S001\")\n",
    "student2 = Student(name=\"Bob Student\", age=17, contact_info=\"555-123-4567\", student_id=\"S002\")\n",
    "\n",
    "course_math = Course(course_name=\"Mathematics\", course_code=\"MATH101\", teacher=teacher, students=[student1, student2])\n",
    "\n",
    "# Accessing information using getter methods\n",
    "print(\"Course Name:\", course_math.get_course_name())\n",
    "print(\"Course Code:\", course_math.get_course_code())\n",
    "\n",
    "# Accessing teacher's information\n",
    "print(\"\\nTeacher:\")\n",
    "print(\"Name:\", teacher.get_name())\n",
    "print(\"Employee ID:\", teacher.get_employee_id())\n",
    "\n",
    "# Accessing students' information\n",
    "print(\"\\nStudents:\")\n",
    "for student in course_math.get_students():\n",
    "    print(\"Name:\", student.get_name())\n",
    "    print(\"Student ID:\", student.get_student_id())\n",
    "    print(\"Age:\", student.get_age())\n",
    "    print(\"Contact Info:\", student.get_contact_info())\n",
    "    print(\"---\")\n"
   ]
  },
  {
   "cell_type": "code",
   "execution_count": null,
   "id": "7d9c45d1-b14b-4e76-9a61-19cbc0d6a015",
   "metadata": {},
   "outputs": [],
   "source": [
    "in this example:\n",
    "\n",
    "The Person class represents a generic person with protected attributes for name, age, and contact information.\n",
    "\n",
    "The Student and Teacher classes inherit from the Person class, extending it with additional attributes like student_id and employee_id.\n",
    "\n",
    "The Course class has protected attributes for course name, course code, teacher, and a list of students. It uses encapsulation principles\n",
    "to hide the internal details and provide controlled access through getter methods.\n",
    "\n",
    "Getter methods are used to access information about persons, students, teachers, and courses.\n",
    "\n",
    "By using encapsulation, sensitive information is protected, and external code is encouraged to access\n",
    "information through well-defined public interfaces, promoting code maintainability and security."
   ]
  },
  {
   "cell_type": "code",
   "execution_count": null,
   "id": "d9be7286-5d57-4e60-804b-c2162b0bd50e",
   "metadata": {},
   "outputs": [],
   "source": [
    "12. Explain the concept of property decorators in Python and how they relate to encapsulation.\n",
    "in Python, property decorators are a way to implement getter, setter, and deleter methods for class attributes in a concise\n",
    "and Pythonic manner. Property decorators provide\n",
    "a clean and readable syntax for working with attributes while allowing for encapsulation, validation, and additional logic. \n",
    "They help ensure controlled access to the internal state of an object.\n",
    "\n",
    "Property Decorator Syntax:\n",
    "The @property decorator is used to create a read-only property (getter), @<attribute_name>.setter is used to create a property\n",
    "with a setter, and @<attribute_name>.deleter is used to create a property with a deleter."
   ]
  },
  {
   "cell_type": "code",
   "execution_count": null,
   "id": "f53304c5-1526-4499-b378-d5291d24c06d",
   "metadata": {},
   "outputs": [],
   "source": [
    "#getter\n",
    "class MyClass:\n",
    "    def __init__(self):\n",
    "        self._value = 0\n",
    "\n",
    "    @property\n",
    "    def value(self):\n",
    "        return self._value\n"
   ]
  },
  {
   "cell_type": "code",
   "execution_count": 60,
   "id": "634f779e-bf12-4681-8688-22355455a3b7",
   "metadata": {
    "tags": []
   },
   "outputs": [],
   "source": [
    "#setter\n",
    "class MyClass:\n",
    "    def __init__(self):\n",
    "        self._value = 0\n",
    "\n",
    "    @property\n",
    "    def value(self):\n",
    "        return self._value\n",
    "\n",
    "    @value.setter\n",
    "    def value(self, new_value):\n",
    "        if new_value >= 0:\n",
    "            self._value = new_value\n",
    "        else:\n",
    "            print(\"Invalid value. Please provide a non-negative value.\")\n"
   ]
  },
  {
   "cell_type": "code",
   "execution_count": null,
   "id": "78e15037-d785-4995-acd2-874e57a4bbac",
   "metadata": {},
   "outputs": [],
   "source": [
    "#deleter\n",
    "class MyClass:\n",
    "    def __init__(self):\n",
    "        self._value = 0\n",
    "\n",
    "    @property\n",
    "    def value(self):\n",
    "        return self._value\n",
    "\n",
    "    @value.setter\n",
    "    def value(self, new_value):\n",
    "        if new_value >= 0:\n",
    "            self._value = new_value\n",
    "        else:\n",
    "            print(\"Invalid value. Please provide a non-negative value.\")\n",
    "\n",
    "    @value.deleter\n",
    "    def value(self):\n",
    "        print(\"Deleting the value.\")\n",
    "        del self._value\n"
   ]
  },
  {
   "cell_type": "code",
   "execution_count": null,
   "id": "d69764e9-59c7-4ba1-ba88-0e40150b3d97",
   "metadata": {},
   "outputs": [],
   "source": [
    "How Property Decorators Relate to Encapsulation:\n",
    "Controlled Access: Property decorators provide a controlled and clean way to access and modify class attributes.\n",
    "By using property decorators, developers can enforce rules, validations, and encapsulate the internal state of the object.\n",
    "\n",
    "Data Validation: With property decorators, you can implement validation logic within the setter methods. This ensures\n",
    "that the data being assigned to the attribute meets certain criteria before modification, promoting a more robust and secure class design.\n",
    "\n",
    "Readability: Property decorators enhance code readability by allowing developers to use attribute access syntax (obj.attribute)\n",
    "\n",
    "rather than method calls (obj.get_attribute()). This aligns with the principle of making code more idiomatic and self-explanatory.\n",
    "\n",
    "Flexibility: Property decorators allow for the addition of behavior (validation, computation, etc.) to attribute access and modification. \n",
    "This flexibility can be leveraged to add functionality in a controlled manner without breaking existing code that uses the class.\n",
    "\n",
    "Consistent Interface: By providing a consistent interface for attribute access using properties, developers can maintain a clear\n",
    "distinction between public and internal details of the class, supporting the principles of encapsulation.\n",
    "\n",
    "In summary, property decorators in Python offer a powerful and syntactically clean way to implement getter, setter, and deleter \n",
    "methods for class attributes. They play a crucial role in encapsulation by providing controlled access to the internal state of an object while\n",
    "allowing for validation and additional logic."
   ]
  },
  {
   "cell_type": "code",
   "execution_count": null,
   "id": "ce4ca24f-88de-47ba-8192-207f761d47b3",
   "metadata": {},
   "outputs": [],
   "source": [
    "13. What is data hiding, and why is it important in encapsulation? Provide examples.\n",
    "Data hiding, also known as information hiding, is a fundamental concept in object-oriented programming and encapsulation.\n",
    "It refers to the practice of restricting access to certain details of an object and exposing only what is necessary for the external world to interact\n",
    "with the object. This restriction is achieved by using access modifiers (public, private, protected) to control the visibility\n",
    "of attributes and methods within a class.\n",
    "\n",
    "Importance of Data Hiding in Encapsulation:\n",
    "Encapsulation: Data hiding is a key aspect of encapsulation. Encapsulation bundles the data (attributes) and the methods that \n",
    "operate on the data into a single unit (class). By hiding the internal details, encapsulation protects the object's integrity \n",
    "and provides a clean and controlled interface for interacting with the object.\n",
    "\n",
    "Security: By restricting access to sensitive information, data hiding enhances the security of an object. It prevents external \n",
    "code from directly modifying or accessing critical attributes, reducing the risk of unintended modifications or security breaches.\n",
    "\n",
    "Abstraction: Data hiding allows developers to abstract away unnecessary implementation details. External code interacts with\n",
    "the class through well-defined interfaces (public methods), reducing complexity and making the code more maintainable.\n",
    "\n",
    "Flexibility: Internal details of a class may change over time as the implementation evolves. Data hiding provides a buffer,\n",
    "allowing developers to modify the internal structure of a class without affecting the external code that relies on the class's\n",
    "public interface. This promotes code flexibility and adaptability.\n"
   ]
  },
  {
   "cell_type": "code",
   "execution_count": 61,
   "id": "5cb5325d-80a7-468e-8dbd-110fc41055a8",
   "metadata": {
    "tags": []
   },
   "outputs": [
    {
     "name": "stdout",
     "output_type": "stream",
     "text": [
      "Account Holder: John Doe\n",
      "Balance: 1000\n",
      "Deposited 500. New balance: 1500\n",
      "Withdrew 200. New balance: 1300\n"
     ]
    }
   ],
   "source": [
    "class BankAccount:\n",
    "    def __init__(self, account_holder, balance):\n",
    "        self._account_holder = account_holder  # Protected attribute\n",
    "        self.__balance = balance  # Private attribute\n",
    "\n",
    "    def deposit(self, amount):\n",
    "        if amount > 0:\n",
    "            self.__balance += amount\n",
    "            print(f\"Deposited {amount}. New balance: {self.__balance}\")\n",
    "        else:\n",
    "            print(\"Invalid deposit amount. Please provide a positive value.\")\n",
    "\n",
    "    def withdraw(self, amount):\n",
    "        if amount > 0 and amount <= self.__balance:\n",
    "            self.__balance -= amount\n",
    "            print(f\"Withdrew {amount}. New balance: {self.__balance}\")\n",
    "        else:\n",
    "            print(\"Invalid withdrawal amount or insufficient funds.\")\n",
    "\n",
    "    def get_balance(self):\n",
    "        return self.__balance\n",
    "\n",
    "# Example usage\n",
    "account = BankAccount(account_holder=\"John Doe\", balance=1000)\n",
    "\n",
    "# Accessing the protected attribute\n",
    "print(\"Account Holder:\", account._account_holder)\n",
    "\n",
    "# Attempting to access the private attribute directly (will result in an AttributeError)\n",
    "# Uncommenting the line below will raise an AttributeError\n",
    "# print(\"Balance:\", account.__balance)\n",
    "\n",
    "# Accessing the private attribute using a getter method\n",
    "print(\"Balance:\", account.get_balance())\n",
    "\n",
    "# Performing transactions\n",
    "account.deposit(500)\n",
    "account.withdraw(200)\n"
   ]
  },
  {
   "cell_type": "code",
   "execution_count": null,
   "id": "b2cb6a16-016b-40b3-845b-ab69e57f93f8",
   "metadata": {},
   "outputs": [],
   "source": [
    "14. Create a Python class called `Employee` with private attributes for salary (`__salary`) and employee ID (`__employee_id`). \n",
    "Provide a method to calculate yearly bonuses.\n"
   ]
  },
  {
   "cell_type": "code",
   "execution_count": 62,
   "id": "167ad0d2-4493-4ed8-8cc1-d04e4107e136",
   "metadata": {
    "tags": []
   },
   "outputs": [
    {
     "name": "stdout",
     "output_type": "stream",
     "text": [
      "Employee ID: E001\n",
      "Salary: 50000\n",
      "Yearly Bonus (10%): $5000.00\n"
     ]
    }
   ],
   "source": [
    "class Employee:\n",
    "    def __init__(self, employee_id, salary):\n",
    "        self.__employee_id = employee_id  # Private attribute\n",
    "        self.__salary = salary  # Private attribute\n",
    "\n",
    "    def calculate_yearly_bonus(self, bonus_percentage):\n",
    "        if bonus_percentage >= 0 and bonus_percentage <= 100:\n",
    "            bonus_amount = (bonus_percentage / 100) * self.__salary\n",
    "            return bonus_amount\n",
    "        else:\n",
    "            print(\"Invalid bonus percentage. Please provide a value between 0 and 100.\")\n",
    "            return 0\n",
    "\n",
    "    # Getter methods for accessing private attributes\n",
    "    def get_employee_id(self):\n",
    "        return self.__employee_id\n",
    "\n",
    "    def get_salary(self):\n",
    "        return self.__salary\n",
    "\n",
    "# Example usage\n",
    "employee1 = Employee(employee_id=\"E001\", salary=50000)\n",
    "\n",
    "# Accessing private attributes using getter methods\n",
    "print(\"Employee ID:\", employee1.get_employee_id())\n",
    "print(\"Salary:\", employee1.get_salary())\n",
    "\n",
    "# Calculating yearly bonus\n",
    "bonus_percentage = 10\n",
    "bonus_amount = employee1.calculate_yearly_bonus(bonus_percentage)\n",
    "print(f\"Yearly Bonus ({bonus_percentage}%): ${bonus_amount:.2f}\")\n"
   ]
  },
  {
   "cell_type": "code",
   "execution_count": null,
   "id": "2f699924-749f-44a8-a186-4a24a66de87c",
   "metadata": {},
   "outputs": [],
   "source": [
    "15. Discuss the use of accessors and mutators in encapsulation. How do they help maintain control over\n",
    "attribute access?\n",
    "Accessors and mutators, also known as getters and setters, are methods used to access and modify the values of private attributes in a class.\n",
    "They play a crucial role in encapsulation by providing controlled access to the internal state of an object.\n",
    "\n",
    "1. Accessors (Getters):\n",
    "Purpose: Accessors are methods that retrieve the values of private attributes.\n",
    "Naming Convention: Typically named with the prefix \"get_\" followed by the attribute name\n",
    "class MyClass:\n",
    "    def __init__(self, private_attribute):\n",
    "        self.__private_attribute = private_attribute\n",
    "\n",
    "    def get_private_attribute(self):\n",
    "        return self.__private_attribute\n",
    ". Mutators (Setters):\n",
    "Purpose: Mutators are methods that modify the values of private attributes.\n",
    "Naming Convention: Typically named with the prefix \"set_\" followed by the attribute name.\n",
    "class MyClass:\n",
    "    def __init__(self, private_attribute):\n",
    "        self.__private_attribute = private_attribute\n",
    "\n",
    "    def set_private_attribute(self, new_value):\n",
    "        self.__private_attribute = new_value\n",
    "        \n",
    "How They Help Maintain Control Over Attribute Access:\n",
    "Controlled Read Access:\n",
    "\n",
    "Accessors provide a controlled and well-defined way to retrieve the values of private attributes.\n",
    "Developers can enforce rules, validation, or additional logic within the accessor methods.\n",
    "Controlled Write Access:\n",
    "\n",
    "Mutators provide a controlled way to modify the values of private attributes.\n",
    "Developers can implement validation checks or additional logic before allowing changes to the internal state.\n",
    "Encapsulation:\n",
    "\n",
    "Accessors and mutators contribute to encapsulation by hiding the internal details of an object's state.\n",
    "External code interacts with the object through a well-defined interface, maintaining a clear separation between the public interface\n",
    "and the implementation details.\n",
    "Readability and Intent:\n",
    "\n",
    "The use of accessors and mutators improves code readability by making it clear when external code is reading or modifying the state of an object.\n",
    "The naming convention (e.g., get_attribute and set_attribute) communicates the intent of the methods.\n",
    "Flexibility and Evolution:\n",
    "\n",
    "Accessors and mutators provide flexibility for future changes in the internal implementation.\n",
    "If the internal representation of an attribute needs to change, developers can update the accessor and mutator methods without affecting external code.\n",
    "\n"
   ]
  },
  {
   "cell_type": "code",
   "execution_count": null,
   "id": "8ae7043f-dec5-4f42-8e6f-bc1b3644f63c",
   "metadata": {},
   "outputs": [],
   "source": [
    "16 What are the potential drawbacks or disadvantages of using encapsulation in Python?\n",
    "Complexity Overhead:\n",
    "\n",
    "Encapsulation may introduce additional complexity, especially when implementing accessor and mutator methods for numerous attributes.\n",
    "This can make the code longer and less concise.\n",
    "Boilerplate Code:\n",
    "\n",
    "The need to write getter and setter methods for each private attribute can lead to boilerplate code, making the class definitions longer\n",
    "and potentially less readable.\n",
    "Overhead in Performance:\n",
    "\n",
    "Accessing data through accessor methods might introduce a slight performance overhead compared to direct attribute access.\n",
    "In performance-critical applications,\n",
    "this could be a concern, although the impact is often minimal.\n",
    "Reduced Flexibility:\n",
    "\n",
    "Over-reliance on encapsulation might reduce the flexibility to modify the internal implementation of a class. Changes in the internal \n",
    "representation may require updates to accessor and mutator methods, potentially impacting existing code.\n",
    "Violation of \"Consenting Adults\" Principle:\n",
    "\n",
    "Python follows the \"consenting adults\" philosophy, trusting developers to follow conventions and make responsible use of class attributes. \n",
    "Overly strict encapsulation may be seen as violating this philosophy, limiting the flexibility that Python developers are accustomed to.\n",
    "Debugging Challenges:\n",
    "\n",
    "When debugging, encapsulation may make it more challenging to inspect or modify the internal state of an object. This can be particularly\n",
    "true if accessor and mutator methods contain additional logic or validations.\n",
    "Increased Verbosity:\n",
    "\n",
    "Encapsulation can lead to increased verbosity in code, as developers must use accessor methods to retrieve even simple attribute values. \n",
    "This can be seen as a departure from the concise syntax that Python is known for.\n",
    "Potential for Misuse:\n",
    "\n",
    "Overuse of encapsulation, particularly making all attributes private, can lead to unnecessary complexity and hinder code readability. \n",
    "It's crucial to strike a balance and apply encapsulation judiciously."
   ]
  },
  {
   "cell_type": "code",
   "execution_count": null,
   "id": "e2eee8c7-92e7-439b-8a94-d970eaec0dfc",
   "metadata": {},
   "outputs": [],
   "source": [
    "17. Create a Python class for a library system that encapsulates book information, including titles, authors,\n",
    "and availability status.\n"
   ]
  },
  {
   "cell_type": "code",
   "execution_count": 63,
   "id": "01a77dae-be32-4277-97b1-54d91ed24cec",
   "metadata": {
    "tags": []
   },
   "outputs": [
    {
     "name": "stdout",
     "output_type": "stream",
     "text": [
      "Book 1 Title: The Great Gatsby\n",
      "Book 1 Author: F. Scott Fitzgerald\n",
      "Book 1 Availability: Available\n",
      "Book 'The Great Gatsby' by F. Scott Fitzgerald has been borrowed.\n",
      "Book 'To Kill a Mockingbird' by Harper Lee has been borrowed.\n",
      "Book 'The Great Gatsby' by F. Scott Fitzgerald has been returned.\n",
      "Book 'To Kill a Mockingbird' by Harper Lee has been returned.\n"
     ]
    }
   ],
   "source": [
    "class Book:\n",
    "    def __init__(self, title, author, available=True):\n",
    "        self.__title = title  # Private attribute for book title\n",
    "        self.__author = author  # Private attribute for book author\n",
    "        self.__available = available  # Private attribute for availability status\n",
    "\n",
    "    def get_title(self):\n",
    "        return self.__title\n",
    "\n",
    "    def get_author(self):\n",
    "        return self.__author\n",
    "\n",
    "    def is_available(self):\n",
    "        return self.__available\n",
    "\n",
    "    def borrow_book(self):\n",
    "        if self.__available:\n",
    "            self.__available = False\n",
    "            print(f\"Book '{self.__title}' by {self.__author} has been borrowed.\")\n",
    "        else:\n",
    "            print(f\"Sorry, the book '{self.__title}' is currently not available.\")\n",
    "\n",
    "    def return_book(self):\n",
    "        if not self.__available:\n",
    "            self.__available = True\n",
    "            print(f\"Book '{self.__title}' by {self.__author} has been returned.\")\n",
    "        else:\n",
    "            print(f\"The book '{self.__title}' is already available.\")\n",
    "\n",
    "# Example usage\n",
    "book1 = Book(title=\"The Great Gatsby\", author=\"F. Scott Fitzgerald\")\n",
    "book2 = Book(title=\"To Kill a Mockingbird\", author=\"Harper Lee\")\n",
    "\n",
    "# Accessing book information using accessor methods\n",
    "print(\"Book 1 Title:\", book1.get_title())\n",
    "print(\"Book 1 Author:\", book1.get_author())\n",
    "print(\"Book 1 Availability:\", \"Available\" if book1.is_available() else \"Not Available\")\n",
    "\n",
    "# Borrowing and returning books\n",
    "book1.borrow_book()\n",
    "book2.borrow_book()\n",
    "\n",
    "book1.return_book()\n",
    "book2.return_book()\n"
   ]
  },
  {
   "cell_type": "code",
   "execution_count": null,
   "id": "eb737f26-2fef-4269-816b-27d77adc2dba",
   "metadata": {},
   "outputs": [],
   "source": [
    "18. Explain how encapsulation enhances code reusability and modularity in Python programs.\n",
    "Encapsulation enhances code reusability and modularity in Python programs by promoting a clear separation between the \n",
    "implementation details of a class and\n",
    "its external interface. It achieves this through the use of access modifiers, getters, setters, and well-defined public \n",
    "interfaces. Here's how encapsulation contributes to code reusability and modularity:\n",
    "\n",
    "Information Hiding:\n",
    "\n",
    "Encapsulation allows developers to hide the internal implementation details of a class from external code. Private attributes\n",
    "and methods are not directly accessible from outside the class, providing a level of abstraction.\n",
    "This information hiding ensures that the internal changes to the class do not affect the external code, promoting modularity.\n",
    "Well-Defined Interfaces:\n",
    "\n",
    "Accessors and mutators provide well-defined interfaces for accessing and modifying the state of an object. External code interacts\n",
    "with objects through these interfaces, which encapsulate the behavior and data of the class.\n",
    "Well-defined interfaces make it easier for other developers to understand and use the class, promoting code reuse.\n",
    "Code Reusability:\n",
    "\n",
    "Encapsulation facilitates code reuse by encapsulating the functionality within a class. Once a class is designed and implemented,\n",
    "it can be reused in different parts of the program or even in other projects without modification.\n",
    "External code can use the class without knowing the internal details, reducing the risk of unintended side effects during reuse.\n",
    "Modularity:\n",
    "\n",
    "Encapsulation promotes modularity by dividing a program into smaller, self-contained units (classes). Each class represents a module \n",
    "with its own responsibilities and functionalities.\n",
    "Modules can be developed, tested, and maintained independently, making it easier to manage and understand the overall structure of a program.\n",
    "Ease of Maintenance:\n",
    "\n",
    "Encapsulation makes it easier to maintain code over time. Changes to the internal implementation of a class, such as adding new methods \n",
    "or modifying attributes, do not affect external code as long as the public interface remains unchanged.\n",
    "This separation reduces the likelihood of introducing bugs or unintended consequences during maintenance.\n",
    "Code Readability and Understandability:\n",
    "\n",
    "A well-encapsulated class provides a clean and readable public interface. This clarity makes it easier for other developers to \n",
    "understand how to use the class correctly, fostering collaboration and reducing the learning curve.\n",
    "Security and Error Prevention:\n",
    "\n",
    "Encapsulation helps prevent accidental misuse of classes by restricting direct access to internal details. This restriction reduces\n",
    "the likelihood of errors and enhances the security of the codebase."
   ]
  },
  {
   "cell_type": "code",
   "execution_count": null,
   "id": "d8bab1d0-bb21-4ab7-9dd7-626a3a3cfdd3",
   "metadata": {},
   "outputs": [],
   "source": [
    "19. Describe the concept of information hiding in encapsulation. Why is it essential in software development?\n",
    "Information hiding is a fundamental concept in encapsulation that refers to the practice of restricting access to the internal details of a class and exposing only what is necessary for the external world to interact with the object. It involves marking certain aspects of a class (such as attributes and methods) as private or protected, limiting direct access from external code. The key idea is to hide the implementation details and provide a well-defined and controlled interface for using the class.\n",
    "\n",
    "Essential Aspects of Information Hiding in Encapsulation:\n",
    "Private Attributes and Methods:\n",
    "\n",
    "Private Attributes: Marked with a double underscore (__) prefix, private attributes are not directly accessible from outside the class. They are meant to store internal state or details that should not be modified or accessed directly.\n",
    "Private Methods: Similarly, private methods are marked as private to hide certain operations or functionalities within the class.\n",
    "Access Modifiers:\n",
    "\n",
    "Access modifiers (public, private, protected) control the visibility of class members. In Python, the use of underscores \n",
    "(_ and __) is a convention for indicating the intended visibility, \n",
    "although it is not enforced by the language.\n",
    "Encapsulation Methods (Getters and Setters):\n",
    "\n",
    "Encapsulation often involves providing accessor methods (getters) and mutator methods (setters) to allow controlled acces\n",
    "to private attributes. These methods serve as a bridge between the external code and the internal state of the object.\n",
    "Reasons Why Information Hiding is Essential in Software Development:\n",
    "Security:\n",
    "\n",
    "Information hiding enhances the security of a class by preventing direct access to sensitive data or implementation details.\n",
    "This reduces the risk of unintended modifications or security breaches.\n",
    "Abstraction:\n",
    "\n",
    "Information hiding allows developers to create abstractions, presenting a simplified view of an object's behavior without \n",
    "exposing the complexity of its internal workings. Abstraction promotes a clearer understanding of the class's purpose.\n",
    "Modularity:\n",
    "\n",
    "By encapsulating the implementation details within a class, information hiding promotes modularity. Each class becomes a \n",
    "self-contained module with its own responsibilities, making it easier to manage and maintain.\n",
    "Ease of Maintenance:\n",
    "\n",
    "Hiding the implementation details means that changes made to the internal workings of a class do not affect external code\n",
    "as long as the public interface remains unchanged. This separation simplifies maintenance and reduces the risk of introducing bugs.\n",
    "Code Reusability:\n",
    "\n",
    "Information hiding enables code reuse by allowing classes to be treated as black boxes. Once a class is designed and implemented,\n",
    "it can be reused in different parts of the program without concern for its internal details.\n",
    "Flexibility:\n",
    "\n",
    "Encapsulation provides a level of flexibility for evolving the internal implementation of a class without affecting external code.\n",
    "This allows developers to make improvements or optimizations without breaking existing functionality.\n",
    "Reduced Complexity:\n",
    "\n",
    "External code interacts with a class through a well-defined public interface, reducing the overall complexity of the codebase.\n",
    "Developers can focus on using the class without being burdened by unnecessary details.\n",
    "Consistency:\n",
    "\n",
    "Information hiding promotes a consistent and controlled interaction with objects. By adhering to the defined interfaces and \n",
    "encapsulation principles, developers can write code that is more predictable and less error-prone."
   ]
  },
  {
   "cell_type": "code",
   "execution_count": null,
   "id": "baa587af-bf52-4079-8510-5832bff8f24e",
   "metadata": {},
   "outputs": [],
   "source": [
    "20. Create a Python class called `Customer` with private attributes for customer details like name, address,\n",
    "and contact information. Implement encapsulation to ensure data integrity and security."
   ]
  },
  {
   "cell_type": "code",
   "execution_count": 64,
   "id": "09b2b32a-e31e-4d01-8bb1-20e6f7d28394",
   "metadata": {
    "tags": []
   },
   "outputs": [
    {
     "name": "stdout",
     "output_type": "stream",
     "text": [
      "Customer ID: C001\n",
      "Customer Name: John Doe\n",
      "Customer Address: 123 Main St\n",
      "Customer Contact Info: johndoe@example.com\n",
      "\n",
      "Updated Customer Information:\n",
      "Customer Address: 456 Oak Ave\n",
      "Customer Contact Info: john.doe@example.com\n"
     ]
    }
   ],
   "source": [
    "class Customer:\n",
    "    def __init__(self, customer_id, name, address, contact_info):\n",
    "        self.__customer_id = customer_id  # Private attribute for customer ID\n",
    "        self.__name = name  # Private attribute for customer name\n",
    "        self.__address = address  # Private attribute for customer address\n",
    "        self.__contact_info = contact_info  # Private attribute for customer contact information\n",
    "\n",
    "    # Getter methods for accessing private attributes\n",
    "    def get_customer_id(self):\n",
    "        return self.__customer_id\n",
    "\n",
    "    def get_name(self):\n",
    "        return self.__name\n",
    "\n",
    "    def get_address(self):\n",
    "        return self.__address\n",
    "\n",
    "    def get_contact_info(self):\n",
    "        return self.__contact_info\n",
    "\n",
    "    # Setter methods for modifying private attributes\n",
    "    def set_address(self, new_address):\n",
    "        self.__address = new_address\n",
    "\n",
    "    def set_contact_info(self, new_contact_info):\n",
    "        self.__contact_info = new_contact_info\n",
    "\n",
    "# Example usage\n",
    "customer1 = Customer(customer_id=\"C001\", name=\"John Doe\", address=\"123 Main St\", contact_info=\"johndoe@example.com\")\n",
    "\n",
    "# Accessing customer information using accessor methods\n",
    "print(\"Customer ID:\", customer1.get_customer_id())\n",
    "print(\"Customer Name:\", customer1.get_name())\n",
    "print(\"Customer Address:\", customer1.get_address())\n",
    "print(\"Customer Contact Info:\", customer1.get_contact_info())\n",
    "\n",
    "# Modifying customer information using setter methods\n",
    "customer1.set_address(\"456 Oak Ave\")\n",
    "customer1.set_contact_info(\"john.doe@example.com\")\n",
    "\n",
    "# Displaying updated information\n",
    "print(\"\\nUpdated Customer Information:\")\n",
    "print(\"Customer Address:\", customer1.get_address())\n",
    "print(\"Customer Contact Info:\", customer1.get_contact_info())\n"
   ]
  },
  {
   "cell_type": "code",
   "execution_count": null,
   "id": "843a21c8-9e09-479e-8205-8baa5d713358",
   "metadata": {},
   "outputs": [],
   "source": [
    "Polymorphism:\n",
    "1. What is polymorphism in Python? Explain how it is related to object-oriented programming.\n",
    "Polymorphism is a key concept in object-oriented programming (OOP) that allows objects of different types to be treated as objects of a common type. \n",
    "The term \"polymorphism\" is derived from the Greek words \"poly\" (many) and \"morphē\" (form), indicating the ability of a single entity to take multiple forms.\n",
    "\n",
    "In Python, polymorphism is closely related to the principles of OOP, specifically inheritance and the ability of objects to exhibit \n",
    "different behaviors based on their specific types. There are two main types of polymorphism in Python: compile-time polymorphism \n",
    "(also known as method overloading) and runtime \n",
    "polymorphism (achieved through method overriding)\n",
    "\n",
    "Compile-Time Polymorphism (Method Overloading):\n",
    "Compile-time polymorphism involves defining multiple methods with the same name in a class, \n",
    "but with different parameter lists. The appropriate method to be called is determined \n",
    "at compile time based on the number or types of arguments provided.\n"
   ]
  },
  {
   "cell_type": "code",
   "execution_count": null,
   "id": "c1e13eb3-f68c-42a1-9e55-b39b883e8a50",
   "metadata": {},
   "outputs": [],
   "source": [
    "class MathOperations:\n",
    "    def add(self, a, b):\n",
    "        return a + b\n",
    "\n",
    "    def add(self, a, b, c):\n",
    "        return a + b + c\n",
    "\n",
    "# Example usage\n",
    "math_ops = MathOperations()\n",
    "result1 = math_ops.add(2, 3)       # Calls the first add method\n",
    "result2 = math_ops.add(2, 3, 5)    # Calls the second add method\n"
   ]
  },
  {
   "cell_type": "code",
   "execution_count": null,
   "id": "33dd9b4d-a357-4d3c-97ed-59c1ad693a7a",
   "metadata": {},
   "outputs": [],
   "source": [
    "Runtime Polymorphism (Method Overriding):\n",
    "Runtime polymorphism is achieved through method overriding, where a method in a base class is redefined in a derived class with the same signature.\n",
    "The appropriate method to be called is determined at runtime based on the actual type of the object."
   ]
  },
  {
   "cell_type": "code",
   "execution_count": null,
   "id": "37935781-2f34-453b-94d4-f1a7410167df",
   "metadata": {},
   "outputs": [],
   "source": [
    "class Animal:\n",
    "    def make_sound(self):\n",
    "        pass\n",
    "\n",
    "class Dog(Animal):\n",
    "    def make_sound(self):\n",
    "        return \"Woof!\"\n",
    "\n",
    "class Cat(Animal):\n",
    "    def make_sound(self):\n",
    "        return \"Meow!\"\n",
    "\n",
    "# Example usage\n",
    "dog = Dog()\n",
    "cat = Cat()\n",
    "\n",
    "print(dog.make_sound())  # Calls the make_sound method of Dog\n",
    "print(cat.make_sound())  # Calls the make_sound method of Cat\n"
   ]
  },
  {
   "cell_type": "code",
   "execution_count": null,
   "id": "9427c462-2ca8-4c66-90a7-f19ccbc116e5",
   "metadata": {},
   "outputs": [],
   "source": [
    "Significance of Polymorphism in OOP:\n",
    "Code Reusability:\n",
    "\n",
    "Polymorphism promotes code reusability by allowing a single interface to be used to represent different types of objects. This reduces redundancy in code.\n",
    "Flexibility and Extensibility:\n",
    "\n",
    "Polymorphism provides flexibility, allowing new classes to be added without modifying existing code.\n",
    "Code can work with objects of a common type without needing to know their specific implementations.\n",
    "Readability:\n",
    "\n",
    "Polymorphism enhances code readability by allowing code to be written in a way that is more intuitive and mirrors real-world scenarios.\n",
    "Ease of Maintenance:\n",
    "\n",
    "Polymorphism simplifies maintenance by reducing dependencies. Changes in one part of the codebase do not necessarily \n",
    "impact other parts, as long as the interface remains consistent.\n",
    "Dynamic Behavior:\n",
    "\n",
    "Polymorphism enables dynamic behavior in programs. The behavior of an object is determined at runtime, allowing for more adaptive and dynamic systems."
   ]
  },
  {
   "cell_type": "code",
   "execution_count": null,
   "id": "287ffda4-0b4f-4fa2-95d1-7670e17bd54d",
   "metadata": {},
   "outputs": [],
   "source": [
    "2. Describe the difference between compile-time polymorphism and runtime polymorphism in Python.\n",
    "Compile-Time Polymorphism (Method Overloading):\n",
    "\n",
    "Definition:\n",
    "\n",
    "Compile-time polymorphism, also known as method overloading, involves defining multiple methods with the same name within a class,\n",
    "but with different parameter lists.\n",
    "The appropriate method to be called is determined at compile time based on the number or types of arguments provided."
   ]
  },
  {
   "cell_type": "code",
   "execution_count": null,
   "id": "82ac06cc-39e3-4162-a880-1e68a9d3b00c",
   "metadata": {},
   "outputs": [],
   "source": [
    "class MathOperations:\n",
    "    def add(self, a, b):\n",
    "        return a + b\n",
    "\n",
    "    def add(self, a, b, c):\n",
    "        return a + b + c\n",
    "\n",
    "# Example usage\n",
    "math_ops = MathOperations()\n",
    "result1 = math_ops.add(2, 3)       # Calls the first add method\n",
    "result2 = math_ops.add(2, 3, 5)    # Calls the second add method\n"
   ]
  },
  {
   "cell_type": "code",
   "execution_count": null,
   "id": "9533cfe8-b31f-4235-b819-660e034aa917",
   "metadata": {},
   "outputs": [],
   "source": [
    "Characteristics:\n",
    "\n",
    "Compile-time polymorphism is achieved through method overloading, where the compiler selects the appropriate method \n",
    "based on the number and types of arguments during compilation.\n",
    "The methods must have the same name but different parameter lists.\n",
    "The decision of which method to call is made at compile time.\n",
    "Runtime Polymorphism (Method Overriding):\n",
    "\n",
    "Definition:\n",
    "\n",
    "Runtime polymorphism involves defining a method in a base class and then redefining that method in a derived class with the same signature.\n",
    "The appropriate method to be called is determined at runtime based on the actual type of the object."
   ]
  },
  {
   "cell_type": "code",
   "execution_count": 67,
   "id": "0a6c38a1-cc6b-4c5c-929f-054f80851f40",
   "metadata": {
    "tags": []
   },
   "outputs": [
    {
     "name": "stdout",
     "output_type": "stream",
     "text": [
      "Woof!\n",
      "Meow!\n"
     ]
    }
   ],
   "source": [
    "class Animal:\n",
    "    def make_sound(self):\n",
    "        pass\n",
    "\n",
    "class Dog(Animal):\n",
    "    def make_sound(self):\n",
    "        return \"Woof!\"\n",
    "\n",
    "class Cat(Animal):\n",
    "    def make_sound(self):\n",
    "        return \"Meow!\"\n",
    "\n",
    "# Example usage\n",
    "dog = Dog()\n",
    "cat = Cat()\n",
    "\n",
    "print(dog.make_sound())  # Calls the make_sound method of Dog\n",
    "print(cat.make_sound())  # Calls the make_sound method of Cat\n"
   ]
  },
  {
   "cell_type": "code",
   "execution_count": null,
   "id": "fa9e3631-2d6e-434e-b553-c0d1a7ee8771",
   "metadata": {},
   "outputs": [],
   "source": [
    "Characteristics:\n",
    "\n",
    "Runtime polymorphism is achieved through method overriding, where the base class has a method, and the derived class provides its implementation of the same method.\n",
    "The decision of which method to call is made at runtime, based on the actual type of the object.\n",
    "It allows for more dynamic behavior and is often associated with inheritance.\n",
    "Key Differences:\n",
    "\n",
    "Timing of Decision:\n",
    "\n",
    "Compile-Time Polymorphism: The decision of which method to call is made at compile time based on the method signature and the provided arguments.\n",
    "Runtime Polymorphism: The decision of which method to call is made at runtime based on the actual type of the object.\n",
    "Mechanism:\n",
    "\n",
    "Compile-Time Polymorphism: Achieved through method overloading, where multiple methods with the same name but different parameter lists are defined.\n",
    "Runtime Polymorphism: Achieved through method overriding, where a method in a base class is redefined in a derived class with the same signature.\n",
    "Flexibility:\n",
    "\n",
    "Compile-Time Polymorphism: Less flexible, as the decision is fixed during compilation and cannot be changed at runtime.\n",
    "Runtime Polymorphism: More flexible, as the decision is deferred until runtime, allowing for dynamic behavior."
   ]
  },
  {
   "cell_type": "code",
   "execution_count": null,
   "id": "302505d6-a92f-4970-965a-faf4bba56a16",
   "metadata": {},
   "outputs": [],
   "source": [
    "3. Create a Python class hierarchy for shapes (e.g., circle, square, triangle) and demonstrate polymorphism\n",
    "through a common method, such as `calculate_area()`."
   ]
  },
  {
   "cell_type": "code",
   "execution_count": 68,
   "id": "4ff6c393-2c6e-4b00-ac64-266c036829ec",
   "metadata": {
    "tags": []
   },
   "outputs": [
    {
     "name": "stdout",
     "output_type": "stream",
     "text": [
      "Area of Circle: 78.53981633974483\n",
      "Area of Square: 16\n",
      "Area of Triangle: 9.0\n"
     ]
    }
   ],
   "source": [
    "import math\n",
    "\n",
    "# Base class for shapes\n",
    "class Shape:\n",
    "    def calculate_area(self):\n",
    "        pass\n",
    "\n",
    "# Circle class derived from Shape\n",
    "class Circle(Shape):\n",
    "    def __init__(self, radius):\n",
    "        self.radius = radius\n",
    "\n",
    "    def calculate_area(self):\n",
    "        return math.pi * self.radius**2\n",
    "\n",
    "# Square class derived from Shape\n",
    "class Square(Shape):\n",
    "    def __init__(self, side_length):\n",
    "        self.side_length = side_length\n",
    "\n",
    "    def calculate_area(self):\n",
    "        return self.side_length**2\n",
    "\n",
    "# Triangle class derived from Shape\n",
    "class Triangle(Shape):\n",
    "    def __init__(self, base, height):\n",
    "        self.base = base\n",
    "        self.height = height\n",
    "\n",
    "    def calculate_area(self):\n",
    "        return 0.5 * self.base * self.height\n",
    "\n",
    "# Example usage demonstrating polymorphism\n",
    "shapes = [Circle(radius=5), Square(side_length=4), Triangle(base=3, height=6)]\n",
    "\n",
    "for shape in shapes:\n",
    "    print(f\"Area of {shape.__class__.__name__}: {shape.calculate_area()}\")\n"
   ]
  },
  {
   "cell_type": "code",
   "execution_count": null,
   "id": "1fb64e55-6760-439b-8ad5-21aec1ecca69",
   "metadata": {},
   "outputs": [],
   "source": [
    "4. Explain the concept of method overriding in polymorphism. Provide an example.\n",
    "Method overriding is a concept in object-oriented programming where a subclass provides a specific implementation\n",
    "for a method that is already defined in its superclass. The overridden method in the subclass has the same signature\n",
    "(name and parameters) as the method in the superclass. When an object of the subclass calls the overridden method, \n",
    "the subclass's implementation is invoked instead of the superclass's implementation."
   ]
  },
  {
   "cell_type": "code",
   "execution_count": 69,
   "id": "04850426-e4ed-4f50-a25b-a153a825e5e0",
   "metadata": {
    "tags": []
   },
   "outputs": [
    {
     "name": "stdout",
     "output_type": "stream",
     "text": [
      "Woof!\n",
      "Meow!\n"
     ]
    }
   ],
   "source": [
    "class Animal:\n",
    "    def make_sound(self):\n",
    "        return \"Generic animal sound\"\n",
    "\n",
    "class Dog(Animal):\n",
    "    def make_sound(self):\n",
    "        return \"Woof!\"\n",
    "\n",
    "class Cat(Animal):\n",
    "    def make_sound(self):\n",
    "        return \"Meow!\"\n",
    "\n",
    "# Example usage\n",
    "dog = Dog()\n",
    "cat = Cat()\n",
    "\n",
    "print(dog.make_sound())  # Calls the make_sound method of Dog\n",
    "print(cat.make_sound())  # Calls the make_sound method of Cat\n"
   ]
  },
  {
   "cell_type": "code",
   "execution_count": null,
   "id": "4f94b035-e865-4963-b649-7c4786505ba6",
   "metadata": {},
   "outputs": [],
   "source": [
    "in this example:\n",
    "\n",
    "Animal is the base class with a method make_sound().\n",
    "\n",
    "Dog and Cat are subclasses of Animal, and they provide their own implementations of the make_sound() method.\n",
    "\n",
    "When an instance of Dog calls make_sound(), it invokes the overridden method in the Dog class, producing \"Woof!\".\n",
    "\n",
    "Similarly, when an instance of Cat calls make_sound(), it invokes the overridden method in the Cat class, producing \"Meow!\".\n",
    "\n",
    "Key Points about Method Overriding:\n",
    "Same Method Signature:\n",
    "\n",
    "The overridden method in the subclass must have the same signature (name and parameters) as the method in the superclass.\n",
    "Inheritance:\n",
    "\n",
    "Method overriding is typically associated with inheritance, where a subclass inherits from a superclass and provides its specific implementation of certain methods.\n",
    "Dynamic Dispatch:\n",
    "\n",
    "The decision of which method to call is made at runtime based on the actual type of the object. This is known as dynamic dispatch.\n",
    "Polymorphism:\n",
    "\n",
    "Method overriding is a key component of polymorphism, allowing objects of different types to be treated as objects of a common type.\n",
    "Flexibility and Extensibility:\n",
    "\n",
    "Method overriding enhances flexibility and extensibility in the code. New subclasses can provide their implementations without modifying the existing codebase.\n",
    "Use of super():\n",
    "\n",
    "In some cases, a subclass may want to invoke the overridden method in the superclass. The super() function is used for this purpose."
   ]
  },
  {
   "cell_type": "code",
   "execution_count": null,
   "id": "0b6d2c4e-29c8-4f2c-b57e-b76fb22b62ed",
   "metadata": {},
   "outputs": [],
   "source": [
    "5. How is polymorphism different from method overloading in Python? Provide examples for both.\n",
    "Polymorphism and method overloading are related concepts in object-oriented programming, but they serve different\n",
    "purposes and are implemented differently in Python.\n",
    "\n",
    "Polymorphism:\n",
    "Polymorphism refers to the ability of objects of different types to be treated as objects of a common type.\n",
    "It allows a single interface to represent different types of objects, and the appropriate method to be called is\n",
    "determined at runtime based on the actual type of the object."
   ]
  },
  {
   "cell_type": "code",
   "execution_count": 70,
   "id": "4f55a36f-9d20-4346-8c2d-994a7b3df2db",
   "metadata": {
    "tags": []
   },
   "outputs": [
    {
     "name": "stdout",
     "output_type": "stream",
     "text": [
      "Woof!\n",
      "Meow!\n"
     ]
    }
   ],
   "source": [
    "class Animal:\n",
    "    def make_sound(self):\n",
    "        pass\n",
    "\n",
    "class Dog(Animal):\n",
    "    def make_sound(self):\n",
    "        return \"Woof!\"\n",
    "\n",
    "class Cat(Animal):\n",
    "    def make_sound(self):\n",
    "        return \"Meow!\"\n",
    "\n",
    "# Example usage demonstrating polymorphism\n",
    "def animal_sound(animal):\n",
    "    return animal.make_sound()\n",
    "\n",
    "dog = Dog()\n",
    "cat = Cat()\n",
    "\n",
    "print(animal_sound(dog))  # Calls the make_sound method of Dog\n",
    "print(animal_sound(cat))  # Calls the make_sound method of Cat\n"
   ]
  },
  {
   "cell_type": "code",
   "execution_count": null,
   "id": "2a118dd0-171f-4e10-864f-82736b79e9e6",
   "metadata": {},
   "outputs": [],
   "source": [
    "Method Overloading:\n",
    "Method overloading involves defining multiple methods with the same name in a class, but with different parameter lists.\n",
    "The appropriate method to be called is determined at compile time\n",
    "based on the number or types of arguments provided."
   ]
  },
  {
   "cell_type": "code",
   "execution_count": 71,
   "id": "9920e7e9-12e2-4287-9054-d81b8a415485",
   "metadata": {
    "tags": []
   },
   "outputs": [
    {
     "name": "stdout",
     "output_type": "stream",
     "text": [
      "5\n",
      "10\n"
     ]
    }
   ],
   "source": [
    "class MathOperations:\n",
    "    def add(self, a, b, c=None):\n",
    "        if c is not None:\n",
    "            return a + b + c\n",
    "        else:\n",
    "            return a + b\n",
    "\n",
    "# Example usage demonstrating method overloading\n",
    "math_ops = MathOperations()\n",
    "result1 = math_ops.add(2, 3)       # Calls the first add method\n",
    "result2 = math_ops.add(2, 3, 5)    # Calls the second add method\n",
    "\n",
    "print(result1)  # Output: 5\n",
    "print(result2)  # Output: 10\n"
   ]
  },
  {
   "cell_type": "code",
   "execution_count": null,
   "id": "3f050dd6-d6ab-4f87-b3e0-0ceb4a40273d",
   "metadata": {},
   "outputs": [],
   "source": [
    "Key Differences:\n",
    "Timing of Decision:\n",
    "\n",
    "Polymorphism: Decision made at runtime based on the actual type of the object.\n",
    "Method Overloading: Decision made at compile time based on the number or types of arguments.\n",
    "Mechanism:\n",
    "\n",
    "Polymorphism: Achieved through method overriding, where a subclass provides a specific implementation of a method in the superclass.\n",
    "Method Overloading: Achieved by defining multiple methods with the same name but different parameter lists.\n",
    "Flexibility:\n",
    "\n",
    "Polymorphism: More flexible, allows different types of objects to be treated as a common type.\n",
    "Method Overloading: Limited flexibility, relies on the number or types of arguments provided.\n",
    "Inheritance:\n",
    "\n",
    "Polymorphism: Often associated with inheritance, where subclasses provide specific implementations of methods.\n",
    "Method Overloading: Not necessarily related to inheritance, can be used within a single class."
   ]
  },
  {
   "cell_type": "code",
   "execution_count": null,
   "id": "7c94b06f-61ac-447b-baa5-76d9177329d5",
   "metadata": {},
   "outputs": [],
   "source": [
    "6. Create a Python class called `Animal` with a method `speak()`. Then, create child classes like `Dog`, `Cat`, and `Bird`, each \n",
    "with their own `speak()` method. Demonstrate polymorphism by calling the `speak()` method\n",
    "on objects of different subclasses."
   ]
  },
  {
   "cell_type": "code",
   "execution_count": 72,
   "id": "1fffac70-a996-4c6b-a1ee-aa5917dcd12f",
   "metadata": {
    "tags": []
   },
   "outputs": [
    {
     "name": "stdout",
     "output_type": "stream",
     "text": [
      "Woof!\n",
      "Meow!\n",
      "Tweet!\n"
     ]
    }
   ],
   "source": [
    "class Animal:\n",
    "    def speak(self):\n",
    "        return \"Generic animal sound\"\n",
    "\n",
    "class Dog(Animal):\n",
    "    def speak(self):\n",
    "        return \"Woof!\"\n",
    "\n",
    "class Cat(Animal):\n",
    "    def speak(self):\n",
    "        return \"Meow!\"\n",
    "\n",
    "class Bird(Animal):\n",
    "    def speak(self):\n",
    "        return \"Tweet!\"\n",
    "\n",
    "# Example usage demonstrating polymorphism\n",
    "def animal_speak(animal):\n",
    "    return animal.speak()\n",
    "\n",
    "# Creating instances of different subclasses\n",
    "dog = Dog()\n",
    "cat = Cat()\n",
    "bird = Bird()\n",
    "\n",
    "# Calling the speak() method on objects of different subclasses\n",
    "print(animal_speak(dog))  # Calls the speak method of Dog\n",
    "print(animal_speak(cat))  # Calls the speak method of Cat\n",
    "print(animal_speak(bird))  # Calls the speak method of Bird\n"
   ]
  },
  {
   "cell_type": "code",
   "execution_count": null,
   "id": "4da9dfad-2433-4af8-86d9-fe814ba46f8c",
   "metadata": {},
   "outputs": [],
   "source": [
    "In this example:\n",
    "\n",
    "The Animal class has a method speak() with a generic implementation.\n",
    "\n",
    "The Dog, Cat, and Bird classes are subclasses of Animal, and each provides its own implementation of the speak() method.\n",
    "\n",
    "The animal_speak function takes an object of type Animal and calls its speak() method.\n",
    "\n",
    "Instances of Dog, Cat, and Bird are created, and the animal_speak function is called on each of them.\n",
    "\n",
    "Despite the objects being of different types, the speak() method is dynamically dispatched based on their actual types, showcasing polymorphism.\n",
    "\n",
    "When the speak() method is called on each object, the method specific to the subclass is executed, demonstrating how\n",
    "polymorphism allows for a common interface (speak()) to be used with different types of objects.\n",
    "\n",
    "\n",
    "\n",
    "\n"
   ]
  },
  {
   "cell_type": "code",
   "execution_count": null,
   "id": "ca9623b1-ecde-4e7f-87dc-46d7a76ae9a5",
   "metadata": {},
   "outputs": [],
   "source": [
    "7. Discuss the use of abstract methods and classes in achieving polymorphism in Python. Provide an example\n",
    "using the `abc` module.\n",
    "Abstract methods and classes are tools in Python that contribute to achieving polymorphism by defining a common interface for subclasses to implement.\n",
    "In Python, abstract classes are created using the abc (Abstract Base Classes) module. An abstract class can have abstract methods,\n",
    "which are methods that are declared but have no implementation in the abstract class itself. Subclasses are then required\n",
    "to provide concrete implementations for these abstract methods.\n",
    "\n",
    "Here's an example using the abc module to create an abstract class Shape with an abstract method calculate_area(). \n",
    "Subclasses Circle, Square, and Triangle will then implement this method:\n"
   ]
  },
  {
   "cell_type": "code",
   "execution_count": 73,
   "id": "60ca93b5-869b-4345-99af-735c4614cef1",
   "metadata": {
    "tags": []
   },
   "outputs": [
    {
     "name": "stdout",
     "output_type": "stream",
     "text": [
      "Area of Circle: 78.53981633974483\n",
      "Area of Square: 16\n",
      "Area of Triangle: 9.0\n"
     ]
    }
   ],
   "source": [
    "from abc import ABC, abstractmethod\n",
    "import math\n",
    "\n",
    "# Abstract class with an abstract method\n",
    "class Shape(ABC):\n",
    "    @abstractmethod\n",
    "    def calculate_area(self):\n",
    "        pass\n",
    "\n",
    "# Concrete subclasses implementing the abstract method\n",
    "class Circle(Shape):\n",
    "    def __init__(self, radius):\n",
    "        self.radius = radius\n",
    "\n",
    "    def calculate_area(self):\n",
    "        return math.pi * self.radius**2\n",
    "\n",
    "class Square(Shape):\n",
    "    def __init__(self, side_length):\n",
    "        self.side_length = side_length\n",
    "\n",
    "    def calculate_area(self):\n",
    "        return self.side_length**2\n",
    "\n",
    "class Triangle(Shape):\n",
    "    def __init__(self, base, height):\n",
    "        self.base = base\n",
    "        self.height = height\n",
    "\n",
    "    def calculate_area(self):\n",
    "        return 0.5 * self.base * self.height\n",
    "\n",
    "# Example usage demonstrating polymorphism\n",
    "shapes = [Circle(radius=5), Square(side_length=4), Triangle(base=3, height=6)]\n",
    "\n",
    "for shape in shapes:\n",
    "    # Polymorphism through the common interface (calculate_area)\n",
    "    print(f\"Area of {shape.__class__.__name__}: {shape.calculate_area()}\")\n"
   ]
  },
  {
   "cell_type": "code",
   "execution_count": null,
   "id": "7be0ec6c-edd5-48e9-b498-a55563155d2b",
   "metadata": {},
   "outputs": [],
   "source": [
    "8. Create a Python class hierarchy for a vehicle system (e.g., car, bicycle, boat) and implement a polymorphic `start()` method that\n",
    "prints a message specific to each vehicle type.\n"
   ]
  },
  {
   "cell_type": "code",
   "execution_count": 74,
   "id": "256c2e4e-84c7-495c-8648-accd1c1fd905",
   "metadata": {
    "tags": []
   },
   "outputs": [
    {
     "name": "stdout",
     "output_type": "stream",
     "text": [
      "Toyota Camry engine started. Vroom, vroom!\n",
      "Schwinn Mountain Bike is ready to pedal. Let's go!\n",
      "Yamaha Speedboat engine started. Setting sail!\n"
     ]
    }
   ],
   "source": [
    "from abc import ABC, abstractmethod\n",
    "\n",
    "# Abstract class with an abstract method\n",
    "class Vehicle(ABC):\n",
    "    def __init__(self, brand, model):\n",
    "        self.brand = brand\n",
    "        self.model = model\n",
    "\n",
    "    @abstractmethod\n",
    "    def start(self):\n",
    "        pass\n",
    "\n",
    "# Concrete subclasses implementing the abstract method\n",
    "class Car(Vehicle):\n",
    "    def start(self):\n",
    "        return f\"{self.brand} {self.model} engine started. Vroom, vroom!\"\n",
    "\n",
    "class Bicycle(Vehicle):\n",
    "    def start(self):\n",
    "        return f\"{self.brand} {self.model} is ready to pedal. Let's go!\"\n",
    "\n",
    "class Boat(Vehicle):\n",
    "    def start(self):\n",
    "        return f\"{self.brand} {self.model} engine started. Setting sail!\"\n",
    "\n",
    "# Example usage demonstrating polymorphism\n",
    "vehicles = [\n",
    "    Car(brand=\"Toyota\", model=\"Camry\"),\n",
    "    Bicycle(brand=\"Schwinn\", model=\"Mountain Bike\"),\n",
    "    Boat(brand=\"Yamaha\", model=\"Speedboat\")\n",
    "]\n",
    "\n",
    "for vehicle in vehicles:\n",
    "    # Polymorphism through the common interface (start)\n",
    "    print(vehicle.start())\n"
   ]
  },
  {
   "cell_type": "code",
   "execution_count": null,
   "id": "62bd81e6-bfce-4cd0-ba98-dd687480d3a4",
   "metadata": {},
   "outputs": [],
   "source": [
    "9. Explain the significance of the `isinstance()` and `issubclass()` functions in Python polymorphism.\n",
    "isinstance() Function:\n",
    "\n",
    "The isinstance() function is used to check if an object is an instance of a specified class or a tuple of classes.\n",
    "It is particularly useful for determining if an object can be treated as an instance of a certain class, allowing for more flexible and dynamic code."
   ]
  },
  {
   "cell_type": "code",
   "execution_count": null,
   "id": "05270e2c-d256-4eb1-bc1d-fa98d9058539",
   "metadata": {},
   "outputs": [],
   "source": []
  },
  {
   "cell_type": "code",
   "execution_count": 75,
   "id": "ab135f2d-f67a-4b15-b9db-3da47db8df81",
   "metadata": {
    "tags": []
   },
   "outputs": [
    {
     "name": "stdout",
     "output_type": "stream",
     "text": [
      "True\n",
      "True\n"
     ]
    }
   ],
   "source": [
    "class Animal:\n",
    "    pass\n",
    "\n",
    "class Dog(Animal):\n",
    "    pass\n",
    "\n",
    "dog_instance = Dog()\n",
    "\n",
    "# Check if dog_instance is an instance of Dog or Animal\n",
    "print(isinstance(dog_instance, Dog))    # True\n",
    "print(isinstance(dog_instance, Animal)) # True\n"
   ]
  },
  {
   "cell_type": "code",
   "execution_count": null,
   "id": "e634f3a1-6ed8-47c2-9919-fe0a6504bd23",
   "metadata": {},
   "outputs": [],
   "source": [
    "issubclass() Function:\n",
    "\n",
    "The issubclass() function checks if a class is a subclass of another class or a tuple of classes.\n",
    "It is valuable for verifying the relationships between classes in a class hierarchy."
   ]
  },
  {
   "cell_type": "code",
   "execution_count": 76,
   "id": "ac1a6fb5-51e8-4ac2-a6db-70392620c6ed",
   "metadata": {
    "tags": []
   },
   "outputs": [
    {
     "name": "stdout",
     "output_type": "stream",
     "text": [
      "True\n"
     ]
    }
   ],
   "source": [
    "class Animal:\n",
    "    pass\n",
    "\n",
    "class Dog(Animal):\n",
    "    pass\n",
    "\n",
    "# Check if Dog is a subclass of Animal\n",
    "print(issubclass(Dog, Animal))  # True\n"
   ]
  },
  {
   "cell_type": "code",
   "execution_count": null,
   "id": "71e1c4de-0ebc-44a2-9848-d38e38f79715",
   "metadata": {},
   "outputs": [],
   "source": [
    "Significance in Polymorphism:\n",
    "\n",
    "These functions are crucial for writing code that adapts to varying object types dynamically.\n",
    "They play a key role in ensuring that polymorphism is implemented correctly by checking the compatibility of objects with expected types or classes.\n",
    "Code can be designed to work with a variety of objects, as long as they adhere to a common interface or share a base class, promoting flexibility and extensibility."
   ]
  },
  {
   "cell_type": "code",
   "execution_count": null,
   "id": "80630583-796b-4d64-9c63-2eef16b2b1c4",
   "metadata": {},
   "outputs": [],
   "source": [
    "10. What is the role of the `@abstractmethod` decorator in achieving polymorphism in Python? Provide an\n",
    "example.\n",
    "The @abstractmethod decorator in Python is part of the abc (Abstract Base Classes) module, and it is used to define\n",
    "abstract methods within abstract classes. Abstract methods are methods declared in an abstract class but have no implementation\n",
    "in the abstract class itself. Subclasses are then required to provide concrete implementations for these abstract methods, ensuring a common interface\n",
    "across different classes and promoting polymorphism."
   ]
  },
  {
   "cell_type": "code",
   "execution_count": 77,
   "id": "7dd29638-c68b-4f47-9957-73aac70dfbdf",
   "metadata": {
    "tags": []
   },
   "outputs": [
    {
     "name": "stdout",
     "output_type": "stream",
     "text": [
      "Area of Circle: 78.5\n",
      "Area of Square: 16\n"
     ]
    }
   ],
   "source": [
    "from abc import ABC, abstractmethod\n",
    "\n",
    "# Abstract class with an abstract method\n",
    "class Shape(ABC):\n",
    "    @abstractmethod\n",
    "    def calculate_area(self):\n",
    "        pass\n",
    "\n",
    "# Concrete subclasses implementing the abstract method\n",
    "class Circle(Shape):\n",
    "    def __init__(self, radius):\n",
    "        self.radius = radius\n",
    "\n",
    "    def calculate_area(self):\n",
    "        return 3.14 * self.radius**2\n",
    "\n",
    "class Square(Shape):\n",
    "    def __init__(self, side_length):\n",
    "        self.side_length = side_length\n",
    "\n",
    "    def calculate_area(self):\n",
    "        return self.side_length**2\n",
    "\n",
    "# Example usage demonstrating polymorphism\n",
    "shapes = [Circle(radius=5), Square(side_length=4)]\n",
    "\n",
    "for shape in shapes:\n",
    "    # Polymorphism through the common interface (calculate_area)\n",
    "    print(f\"Area of {shape.__class__.__name__}: {shape.calculate_area()}\")\n"
   ]
  },
  {
   "cell_type": "code",
   "execution_count": null,
   "id": "1ad6a1cd-88a1-4209-93ce-702f0c07668f",
   "metadata": {},
   "outputs": [],
   "source": [
    "11. Create a Python class called `Shape` with a polymorphic method `area()` that calculates the area of different shapes (e.g., circle, rectangle, triangle)."
   ]
  },
  {
   "cell_type": "code",
   "execution_count": 78,
   "id": "9d855985-47a5-4678-9cd9-022b20143081",
   "metadata": {
    "tags": []
   },
   "outputs": [
    {
     "name": "stdout",
     "output_type": "stream",
     "text": [
      "Area of Circle: 78.53981633974483\n",
      "Area of Rectangle: 24\n",
      "Area of Triangle: 12.0\n"
     ]
    }
   ],
   "source": [
    "import math\n",
    "\n",
    "class Shape:\n",
    "    def area(self):\n",
    "        pass  # This method will be overridden by subclasses\n",
    "\n",
    "class Circle(Shape):\n",
    "    def __init__(self, radius):\n",
    "        self.radius = radius\n",
    "\n",
    "    def area(self):\n",
    "        return math.pi * self.radius**2\n",
    "\n",
    "class Rectangle(Shape):\n",
    "    def __init__(self, width, height):\n",
    "        self.width = width\n",
    "        self.height = height\n",
    "\n",
    "    def area(self):\n",
    "        return self.width * self.height\n",
    "\n",
    "class Triangle(Shape):\n",
    "    def __init__(self, base, height):\n",
    "        self.base = base\n",
    "        self.height = height\n",
    "\n",
    "    def area(self):\n",
    "        return 0.5 * self.base * self.height\n",
    "\n",
    "# Example usage demonstrating polymorphism\n",
    "shapes = [Circle(radius=5), Rectangle(width=4, height=6), Triangle(base=3, height=8)]\n",
    "\n",
    "for shape in shapes:\n",
    "    # Polymorphism through the common interface (area)\n",
    "    print(f\"Area of {shape.__class__.__name__}: {shape.area()}\")\n"
   ]
  },
  {
   "cell_type": "code",
   "execution_count": null,
   "id": "88d5caa5-cefe-48d3-9d21-ad87e51e2be9",
   "metadata": {},
   "outputs": [],
   "source": [
    "12. Discuss the benefits of polymorphism in terms of code reusability and flexibility in Python programs.\n",
    "Polymorphism in Python offers several benefits that contribute to code reusability and flexibility in programs. Here are key advantages:\n",
    "\n",
    "Code Reusability:\n",
    "\n",
    "Polymorphism enables the creation of common interfaces or abstract classes, allowing multiple classes to share a consistent method or attribute name.\n",
    "Code written to interact with a specific interface or base class can be reused with any subclass that adheres to that interface. This enhances modularity and reusability.\n",
    "Flexibility:\n",
    "\n",
    "Polymorphism allows for dynamic and flexible code that can adapt to different types of objects during runtime.\n",
    "Algorithms and functions can be written to operate on objects based on their shared interfaces rather than on specific class implementations, promoting flexibility.\n",
    "Extensibility:\n",
    "\n",
    "New classes can be added to a system without modifying existing code, as long as they adhere to a common interface or inherit from a shared base class.\n",
    "This promotes an open/closed principle where the code can be extended without modifying its existing functionality.\n",
    "Easier Maintenance:\n",
    "\n",
    "Changes to the underlying implementations of subclasses do not affect the code that relies on the common interface. \n",
    "This reduces the likelihood of introducing bugs in existing code during maintenance.\n",
    "Promotes Consistency:\n",
    "\n",
    "Polymorphism encourages the use of common interfaces or abstract classes, leading to consistent naming conventions and structures across different classes.\n",
    "This consistency makes the code more readable and understandable.\n",
    "Dynamic Dispatch:\n",
    "\n",
    "The ability to choose the appropriate method at runtime based on the actual type of the object (dynamic dispatch) allows \n",
    "for more adaptable and context-aware behavior.\n",
    "This dynamic behavior is particularly valuable in scenarios where the behavior of an object may change based on its type or state.\n",
    "Enhances Collaboration:\n",
    "\n",
    "Polymorphism facilitates collaboration among developers working on different components of a system. As long as interfaces \n",
    "are well-defined, different teams can work independently on their components, ensuring that they integrate seamlessly.\n",
    "Reduces Redundancy:\n",
    "\n",
    "With polymorphism, common functionality can be defined in a shared base class or interface, reducing the need to duplicate code across multiple subclasses.\n",
    "This results in cleaner, more concise, and maintainable code.\n",
    "Testing and Debugging:\n",
    "\n",
    "Testing becomes more straightforward as common interfaces or abstract classes define expected behavior. Testing for adherence to the \n",
    "interface can be done independently of specific class implementations.\n",
    "Debugging can be isolated to specific subclasses without affecting the overall functionality."
   ]
  },
  {
   "cell_type": "code",
   "execution_count": null,
   "id": "d370c27d-2fa4-4208-aa9f-4f43f1acc881",
   "metadata": {},
   "outputs": [],
   "source": [
    "13. Explain the use of the `super()` function in Python polymorphism. How does it help call methods of parent\n",
    "classes?\n",
    "The super() function in Python is used in the context of inheritance and polymorphism to access \n",
    "and call methods or attributes of a parent class from within a subclass. It is particularly useful when a subclass overrides a method from its superclass,\n",
    "and the subclass wants to invoke the overridden method of the parent class.\n",
    "\n"
   ]
  },
  {
   "cell_type": "code",
   "execution_count": 79,
   "id": "08506cd4-6472-4df7-9bff-ef7109b675f7",
   "metadata": {
    "tags": []
   },
   "outputs": [
    {
     "name": "stdout",
     "output_type": "stream",
     "text": [
      "Parent's method\n",
      "Child's method\n"
     ]
    }
   ],
   "source": [
    "class Parent:\n",
    "    def overridden_method(self):\n",
    "        print(\"Parent's method\")\n",
    "\n",
    "class Child(Parent):\n",
    "    def overridden_method(self):\n",
    "        super().overridden_method()  # Calls the overridden method of the parent class\n",
    "        print(\"Child's method\")\n",
    "\n",
    "# Example usage\n",
    "child_instance = Child()\n",
    "child_instance.overridden_method()\n"
   ]
  },
  {
   "cell_type": "code",
   "execution_count": null,
   "id": "b0490053-ab10-459e-bde3-36c83de44153",
   "metadata": {},
   "outputs": [],
   "source": [
    "In this example:\n",
    "\n",
    "The Parent class has a method overridden_method().\n",
    "\n",
    "The Child class inherits from Parent and overrides the overridden_method().\n",
    "\n",
    "Inside the overridden_method() of the Child class, super().overridden_method() is used to call the overridden method of the parent class\n",
    "before adding the specific behavior of the child class.\n",
    "\n",
    "When child_instance.overridden_method() is called, it prints both \"Parent's method\" and \"Child's method.\"\n",
    "\n",
    "How super() works:\n",
    "\n",
    "super() returns a temporary object of the superclass, which allows you to call its methods.\n",
    "When calling super().overridden_method(), it looks for the method named overridden_method() in the superclass of the current class (Child),\n",
    "and it calls the first occurrence it finds in the inheritance chain.\n",
    "Benefits of using super() in Polymorphism:\n",
    "\n",
    "Maintainability: super() promotes code maintainability by providing a consistent and clear way to call methods from parent classes.\n",
    "\n",
    "Dynamic Dispatch: It ensures that the correct method is called based on the method resolution order (MRO) in the class hierarchy, allowing for dynamic dispatch.\n",
    "\n",
    "Avoid Hardcoding Class Names: Using super() avoids hardcoding the names of parent classes, making the code more adaptable to changes in the class hierarchy.\n",
    "\n",
    "Consistency: It promotes a consistent and standard way of invoking methods in a polymorphic context, improving code readability."
   ]
  },
  {
   "cell_type": "code",
   "execution_count": null,
   "id": "7e1c10bc-ea11-480b-88c4-cf78379612e6",
   "metadata": {},
   "outputs": [],
   "source": [
    "14. Create a Python class hierarchy for a banking system with various account types (e.g., savings, checking,)\n"
   ]
  },
  {
   "cell_type": "code",
   "execution_count": 80,
   "id": "fe52bdbd-0f50-45a1-9c8d-3c926e2511cf",
   "metadata": {
    "tags": []
   },
   "outputs": [
    {
     "name": "stdout",
     "output_type": "stream",
     "text": [
      "Deposit of $500 successful. New balance: $1500\n",
      "Interest of $30.0 added. New balance: $1530.0\n",
      "Current balance: $1530.0\n",
      "Withdrawal of $300 successful. New balance: $200\n",
      "Current balance: $200\n",
      "Purchase of $1200 successful. New balance: $1200\n",
      "Current balance: $1200\n"
     ]
    }
   ],
   "source": [
    "class BankAccount:\n",
    "    def __init__(self, account_number, account_holder, balance=0):\n",
    "        self.account_number = account_number\n",
    "        self.account_holder = account_holder\n",
    "        self.balance = balance\n",
    "\n",
    "    def deposit(self, amount):\n",
    "        self.balance += amount\n",
    "        return f\"Deposit of ${amount} successful. New balance: ${self.balance}\"\n",
    "\n",
    "    def withdraw(self, amount):\n",
    "        if amount <= self.balance:\n",
    "            self.balance -= amount\n",
    "            return f\"Withdrawal of ${amount} successful. New balance: ${self.balance}\"\n",
    "        else:\n",
    "            return \"Insufficient funds.\"\n",
    "\n",
    "    def get_balance(self):\n",
    "        return f\"Current balance: ${self.balance}\"\n",
    "\n",
    "\n",
    "class SavingsAccount(BankAccount):\n",
    "    def __init__(self, account_number, account_holder, balance=0, interest_rate=0.01):\n",
    "        super().__init__(account_number, account_holder, balance)\n",
    "        self.interest_rate = interest_rate\n",
    "\n",
    "    def calculate_interest(self):\n",
    "        interest_amount = self.balance * self.interest_rate\n",
    "        self.balance += interest_amount\n",
    "        return f\"Interest of ${interest_amount} added. New balance: ${self.balance}\"\n",
    "\n",
    "\n",
    "class CheckingAccount(BankAccount):\n",
    "    def __init__(self, account_number, account_holder, balance=0, overdraft_limit=100):\n",
    "        super().__init__(account_number, account_holder, balance)\n",
    "        self.overdraft_limit = overdraft_limit\n",
    "\n",
    "    def withdraw(self, amount):\n",
    "        if amount <= self.balance + self.overdraft_limit:\n",
    "            self.balance -= amount\n",
    "            return f\"Withdrawal of ${amount} successful. New balance: ${self.balance}\"\n",
    "        else:\n",
    "            return \"Withdrawal exceeds overdraft limit.\"\n",
    "\n",
    "\n",
    "class CreditCardAccount(BankAccount):\n",
    "    def __init__(self, account_number, account_holder, balance=0, credit_limit=1000):\n",
    "        super().__init__(account_number, account_holder, balance)\n",
    "        self.credit_limit = credit_limit\n",
    "\n",
    "    def make_purchase(self, amount):\n",
    "        if amount <= self.balance + self.credit_limit:\n",
    "            self.balance += amount\n",
    "            return f\"Purchase of ${amount} successful. New balance: ${self.balance}\"\n",
    "        else:\n",
    "            return \"Purchase exceeds credit limit.\"\n",
    "\n",
    "\n",
    "# Example usage\n",
    "savings_account = SavingsAccount(account_number=\"SA123\", account_holder=\"John Doe\", balance=1000, interest_rate=0.02)\n",
    "checking_account = CheckingAccount(account_number=\"CA456\", account_holder=\"Jane Smith\", balance=500, overdraft_limit=200)\n",
    "credit_card_account = CreditCardAccount(account_number=\"CC789\", account_holder=\"Bob Johnson\", credit_limit=1500)\n",
    "\n",
    "print(savings_account.deposit(500))\n",
    "print(savings_account.calculate_interest())\n",
    "print(savings_account.get_balance())\n",
    "\n",
    "print(checking_account.withdraw(300))\n",
    "print(checking_account.get_balance())\n",
    "\n",
    "print(credit_card_account.make_purchase(1200))\n",
    "print(credit_card_account.get_balance())\n"
   ]
  },
  {
   "cell_type": "code",
   "execution_count": null,
   "id": "a801b5b4-d8fe-4ccd-a5d2-d1d5f675742c",
   "metadata": {},
   "outputs": [],
   "source": [
    "15. Describe the concept of operator overloading in Python and how it relates to polymorphism. Provide\n",
    "examples using operators like `+` and `*`.\n",
    "Operator overloading in Python refers to the ability to define and redefine the behavior of operators for custom classes.\n",
    "It allows objects of a class to respond to standard Python operators like +, *, -, and more, \n",
    "enabling a more natural and intuitive usage of operators with user-defined types.\n",
    "\n",
    "Operator overloading is closely related to polymorphism because it allows different objects to respond to the same operator\n",
    "in a way that is contextually meaningful for their specific class. This enables a more flexible and expressive coding style.\n"
   ]
  },
  {
   "cell_type": "code",
   "execution_count": 81,
   "id": "65a4fd09-d252-4d47-9bc8-b79e85407d40",
   "metadata": {
    "tags": []
   },
   "outputs": [
    {
     "name": "stdout",
     "output_type": "stream",
     "text": [
      "Vector(1, 2)\n",
      "Vector(3, 4)\n",
      "Vector(4, 6)\n"
     ]
    }
   ],
   "source": [
    "class Vector:\n",
    "    def __init__(self, x, y):\n",
    "        self.x = x\n",
    "        self.y = y\n",
    "\n",
    "    def __add__(self, other):\n",
    "        if isinstance(other, Vector):\n",
    "            return Vector(self.x + other.x, self.y + other.y)\n",
    "        else:\n",
    "            raise TypeError(\"Unsupported operand type. Addition not defined for non-Vector types.\")\n",
    "\n",
    "    def __repr__(self):\n",
    "        return f\"Vector({self.x}, {self.y})\"\n",
    "\n",
    "# Example usage\n",
    "v1 = Vector(1, 2)\n",
    "v2 = Vector(3, 4)\n",
    "v3 = v1 + v2  # Calls the __add__ method\n",
    "\n",
    "print(v1)     # Output: Vector(1, 2)\n",
    "print(v2)     # Output: Vector(3, 4)\n",
    "print(v3)     # Output: Vector(4, 6)\n"
   ]
  },
  {
   "cell_type": "code",
   "execution_count": 82,
   "id": "7ef54c94-be12-4319-85da-980e8b288314",
   "metadata": {
    "tags": []
   },
   "outputs": [
    {
     "name": "stdout",
     "output_type": "stream",
     "text": [
      "Matrix([[1, 2], [3, 4]])\n",
      "Matrix([[2, 4], [6, 8]])\n"
     ]
    }
   ],
   "source": [
    "class Matrix:\n",
    "    def __init__(self, data):\n",
    "        self.data = data\n",
    "\n",
    "    def __mul__(self, scalar):\n",
    "        if isinstance(scalar, (int, float)):\n",
    "            # Multiply each element of the matrix by the scalar\n",
    "            result_data = [[element * scalar for element in row] for row in self.data]\n",
    "            return Matrix(result_data)\n",
    "        else:\n",
    "            raise TypeError(\"Unsupported operand type. Multiplication not defined for non-numeric types.\")\n",
    "\n",
    "    def __repr__(self):\n",
    "        return f\"Matrix({self.data})\"\n",
    "\n",
    "# Example usage\n",
    "matrix = Matrix([[1, 2], [3, 4]])\n",
    "result_matrix = matrix * 2  # Calls the __mul__ method\n",
    "\n",
    "print(matrix)           # Output: Matrix([[1, 2], [3, 4]])\n",
    "print(result_matrix)    # Output: Matrix([[2, 4], [6, 8]])\n"
   ]
  },
  {
   "cell_type": "code",
   "execution_count": null,
   "id": "4b36d788-7251-4a74-955e-4a4ccefda5b6",
   "metadata": {},
   "outputs": [],
   "source": [
    "16. What is dynamic polymorphism, and how is it achieved in Python?\n",
    "Dynamic polymorphism refers to the ability of a programming language to provide a single interface (method or operator) that can be used \n",
    "with different types of objects, and the actual implementation is determined at runtime. In other words, the same method or operator can\n",
    "exhibit different behaviors depending on the types of objects involved during program execution.\n",
    "\n",
    "In Python, dynamic polymorphism is achieved through a mechanism called \"duck typing\" and the use of inheritance and method overriding.\n",
    "Duck typing allows an object's suitability for a particular operation to be determined at runtime based on its behavior (methods and properties)\n",
    "rather than its explicit type.\n",
    "\n",
    "Here's how dynamic polymorphism is achieved in Python:\n",
    "\n",
    "Inheritance and Method Overriding:\n",
    "\n",
    "Create a base class with a method.\n",
    "Subclasses inherit from the base class and provide their own implementations of the method, effectively overriding it."
   ]
  },
  {
   "cell_type": "code",
   "execution_count": 83,
   "id": "e3cd8c21-fa37-4567-a5ff-213fc3c4e630",
   "metadata": {
    "tags": []
   },
   "outputs": [
    {
     "name": "stdout",
     "output_type": "stream",
     "text": [
      "Woof!\n",
      "Meow!\n"
     ]
    }
   ],
   "source": [
    "class Animal:\n",
    "    def speak(self):\n",
    "        pass  # To be overridden by subclasses\n",
    "\n",
    "class Dog(Animal):\n",
    "    def speak(self):\n",
    "        return \"Woof!\"\n",
    "\n",
    "class Cat(Animal):\n",
    "    def speak(self):\n",
    "        return \"Meow!\"\n",
    "\n",
    "# Example usage\n",
    "dog = Dog()\n",
    "cat = Cat()\n",
    "\n",
    "print(dog.speak())  # Output: Woof!\n",
    "print(cat.speak())  # Output: Meow!\n"
   ]
  },
  {
   "cell_type": "code",
   "execution_count": null,
   "id": "6a4a5ca4-4894-466d-a882-e7e6d8e90f02",
   "metadata": {},
   "outputs": [],
   "source": [
    "17. Create a Python class hierarchy for employees in a company (e.g., manager, developer, designer) and implement polymorphism through\n",
    "a common `calculate_salary()` method.\n",
    "\n"
   ]
  },
  {
   "cell_type": "code",
   "execution_count": 84,
   "id": "2b94811b-5f45-4ea0-bcbe-457823c92740",
   "metadata": {
    "tags": []
   },
   "outputs": [
    {
     "name": "stdout",
     "output_type": "stream",
     "text": [
      "John Manager's salary: $66000.0\n",
      "Alice Developer's salary: $4800\n",
      "Bob Designer's salary: $60000\n"
     ]
    }
   ],
   "source": [
    "class Employee:\n",
    "    def __init__(self, emp_id, name):\n",
    "        self.emp_id = emp_id\n",
    "        self.name = name\n",
    "\n",
    "    def calculate_salary(self):\n",
    "        pass  # To be overridden by subclasses\n",
    "\n",
    "    def __repr__(self):\n",
    "        return f\"{self.__class__.__name__}({self.emp_id}, {self.name})\"\n",
    "\n",
    "\n",
    "class Manager(Employee):\n",
    "    def __init__(self, emp_id, name, base_salary, bonus_percentage):\n",
    "        super().__init__(emp_id, name)\n",
    "        self.base_salary = base_salary\n",
    "        self.bonus_percentage = bonus_percentage\n",
    "\n",
    "    def calculate_salary(self):\n",
    "        bonus = self.base_salary * (self.bonus_percentage / 100)\n",
    "        return self.base_salary + bonus\n",
    "\n",
    "\n",
    "class Developer(Employee):\n",
    "    def __init__(self, emp_id, name, hourly_rate, hours_worked):\n",
    "        super().__init__(emp_id, name)\n",
    "        self.hourly_rate = hourly_rate\n",
    "        self.hours_worked = hours_worked\n",
    "\n",
    "    def calculate_salary(self):\n",
    "        return self.hourly_rate * self.hours_worked\n",
    "\n",
    "\n",
    "class Designer(Employee):\n",
    "    def __init__(self, emp_id, name, base_salary, project_bonus):\n",
    "        super().__init__(emp_id, name)\n",
    "        self.base_salary = base_salary\n",
    "        self.project_bonus = project_bonus\n",
    "\n",
    "    def calculate_salary(self):\n",
    "        return self.base_salary + self.project_bonus\n",
    "\n",
    "\n",
    "# Example usage demonstrating polymorphism\n",
    "manager = Manager(emp_id=\"M001\", name=\"John Manager\", base_salary=60000, bonus_percentage=10)\n",
    "developer = Developer(emp_id=\"D001\", name=\"Alice Developer\", hourly_rate=30, hours_worked=160)\n",
    "designer = Designer(emp_id=\"D002\", name=\"Bob Designer\", base_salary=55000, project_bonus=5000)\n",
    "\n",
    "employees = [manager, developer, designer]\n",
    "\n",
    "for employee in employees:\n",
    "    # Polymorphism through the common interface (calculate_salary)\n",
    "    print(f\"{employee.name}'s salary: ${employee.calculate_salary()}\")\n",
    "\n",
    "# Output:\n",
    "# John Manager's salary: $66000.0\n",
    "# Alice Developer's salary: $4800\n",
    "# Bob Designer's salary: $60000\n"
   ]
  },
  {
   "cell_type": "code",
   "execution_count": null,
   "id": "61ea7431-b4de-4917-bad4-936eb82c196d",
   "metadata": {},
   "outputs": [],
   "source": [
    "18. Discuss the concept of function pointers and how they can be used to achieve polymorphism in Python.\n",
    " First-Class Functions:\n",
    "In Python, functions are first-class citizens, which means they can be treated as variables. You can pass functions as arguments \n",
    "to other functions and return them from functions."
   ]
  },
  {
   "cell_type": "code",
   "execution_count": 85,
   "id": "6a4f8854-e22a-4103-8b82-e9559de37c9c",
   "metadata": {
    "tags": []
   },
   "outputs": [
    {
     "name": "stdout",
     "output_type": "stream",
     "text": [
      "8\n",
      "6\n"
     ]
    }
   ],
   "source": [
    "def add(x, y):\n",
    "    return x + y\n",
    "\n",
    "def subtract(x, y):\n",
    "    return x - y\n",
    "\n",
    "def calculate(operation, x, y):\n",
    "    return operation(x, y)\n",
    "\n",
    "result_add = calculate(add, 5, 3)\n",
    "result_subtract = calculate(subtract, 8, 2)\n",
    "\n",
    "print(result_add)      # Output: 8\n",
    "print(result_subtract)  # Output: 6\n"
   ]
  },
  {
   "cell_type": "code",
   "execution_count": null,
   "id": "0ee243f0-e388-46a1-a7d1-d5df05469166",
   "metadata": {},
   "outputs": [],
   "source": [
    "Dynamic Typing and Duck Typing:\n",
    "Python is dynamically typed, and it follows the principle of \"duck typing,\" where the type or class of an object is determined by its\n",
    "behavior (methods and properties) rather than its explicit type."
   ]
  },
  {
   "cell_type": "code",
   "execution_count": 86,
   "id": "cafd3f66-015b-445f-b8ba-7c75e3df7279",
   "metadata": {
    "tags": []
   },
   "outputs": [
    {
     "name": "stdout",
     "output_type": "stream",
     "text": [
      "Woof!\n",
      "Meow!\n"
     ]
    }
   ],
   "source": [
    "class Dog:\n",
    "    def speak(self):\n",
    "        return \"Woof!\"\n",
    "\n",
    "class Cat:\n",
    "    def speak(self):\n",
    "        return \"Meow!\"\n",
    "\n",
    "def animal_sound(animal):\n",
    "    return animal.speak()\n",
    "\n",
    "dog = Dog()\n",
    "cat = Cat()\n",
    "\n",
    "print(animal_sound(dog))  # Output: Woof!\n",
    "print(animal_sound(cat))  # Output: Meow!\n"
   ]
  },
  {
   "cell_type": "code",
   "execution_count": null,
   "id": "800391f2-789a-475d-90f4-145b8f31631e",
   "metadata": {},
   "outputs": [],
   "source": [
    "Strategy Pattern:\n",
    "The strategy pattern is a design pattern that allows a family of algorithms to be defined, encapsulated, and interchangeable. \n",
    "It can be implemented in Python using functions or callable objects."
   ]
  },
  {
   "cell_type": "code",
   "execution_count": 87,
   "id": "c8d35bcf-c564-4713-922b-fb4857c24455",
   "metadata": {
    "tags": []
   },
   "outputs": [
    {
     "name": "stdout",
     "output_type": "stream",
     "text": [
      "Executing Strategy A\n",
      "Executing Strategy B\n"
     ]
    }
   ],
   "source": [
    "class Context:\n",
    "    def __init__(self, strategy):\n",
    "        self.strategy = strategy\n",
    "\n",
    "    def execute_strategy(self):\n",
    "        return self.strategy()\n",
    "\n",
    "def strategy_a():\n",
    "    return \"Executing Strategy A\"\n",
    "\n",
    "def strategy_b():\n",
    "    return \"Executing Strategy B\"\n",
    "\n",
    "# Example usage\n",
    "context_a = Context(strategy_a)\n",
    "context_b = Context(strategy_b)\n",
    "\n",
    "print(context_a.execute_strategy())  # Output: Executing Strategy A\n",
    "print(context_b.execute_strategy())  # Output: Executing Strategy B\n"
   ]
  },
  {
   "cell_type": "code",
   "execution_count": null,
   "id": "33d4e37e-5ef8-461f-82ad-3dc43c4b3a3f",
   "metadata": {},
   "outputs": [],
   "source": [
    "19. Explain the role of interfaces and abstract classes in polymorphism, drawing comparisons between them.\n",
    "In object-oriented programming, both interfaces and abstract classes play a significant role in achieving polymorphism by providing \n",
    "a common structure for multiple classes. However, they differ in their implementation and usage. Let's explore the roles of \n",
    "interfaces and abstract classes in polymorphism and compare them:\n",
    "\n",
    "Abstract Classes:\n",
    "Definition:\n",
    "\n",
    "An abstract class is a class that cannot be instantiated on its own and is meant to be subclassed by other classes.\n",
    "May contain abstract methods (methods without a body) that must be implemented by concrete subclasses.\n",
    "Role in Polymorphism:\n",
    "\n",
    "Abstract classes provide a common interface for a group of related classes.\n",
    "Concrete subclasses of an abstract class can implement their own versions of abstract methods, allowing for polymorphic behavior."
   ]
  },
  {
   "cell_type": "code",
   "execution_count": 88,
   "id": "4a4997af-27d7-41dc-b89f-df2e84c26a9d",
   "metadata": {
    "tags": []
   },
   "outputs": [],
   "source": [
    "from abc import ABC, abstractmethod\n",
    "\n",
    "class Shape(ABC):\n",
    "    @abstractmethod\n",
    "    def area(self):\n",
    "        pass\n",
    "\n",
    "class Circle(Shape):\n",
    "    def __init__(self, radius):\n",
    "        self.radius = radius\n",
    "\n",
    "    def area(self):\n",
    "        return 3.14 * self.radius ** 2\n",
    "\n",
    "class Rectangle(Shape):\n",
    "    def __init__(self, width, height):\n",
    "        self.width = width\n",
    "        self.height = height\n",
    "\n",
    "    def area(self):\n",
    "        return self.width * self.height\n"
   ]
  },
  {
   "cell_type": "code",
   "execution_count": null,
   "id": "01c448ee-fe30-48a6-9f0f-c283db1fb72b",
   "metadata": {},
   "outputs": [],
   "source": [
    "Interfaces:\n",
    "Definition:\n",
    "\n",
    "An interface defines a contract of methods that a class must implement. Unlike abstract classes, it cannot contain any method implementations.\n",
    "A class can implement multiple interfaces.\n",
    "Role in Polymorphism:\n",
    "\n",
    "Interfaces provide a way to achieve polymorphism by allowing multiple classes to share a common set of method names.\n",
    "A class implementing an interface must provide concrete implementations for all the methods declared in that interface."
   ]
  },
  {
   "cell_type": "code",
   "execution_count": 89,
   "id": "9e8c7f45-1edf-46d3-9e26-0689b852573d",
   "metadata": {
    "tags": []
   },
   "outputs": [],
   "source": [
    "from abc import ABC, abstractmethod\n",
    "\n",
    "class ShapeInterface(ABC):\n",
    "    @abstractmethod\n",
    "    def area(self):\n",
    "        pass\n",
    "\n",
    "class Circle(ShapeInterface):\n",
    "    def __init__(self, radius):\n",
    "        self.radius = radius\n",
    "\n",
    "    def area(self):\n",
    "        return 3.14 * self.radius ** 2\n",
    "\n",
    "class Rectangle(ShapeInterface):\n",
    "    def __init__(self, width, height):\n",
    "        self.width = width\n",
    "        self.height = height\n",
    "\n",
    "    def area(self):\n",
    "        return self.width * self.height\n"
   ]
  },
  {
   "cell_type": "code",
   "execution_count": null,
   "id": "777caa79-726a-4b50-b3de-4efff40d2be4",
   "metadata": {},
   "outputs": [],
   "source": [
    "Comparisons:\n",
    "Abstract Classes:\n",
    "\n",
    "Can have both abstract and concrete methods.\n",
    "Allow for the definition of some common behavior in the abstract class.\n",
    "Support the use of instance variables.\n",
    "Interfaces:\n",
    "\n",
    "Can only have abstract methods with no method implementations.\n",
    "Provide a clean separation of the interface from the implementation.\n",
    "Do not allow the definition of instance variables.\n",
    "Usage:\n",
    "\n",
    "Use an abstract class when there is a need to share some common implementation among related classes.\n",
    "Use an interface when you want to ensure that a class provides a specific set of methods, irrespective of their implementations.\n",
    "Multiple Inheritance:\n",
    "\n",
    "A class can inherit from only one abstract class.\n",
    "A class can implement multiple interfaces."
   ]
  },
  {
   "cell_type": "code",
   "execution_count": null,
   "id": "24069d1c-4364-44aa-a31e-628185ad97e0",
   "metadata": {},
   "outputs": [],
   "source": [
    "20. Create a Python class for a zoo simulation, demonstrating polymorphism with different animal types\n",
    "(e.g., mammals, birds, reptiles) and \n",
    "their behavior (e.g., eating, sleeping, making sounds)."
   ]
  },
  {
   "cell_type": "code",
   "execution_count": 90,
   "id": "b9abe29b-cb03-44db-8fe9-b68a4d145313",
   "metadata": {
    "tags": []
   },
   "outputs": [
    {
     "name": "stdout",
     "output_type": "stream",
     "text": [
      "Zoo opens! Animals start their day.\n",
      "\n",
      "Leo:\n",
      "Leo the mammal makes a generic mammal sound.\n",
      "Leo the mammal is eating.\n",
      "Leo is sleeping.\n",
      "\n",
      "Robin:\n",
      "Robin the bird makes a chirping sound.\n",
      "Robin the bird is pecking at seeds.\n",
      "Robin is sleeping.\n",
      "\n",
      "Spike:\n",
      "Spike the reptile hisses.\n",
      "Spike the reptile is hunting for insects.\n",
      "Spike is sleeping.\n",
      "Zoo closes!\n"
     ]
    }
   ],
   "source": [
    "from abc import ABC, abstractmethod\n",
    "\n",
    "# Abstract base class for all animals\n",
    "class Animal(ABC):\n",
    "    def __init__(self, name):\n",
    "        self.name = name\n",
    "\n",
    "    @abstractmethod\n",
    "    def make_sound(self):\n",
    "        pass\n",
    "\n",
    "    @abstractmethod\n",
    "    def eat(self):\n",
    "        pass\n",
    "\n",
    "    def sleep(self):\n",
    "        print(f\"{self.name} is sleeping.\")\n",
    "\n",
    "# Mammal class\n",
    "class Mammal(Animal):\n",
    "    def __init__(self, name, fur_color):\n",
    "        super().__init__(name)\n",
    "        self.fur_color = fur_color\n",
    "\n",
    "    def make_sound(self):\n",
    "        print(f\"{self.name} the mammal makes a generic mammal sound.\")\n",
    "\n",
    "    def eat(self):\n",
    "        print(f\"{self.name} the mammal is eating.\")\n",
    "\n",
    "# Bird class\n",
    "class Bird(Animal):\n",
    "    def __init__(self, name, feather_color):\n",
    "        super().__init__(name)\n",
    "        self.feather_color = feather_color\n",
    "\n",
    "    def make_sound(self):\n",
    "        print(f\"{self.name} the bird makes a chirping sound.\")\n",
    "\n",
    "    def eat(self):\n",
    "        print(f\"{self.name} the bird is pecking at seeds.\")\n",
    "\n",
    "# Reptile class\n",
    "class Reptile(Animal):\n",
    "    def __init__(self, name, scale_color):\n",
    "        super().__init__(name)\n",
    "        self.scale_color = scale_color\n",
    "\n",
    "    def make_sound(self):\n",
    "        print(f\"{self.name} the reptile hisses.\")\n",
    "\n",
    "    def eat(self):\n",
    "        print(f\"{self.name} the reptile is hunting for insects.\")\n",
    "\n",
    "# Zoo class\n",
    "class Zoo:\n",
    "    def __init__(self):\n",
    "        self.animals = []\n",
    "\n",
    "    def add_animal(self, animal):\n",
    "        self.animals.append(animal)\n",
    "\n",
    "    def simulate_day(self):\n",
    "        print(\"Zoo opens! Animals start their day.\")\n",
    "        for animal in self.animals:\n",
    "            print(f\"\\n{animal.name}:\")\n",
    "            animal.make_sound()\n",
    "            animal.eat()\n",
    "            animal.sleep()\n",
    "        print(\"Zoo closes!\")\n",
    "\n",
    "# Example usage\n",
    "zoo = Zoo()\n",
    "\n",
    "mammal1 = Mammal(name=\"Leo\", fur_color=\"Brown\")\n",
    "bird1 = Bird(name=\"Robin\", feather_color=\"Red\")\n",
    "reptile1 = Reptile(name=\"Spike\", scale_color=\"Green\")\n",
    "\n",
    "zoo.add_animal(mammal1)\n",
    "zoo.add_animal(bird1)\n",
    "zoo.add_animal(reptile1)\n",
    "\n",
    "zoo.simulate_day()\n"
   ]
  },
  {
   "cell_type": "code",
   "execution_count": null,
   "id": "b229179d-f0a5-4e9f-9e18-eafc7417b250",
   "metadata": {},
   "outputs": [],
   "source": [
    "Abstraction:\n",
    "1. What is abstraction in Python, and how does it relate to object-oriented programming?\n",
    "Abstraction in Python, as well as in object-oriented programming (OOP) in general, is a fundamental concept that involves\n",
    "simplifying complex systems by modeling classes based on essential\n",
    "properties and behaviors while hiding the unnecessary details. It is a way of representing the essential features of an\n",
    "object while ignoring or abstracting away the non-essential details.\n",
    "\n",
    "In the context of object-oriented programming:\n",
    "\n",
    "Essential Features:\n",
    "\n",
    "Abstraction allows you to identify and focus on the essential features of an object, ignoring the details that are not crucial \n",
    "\n",
    "for the understanding of its behavior or purpose.\n",
    "Classes and Objects:\n",
    "\n",
    "Abstraction is implemented through classes and objects. A class is a blueprint that defines the properties and behaviors common\n",
    "to all objects of that type. An object is an instance of a class.\n",
    "Encapsulation:\n",
    "\n",
    "Abstraction is closely related to encapsulation, where the internal details of an object are hidden from the outside world,\n",
    "and only a well-defined interface is exposed. This encapsulation helps in achieving abstraction by allowing the user to \n",
    "interact with the object through a simplified interface.\n",
    "Hide Implementation Details:\n",
    "\n",
    "Abstraction allows you to hide the implementation details of an object and expose only what is necessary. This separation\n",
    "of concerns makes the code more modular and easier to understand.\n",
    "Focus on Relevant Aspects:\n",
    "\n",
    "Abstraction helps in focusing on relevant aspects of an object, making it easier to design, understand, and maintain.\n",
    "It enables a higher level of conceptualization.\n",
    "Reuse and Extensibility:\n",
    "\n",
    "Abstraction promotes code reuse and extensibility. Once a class is abstracted, it can be easily used as a base class\n",
    "for creating more specialized classes, inheriting the common properties and behaviors.\n",
    "Polymorphism:\n",
    "\n",
    "Abstraction is a key enabler for polymorphism. It allows different objects to be treated through a common interface,\n",
    "promoting flexibility and adaptability in the code.\n",
    "Modeling Real-world Entities:\n",
    "\n",
    "In OOP, abstraction helps in modeling real-world entities by identifying their essential characteristics and behaviors. \n",
    "For example, a \"Car\" class may abstract the essential features of cars, such as speed, fuel, and driving behavior."
   ]
  },
  {
   "cell_type": "code",
   "execution_count": null,
   "id": "3e22df7c-4231-4a5a-96ca-d70c3d326fb9",
   "metadata": {},
   "outputs": [],
   "source": [
    "2. Describe the benefits of abstraction in terms of code organization and complexity reduction.\n",
    "Abstraction provides several benefits in terms of code organization and complexity reduction in software development. Here are some key advantages:\n",
    "\n",
    "Simplifies Complex Systems:\n",
    "\n",
    "Abstraction allows developers to model complex systems by identifying and focusing on essential features while ignoring unnecessary details.\n",
    "This simplification makes it easier to understand and reason about the system.\n",
    "Modular Design:\n",
    "\n",
    "Abstraction promotes a modular design approach, where complex systems are broken down into smaller, manageable modules.\n",
    "Each module represents a higher-level abstraction with well-defined functionality.\n",
    "This modular structure enhances code organization and maintainability.\n",
    "Encapsulation of Details:\n",
    "\n",
    "By encapsulating implementation details within a class and exposing only a well-defined interface, abstraction helps in hiding complexity\n",
    ". This encapsulation protects the internal workings of a module, making it easier to maintain and modify without affecting other parts of the code.\n",
    "Reusability:\n",
    "\n",
    "Abstraction facilitates code reusability by allowing developers to create abstract classes or interfaces that can serve as blueprints \n",
    "for other classes. These abstract components define common behaviors and properties that can be inherited by multiple concrete classes, promoting a \"write once, use many times\" philosophy.\n",
    "Promotes Consistency:\n",
    "\n",
    "Abstraction encourages the creation of consistent and standardized interfaces across different components of a system. \n",
    "This consistency simplifies the interaction between modules, making it easier for developers to work with and understand the codebase.\n",
    "Reduces Cognitive Load:\n",
    "\n",
    "Abstracting away unnecessary details reduces the cognitive load on developers. When working with a well-designed abstraction, \n",
    "developers can focus on the high-level concepts and functionalities without being overwhelmed by low-level implementation details.\n",
    "Enhances Maintainability:\n",
    "\n",
    "Abstraction contributes to code maintainability by creating a clear separation between different levels of abstraction.\n",
    "Changes to the implementation of a lower-level module can be made without affecting higher-level modules, making it easier to update and maintain the codebase.\n",
    "Facilitates Team Collaboration:\n",
    "\n",
    "Abstraction promotes a shared understanding of the codebase among team members. Well-defined abstractions serve as a common language\n",
    "for communication within a development team, facilitating collaboration and reducing the learning curve for new team members.\n",
    "Adaptability and Flexibility:\n",
    "\n",
    "Abstraction provides adaptability and flexibility in software design. When the underlying implementation needs to change \n",
    "or new features are introduced, the abstracted interface remains constant, minimizing the impact on the rest of the system.\n",
    "Easier Testing and Debugging:\n",
    "\n",
    "With abstraction, individual modules or components can be tested independently, leading to easier debugging and troubleshooting. \n",
    "Testing becomes more focused on the behavior defined by the abstraction, helping identify and fix issues more efficiently."
   ]
  },
  {
   "cell_type": "code",
   "execution_count": null,
   "id": "6c1edac7-48ea-4148-9e04-df703e6cd4ec",
   "metadata": {},
   "outputs": [],
   "source": [
    "3. Create a Python class called `Shape` with an abstract method `calculate_area()`. Then, create child classes\n",
    "(e.g., `Circle`, `Rectangle`) that implement the `calculate_area()` method. Provide an example of\n",
    "using these classes.\n"
   ]
  },
  {
   "cell_type": "code",
   "execution_count": 91,
   "id": "3e31bae9-9905-472a-b778-a33d58903553",
   "metadata": {
    "tags": []
   },
   "outputs": [
    {
     "name": "stdout",
     "output_type": "stream",
     "text": [
      "Area of the Circle: 78.5\n",
      "Area of the Rectangle: 24\n"
     ]
    }
   ],
   "source": [
    "from abc import ABC, abstractmethod\n",
    "\n",
    "class Shape(ABC):\n",
    "    @abstractmethod\n",
    "    def calculate_area(self):\n",
    "        pass\n",
    "\n",
    "class Circle(Shape):\n",
    "    def __init__(self, radius):\n",
    "        self.radius = radius\n",
    "\n",
    "    def calculate_area(self):\n",
    "        return 3.14 * self.radius ** 2\n",
    "\n",
    "class Rectangle(Shape):\n",
    "    def __init__(self, width, height):\n",
    "        self.width = width\n",
    "        self.height = height\n",
    "\n",
    "    def calculate_area(self):\n",
    "        return self.width * self.height\n",
    "\n",
    "# Example usage\n",
    "circle = Circle(radius=5)\n",
    "rectangle = Rectangle(width=4, height=6)\n",
    "\n",
    "print(f\"Area of the Circle: {circle.calculate_area()}\")\n",
    "print(f\"Area of the Rectangle: {rectangle.calculate_area()}\")\n"
   ]
  },
  {
   "cell_type": "code",
   "execution_count": null,
   "id": "a3e77daa-f87f-4bc2-80fb-c8ab5999c5a5",
   "metadata": {},
   "outputs": [],
   "source": [
    "4. Explain the concept of abstract classes in Python and how they are defined using the `abc` module. Provide\n",
    "an example.\n",
    "In Python, an abstract class is a class that cannot be instantiated on its own and is meant to be subclassed by other classes. \n",
    "Abstract classes can define abstract methods, which are methods without a body, and concrete methods with an implementation. \n",
    "The abc module (Abstract Base Classes) provides a\n",
    "mechanism for defining abstract classes and abstract methods.\n"
   ]
  },
  {
   "cell_type": "code",
   "execution_count": 92,
   "id": "236c8c52-5001-45b6-b0fc-74bbff10e869",
   "metadata": {
    "tags": []
   },
   "outputs": [
    {
     "name": "stdout",
     "output_type": "stream",
     "text": [
      "Area of the Circle: 78.5\n",
      "Area of the Rectangle: 24\n",
      "Circle with radius 5\n",
      "Rectangle with width 4 and height 6\n"
     ]
    }
   ],
   "source": [
    "from abc import ABC, abstractmethod\n",
    "\n",
    "class Shape(ABC):\n",
    "    @abstractmethod\n",
    "    def calculate_area(self):\n",
    "        pass\n",
    "\n",
    "    @abstractmethod\n",
    "    def display_info(self):\n",
    "        pass\n",
    "\n",
    "class Circle(Shape):\n",
    "    def __init__(self, radius):\n",
    "        self.radius = radius\n",
    "\n",
    "    def calculate_area(self):\n",
    "        return 3.14 * self.radius ** 2\n",
    "\n",
    "    def display_info(self):\n",
    "        print(f\"Circle with radius {self.radius}\")\n",
    "\n",
    "class Rectangle(Shape):\n",
    "    def __init__(self, width, height):\n",
    "        self.width = width\n",
    "        self.height = height\n",
    "\n",
    "    def calculate_area(self):\n",
    "        return self.width * self.height\n",
    "\n",
    "    def display_info(self):\n",
    "        print(f\"Rectangle with width {self.width} and height {self.height}\")\n",
    "\n",
    "# Example usage\n",
    "circle = Circle(radius=5)\n",
    "rectangle = Rectangle(width=4, height=6)\n",
    "\n",
    "print(f\"Area of the Circle: {circle.calculate_area()}\")\n",
    "print(f\"Area of the Rectangle: {rectangle.calculate_area()}\")\n",
    "\n",
    "circle.display_info()\n",
    "rectangle.display_info()\n"
   ]
  },
  {
   "cell_type": "code",
   "execution_count": null,
   "id": "7d23b706-c7ed-45d5-9e59-af1800e12d1b",
   "metadata": {},
   "outputs": [],
   "source": [
    "5. How do abstract classes differ from regular classes in Python? Discuss their use cases."
   ]
  },
  {
   "cell_type": "code",
   "execution_count": null,
   "id": "174098aa-738a-44e5-b37d-731cd250213c",
   "metadata": {},
   "outputs": [],
   "source": [
    "Abstract classes in Python differ from regular classes in several ways, primarily in their purpose and features. Let's discuss the key differences and their respective use cases:\n",
    "\n",
    "Abstract Classes:\n",
    "Cannot be Instantiated:\n",
    "\n",
    "Abstract classes cannot be instantiated on their own. They are meant to be subclassed by other classes.\n",
    "May Contain Abstract Methods:\n",
    "\n",
    "Abstract classes can define abstract methods using the @abstractmethod decorator. These methods have no implementation in the abstract\n",
    "class and must be implemented by concrete subclasses.\n",
    "Provide a Blueprint:\n",
    "\n",
    "Abstract classes serve as blueprints or templates for other classes. They define a common interface and structure that subclasses must adhere to.\n",
    "Enforce Method Implementation:\n",
    "\n",
    "Abstract classes enforce that concrete subclasses provide implementations for all abstract methods. If a subclass fails to do so,\n",
    "it is considered incomplete and cannot be instantiated.\n",
    "Use the abc Module:\n",
    "\n",
    "Abstract classes in Python are often created using the ABC (Abstract Base Class) metaclass from the abc module.\n",
    "Designed for Inheritance:\n",
    "\n",
    "Abstract classes are designed with the intention of being subclassed. They provide a foundation for creating related classes with shared characteristics.\n",
    "Regular Classes:\n",
    "Can be Instantiated:\n",
    "\n",
    "Regular classes can be instantiated directly, without the need for subclassing.\n",
    "May Contain Concrete Methods:\n",
    "\n",
    "Regular classes can contain both abstract and concrete methods. Concrete methods have an implementation in the class itself.\n",
    "Can Be Instantiated on Their Own:\n",
    "\n",
    "Instances of regular classes can be created without the need for additional subclasses.\n",
    "May or May Not Use the abc Module:\n",
    "\n",
    "Regular classes may or may not use the abc module. They do not have the same restrictions on instantiation or method implementation as abstract classes.\n",
    "Independent Entities:\n",
    "\n",
    "Regular classes are often used as independent entities that encapsulate data and behavior without the strict requirements imposed by abstract classes.\n",
    "Use Cases:\n",
    "Abstract Classes:\n",
    "\n",
    "Use abstract classes when you want to define a common interface for a group of related classes, ensuring that certain methods are implemented in all subclasses.\n",
    "Ideal for situations where you want to create a family of classes that share a set of common behaviors or characteristics.\n",
    "Regular Classes:\n",
    "\n",
    "Use regular classes when you want to create independent, instantiable objects without the need for a common interface or method enforcement.\n",
    "Suitable for situations where the class doesn't need to be subclassed or doesn't require a shared interface with other classes.\n",
    "Example:\n",
    "\n",
    "Consider an example where you have an abstract class Shape with abstract methods for calculating area and perimeter.\n",
    "Subclasses like Circle and Rectangle would provide concrete implementations. On the other hand, a regular class Person\n",
    "might represent an individual with attributes\n",
    "like name and age, which doesn't require abstract methods or inheritance."
   ]
  },
  {
   "cell_type": "code",
   "execution_count": 93,
   "id": "190461c6-790c-4f5c-b3f7-0a66628083c5",
   "metadata": {
    "tags": []
   },
   "outputs": [],
   "source": [
    "from abc import ABC, abstractmethod\n",
    "\n",
    "class Shape(ABC):\n",
    "    @abstractmethod\n",
    "    def calculate_area(self):\n",
    "        pass\n",
    "\n",
    "    @abstractmethod\n",
    "    def calculate_perimeter(self):\n",
    "        pass\n",
    "\n",
    "class Circle(Shape):\n",
    "    def __init__(self, radius):\n",
    "        self.radius = radius\n",
    "\n",
    "    def calculate_area(self):\n",
    "        return 3.14 * self.radius ** 2\n",
    "\n",
    "    def calculate_perimeter(self):\n",
    "        return 2 * 3.14 * self.radius\n",
    "\n",
    "class Rectangle(Shape):\n",
    "    def __init__(self, width, height):\n",
    "        self.width = width\n",
    "        self.height = height\n",
    "\n",
    "    def calculate_area(self):\n",
    "        return self.width * self.height\n",
    "\n",
    "    def calculate_perimeter(self):\n",
    "        return 2 * (self.width + self.height)\n",
    "\n",
    "class Person:\n",
    "    def __init__(self, name, age):\n",
    "        self.name = name\n",
    "        self.age = age\n"
   ]
  },
  {
   "cell_type": "code",
   "execution_count": null,
   "id": "cdf2226b-2345-490b-b6e0-0e7d113feb89",
   "metadata": {},
   "outputs": [],
   "source": [
    "6. Create a Python class for a bank account and demonstrate abstraction by hiding the account balance and\n",
    "providing methods to deposit and withdraw funds."
   ]
  },
  {
   "cell_type": "code",
   "execution_count": 94,
   "id": "7d2d7179-c0a1-4e8c-b880-336853992c1d",
   "metadata": {
    "tags": []
   },
   "outputs": [
    {
     "name": "stdout",
     "output_type": "stream",
     "text": [
      "Deposit of $1000 successful. New balance: $1000\n",
      "Savings Account Balance: $1000\n",
      "Withdrawal of $500 successful. New balance: $500\n",
      "Savings Account Balance: $500\n",
      "Invalid withdrawal amount or insufficient funds.\n"
     ]
    }
   ],
   "source": [
    "from abc import ABC, abstractmethod\n",
    "\n",
    "class BankAccount(ABC):\n",
    "    def __init__(self, account_number, account_holder):\n",
    "        self.account_number = account_number\n",
    "        self.account_holder = account_holder\n",
    "        self._balance = 0  # Using a protected attribute for balance\n",
    "\n",
    "    @abstractmethod\n",
    "    def display_balance(self):\n",
    "        pass\n",
    "\n",
    "    def deposit(self, amount):\n",
    "        if amount > 0:\n",
    "            self._balance += amount\n",
    "            print(f\"Deposit of ${amount} successful. New balance: ${self._balance}\")\n",
    "        else:\n",
    "            print(\"Invalid deposit amount. Please deposit a positive amount.\")\n",
    "\n",
    "    def withdraw(self, amount):\n",
    "        if 0 < amount <= self._balance:\n",
    "            self._balance -= amount\n",
    "            print(f\"Withdrawal of ${amount} successful. New balance: ${self._balance}\")\n",
    "        else:\n",
    "            print(\"Invalid withdrawal amount or insufficient funds.\")\n",
    "\n",
    "# Concrete implementation of BankAccount\n",
    "class SavingsAccount(BankAccount):\n",
    "    def display_balance(self):\n",
    "        print(f\"Savings Account Balance: ${self._balance}\")\n",
    "\n",
    "# Example usage\n",
    "savings_account = SavingsAccount(account_number=\"123456789\", account_holder=\"John Doe\")\n",
    "\n",
    "savings_account.deposit(1000)\n",
    "savings_account.display_balance()\n",
    "\n",
    "savings_account.withdraw(500)\n",
    "savings_account.display_balance()\n",
    "\n",
    "savings_account.withdraw(1000)  # Attempting to withdraw more than the balance\n"
   ]
  },
  {
   "cell_type": "code",
   "execution_count": null,
   "id": "c2d24985-9806-49f2-8fba-313d03e627c7",
   "metadata": {},
   "outputs": [],
   "source": [
    "7. Discuss the concept of interface classes in Python and their role in achieving abstraction.\n",
    "\n",
    "In Python, interface classes are a way to define a common set of methods that a class must implement. While Python doesn't \n",
    "have a built-in \"interface\" keyword like some other languages (e.g., Java), the concept of interfaces is achieved through\n",
    "abstract classes or abstract methods. An interface class in Python typically involves the use of abstract methods to enforce\n",
    "a specific interface that concrete classes must adhere to.\n",
    "\n",
    "Key Concepts:\n",
    "Abstract Methods:\n",
    "\n",
    "Interface classes often consist of abstract methods, which are methods without an implementation in the interface itself.\n",
    "Concrete classes that implement the interface must provide their own implementations for these abstract methods.\n",
    "Enforcement of Contracts:\n",
    "\n",
    "Interface classes enforce contracts between classes. They specify a set of methods that concrete classes must implement,\n",
    "ensuring a consistent interface for objects of different types.\n",
    "No Direct Instantiation:\n",
    "\n",
    "Interface classes are not meant to be instantiated directly. Instead, they serve as a blueprint or contract that concrete\n",
    "classes must follow. Instances of concrete classes that implement the interface can be created.\n",
    "Use of ABC (Abstract Base Class):\n",
    "\n",
    "The ABC module in Python, along with the abstractmethod decorator, is commonly used to define interface-like classes.\n",
    "Abstract classes with abstract methods act as interfaces, and concrete classes inherit from these abstract classes,\n",
    "providing implementations for the abstract methods."
   ]
  },
  {
   "cell_type": "code",
   "execution_count": 95,
   "id": "aa2e8da8-8f75-42cd-a8aa-8108b35c3d17",
   "metadata": {
    "tags": []
   },
   "outputs": [
    {
     "name": "stdout",
     "output_type": "stream",
     "text": [
      "Area of the Circle: 78.5\n",
      "Area of the Rectangle: 24\n",
      "Circle with radius 5\n",
      "Rectangle with width 4 and height 6\n"
     ]
    }
   ],
   "source": [
    "from abc import ABC, abstractmethod\n",
    "\n",
    "class Shape(ABC):\n",
    "    @abstractmethod\n",
    "    def calculate_area(self):\n",
    "        pass\n",
    "\n",
    "    @abstractmethod\n",
    "    def display_info(self):\n",
    "        pass\n",
    "\n",
    "class Circle(Shape):\n",
    "    def __init__(self, radius):\n",
    "        self.radius = radius\n",
    "\n",
    "    def calculate_area(self):\n",
    "        return 3.14 * self.radius ** 2\n",
    "\n",
    "    def display_info(self):\n",
    "        print(f\"Circle with radius {self.radius}\")\n",
    "\n",
    "class Rectangle(Shape):\n",
    "    def __init__(self, width, height):\n",
    "        self.width = width\n",
    "        self.height = height\n",
    "\n",
    "    def calculate_area(self):\n",
    "        return self.width * self.height\n",
    "\n",
    "    def display_info(self):\n",
    "        print(f\"Rectangle with width {self.width} and height {self.height}\")\n",
    "\n",
    "# Example usage\n",
    "circle = Circle(radius=5)\n",
    "rectangle = Rectangle(width=4, height=6)\n",
    "\n",
    "print(f\"Area of the Circle: {circle.calculate_area()}\")\n",
    "print(f\"Area of the Rectangle: {rectangle.calculate_area()}\")\n",
    "\n",
    "circle.display_info()\n",
    "rectangle.display_info()\n"
   ]
  },
  {
   "cell_type": "code",
   "execution_count": null,
   "id": "e4d7652e-ba5c-44f7-9dcb-7eb01062a372",
   "metadata": {},
   "outputs": [],
   "source": [
    "8. Create a Python class hierarchy for animals and implement abstraction by defining common methods (e.g., `eat()`, `sleep()`) in an abstract base class."
   ]
  },
  {
   "cell_type": "code",
   "execution_count": 96,
   "id": "28a8eeaa-926c-4848-bb9b-7205213a02c6",
   "metadata": {
    "tags": []
   },
   "outputs": [
    {
     "name": "stdout",
     "output_type": "stream",
     "text": [
      "Roar!\n",
      "Lion is walking.\n",
      "Leo is eating.\n",
      "Leo is sleeping.\n",
      "Trumpet!\n",
      "Elephant is walking.\n",
      "Ellie is eating.\n",
      "Ellie is sleeping.\n",
      "Blub blub!\n",
      "Fish is swimming.\n",
      "Nemo is eating.\n",
      "Nemo is sleeping.\n"
     ]
    }
   ],
   "source": [
    "from abc import ABC, abstractmethod\n",
    "\n",
    "class Animal(ABC):\n",
    "    def __init__(self, name, species):\n",
    "        self.name = name\n",
    "        self.species = species\n",
    "\n",
    "    @abstractmethod\n",
    "    def make_sound(self):\n",
    "        pass\n",
    "\n",
    "    @abstractmethod\n",
    "    def move(self):\n",
    "        pass\n",
    "\n",
    "    def eat(self):\n",
    "        print(f\"{self.name} is eating.\")\n",
    "\n",
    "    def sleep(self):\n",
    "        print(f\"{self.name} is sleeping.\")\n",
    "\n",
    "class Lion(Animal):\n",
    "    def make_sound(self):\n",
    "        print(\"Roar!\")\n",
    "\n",
    "    def move(self):\n",
    "        print(\"Lion is walking.\")\n",
    "\n",
    "class Elephant(Animal):\n",
    "    def make_sound(self):\n",
    "        print(\"Trumpet!\")\n",
    "\n",
    "    def move(self):\n",
    "        print(\"Elephant is walking.\")\n",
    "\n",
    "class Fish(Animal):\n",
    "    def make_sound(self):\n",
    "        print(\"Blub blub!\")\n",
    "\n",
    "    def move(self):\n",
    "        print(\"Fish is swimming.\")\n",
    "\n",
    "# Example usage\n",
    "lion = Lion(name=\"Leo\", species=\"African Lion\")\n",
    "elephant = Elephant(name=\"Ellie\", species=\"African Elephant\")\n",
    "fish = Fish(name=\"Nemo\", species=\"Clownfish\")\n",
    "\n",
    "lion.make_sound()\n",
    "lion.move()\n",
    "lion.eat()\n",
    "lion.sleep()\n",
    "\n",
    "elephant.make_sound()\n",
    "elephant.move()\n",
    "elephant.eat()\n",
    "elephant.sleep()\n",
    "\n",
    "fish.make_sound()\n",
    "fish.move()\n",
    "fish.eat()\n",
    "fish.sleep()\n"
   ]
  },
  {
   "cell_type": "code",
   "execution_count": null,
   "id": "5fa1f417-73fc-48c9-93e7-38766f2b67f2",
   "metadata": {},
   "outputs": [],
   "source": [
    "9. Explain the significance of encapsulation in achieving abstraction. Provide examples.\n",
    "Encapsulation and abstraction are closely related concepts in object-oriented programming, and encapsulation plays a significant \n",
    "role in achieving abstraction. Encapsulation involves bundling the data \n",
    "(attributes) and methods that operate on the data into a single unit, typically a class. Abstraction, on the other hand, involves\n",
    "simplifying complex systems by modeling classes based on their essential features and hiding unnecessary details.\n",
    "\n",
    "Significance of Encapsulation in Achieving Abstraction:\n",
    "Data Protection:\n",
    "\n",
    "Encapsulation allows you to hide the internal state of an object and restrict access to its attributes. This helps in protecting\n",
    "the integrity of the object's data, preventing unintended modifications.\n",
    "Hide Implementation Details:\n",
    "\n",
    "By encapsulating the internal details of how a class accomplishes its functionality, you can provide a simple and well-defined\n",
    "interface to the outside world. Users of the class only need to know what methods are available and how to use them, not the \n",
    "intricate details of the implementation.\n",
    "Promotes Modularity:\n",
    "\n",
    "Encapsulation contributes to the modularity of the code. Each class becomes a self-contained module with its own data and methods.\n",
    "Changes to the internal implementation of one class do not affect the code that uses the class, as long as the interface remains consistent.\n",
    "Facilitates Abstraction:\n",
    "\n",
    "Encapsulation allows you to abstract away the implementation details and present a high-level view of the object's behavior.\n",
    "Users interact with the object through its methods, without needing to know the internal workings or complexities.\n",
    "Enhances Code Readability and Maintainability:\n",
    "\n",
    "Encapsulation makes code more readable and maintainable by providing a clear and organized structure. Users of a class can \n",
    "understand and work with the class based on its public interface, without being burdened by the internal details."
   ]
  },
  {
   "cell_type": "code",
   "execution_count": 97,
   "id": "f681a195-0ecd-42b5-b79e-637d3768bf18",
   "metadata": {
    "tags": []
   },
   "outputs": [
    {
     "name": "stdout",
     "output_type": "stream",
     "text": [
      "2022 Toyota Camry's engine started.\n",
      "2022 Toyota Camry is moving forward.\n"
     ]
    }
   ],
   "source": [
    "class Car:\n",
    "    def __init__(self, make, model, year):\n",
    "        self._make = make  # Encapsulated with a protected attribute\n",
    "        self._model = model\n",
    "        self._year = year\n",
    "\n",
    "    def start_engine(self):\n",
    "        # Abstraction: Users don't need to know the internal details of starting the engine\n",
    "        print(f\"{self._year} {self._make} {self._model}'s engine started.\")\n",
    "\n",
    "    def drive(self):\n",
    "        # Abstraction: Users don't need to know how driving is implemented\n",
    "        print(f\"{self._year} {self._make} {self._model} is moving forward.\")\n",
    "\n",
    "# Example usage\n",
    "my_car = Car(make=\"Toyota\", model=\"Camry\", year=2022)\n",
    "my_car.start_engine()\n",
    "my_car.drive()\n"
   ]
  },
  {
   "cell_type": "code",
   "execution_count": null,
   "id": "fc66b985-49bb-4286-95b7-3d36b10260b2",
   "metadata": {},
   "outputs": [],
   "source": [
    "10. What is the purpose of abstract methods, and how do they enforce abstraction in Python classes?\n",
    "Abstract methods in Python serve the purpose of defining a method signature in an abstract base class (ABC) without \n",
    "providing an implementation. The primary goal is to enforce that concrete subclasses\n",
    "must implement these abstract methods, ensuring a consistent interface across different classes. Abstract methods\n",
    "play a crucial role in achieving abstraction by allowing the definition of a high-level contract that concrete subclasses must adhere to.\n",
    "\n",
    "Purpose of Abstract Methods:\n",
    "Define Method Signatures:\n",
    "\n",
    "Abstract methods define the signature of a method, including its name, parameters, and return type. They provide a \n",
    "blueprint for the methods that concrete subclasses must implement.\n",
    "Enforce Method Implementation:\n",
    "\n",
    "Abstract methods ensure that concrete subclasses provide their own implementations. If a subclass fails to implement \n",
    "an abstract method, attempting to instantiate it will result in a TypeError at runtime.\n",
    "Create a Common Interface:\n",
    "\n",
    "Abstract methods help create a common interface that multiple classes can share. This is particularly useful in scenarios\n",
    "where different classes need to provide specific behaviors but must adhere to a shared contract.\n",
    "Promote Consistency:\n",
    "\n",
    "By enforcing that all subclasses implement the same set of abstract methods, abstract methods promote consistency and a \n",
    "standardized interface. This helps users of the classes understand how to interact with them based on a common set of methods."
   ]
  },
  {
   "cell_type": "code",
   "execution_count": 98,
   "id": "80740a5e-eb6d-4d9a-b23f-b26c2be929c5",
   "metadata": {
    "tags": []
   },
   "outputs": [],
   "source": [
    "from abc import ABC, abstractmethod\n",
    "\n",
    "class Shape(ABC):\n",
    "    @abstractmethod\n",
    "    def calculate_area(self):\n",
    "        pass\n",
    "class Circle(Shape):\n",
    "    def __init__(self, radius):\n",
    "        self.radius = radius\n",
    "\n",
    "    def calculate_area(self):\n",
    "        return 3.14 * self.radius ** 2\n",
    "\n",
    "class Rectangle(Shape):\n",
    "    def __init__(self, width, height):\n",
    "        self.width = width\n",
    "        self.height = height\n",
    "\n",
    "    def calculate_area(self):\n",
    "        return self.width * self.height\n"
   ]
  },
  {
   "cell_type": "code",
   "execution_count": null,
   "id": "cb437a02-928f-4483-93f8-a72b2c6e92e3",
   "metadata": {},
   "outputs": [],
   "source": [
    "Benefits of Abstract Methods for Abstraction:\n",
    "Code Standardization:\n",
    "\n",
    "Abstract methods help standardize the interface of related classes, making the code more readable and predictable.\n",
    "Forced Implementation:\n",
    "\n",
    "Abstract methods force concrete subclasses to provide their own implementations, ensuring that the expected behavior is defined.\n",
    "Documentation:\n",
    "\n",
    "Abstract methods serve as a form of documentation, clearly indicating to developers which methods must be implemented in subclasses.\n",
    "Facilitates Design Patterns:\n",
    "\n",
    "Abstract methods are integral to the implementation of design patterns such as Template Method and Strategy,\n",
    "where a common interface is expected among different classes."
   ]
  },
  {
   "cell_type": "code",
   "execution_count": null,
   "id": "c25e668e-e867-445e-b283-b52c5cdd3974",
   "metadata": {},
   "outputs": [],
   "source": [
    "11. Create a Python class for a vehicle system and demonstrate abstraction by defining common methods (e.g., `start()`, `stop()`) in an abstract base class."
   ]
  },
  {
   "cell_type": "code",
   "execution_count": null,
   "id": "4eecd5fe-2716-4ba7-8f4c-980c679237dc",
   "metadata": {},
   "outputs": [],
   "source": [
    "from abc import ABC, abstractmethod\n",
    "\n",
    "class Vehicle(ABC):\n",
    "    def __init__(self, make, model, year):\n",
    "        self.make = make\n",
    "        self.model = model\n",
    "        self.year = year\n",
    "        self._is_running = False  # Encapsulated attribute for running state\n",
    "\n",
    "    @abstractmethod\n",
    "    def start(self):\n",
    "        pass\n",
    "\n",
    "    @abstractmethod\n",
    "    def stop(self):\n",
    "        pass\n",
    "\n",
    "    def is_running(self):\n",
    "        return self._is_running\n",
    "\n",
    "class Car(Vehicle):\n",
    "    def start(self):\n",
    "        if not self._is_running:\n",
    "            print(f\"{self.year} {self.make} {self.model} engine started.\")\n",
    "            self._is_running = True\n",
    "        else:\n",
    "            print(\"Car is already running.\")\n",
    "\n",
    "    def stop(self):\n",
    "        if self._is_running:\n",
    "            print(f\"{self.year} {self.make} {self.model} engine stopped.\")\n",
    "            self._is_running = False\n",
    "        else:\n",
    "            print(\"Car is not running.\")\n",
    "\n",
    "class Motorcycle(Vehicle):\n",
    "    def start(self):\n",
    "        if not self._is_running:\n",
    "            print(f\"{self.year} {self.make} {self.model} engine started.\")\n",
    "            self._is_running = True\n",
    "        else:\n",
    "            print(\"Motorcycle is already running.\")\n",
    "\n",
    "    def stop(self):\n",
    "        if self._is_running:\n",
    "            print(f\"{self.year} {self.make} {self.model} engine stopped.\")\n",
    "            self._is_running = False\n",
    "        else:\n"
   ]
  },
  {
   "cell_type": "code",
   "execution_count": null,
   "id": "5b72c5f6-d982-42cc-9d6b-37d9bf6391d9",
   "metadata": {},
   "outputs": [],
   "source": [
    "12. Describe the use of abstract properties in Python and how they can be employed in abstract classes.\n",
    "Abstract properties in Python are a way to define properties in abstract base classes (ABCs) without providing an implementation for\n",
    "the getter or setter methods. Abstract properties are created using the @property decorator along with the @abstractmethod decorator.\n",
    "They are particularly useful when you want to enforce that concrete subclasses must provide their own implementations for certain properties.\n",
    "\n",
    "Key Points:\n",
    "Abstract Property:\n",
    "\n",
    "An abstract property is defined in an abstract base class using the @property and @abstractmethod decorators. It declares the \n",
    "existence of a property without specifying its implementation.\n",
    "Getter and Setter:\n",
    "\n",
    "Abstract properties usually consist of a getter method (to get the value of the property) and, optionally, a setter method\n",
    "(to set the value of the property).\n",
    "Enforcing Implementation:\n",
    "\n",
    "Concrete subclasses must provide their own implementations for the getter and setter methods of the abstract property.\n",
    "This ensures that the property is consistently defined across all subclasses.\n",
    "Use in Abstract Classes:\n",
    "\n",
    "Abstract properties are commonly employed in abstract classes where certain properties are expected to be implemented by \n",
    "concrete subclasses, providing a consistent interface."
   ]
  },
  {
   "cell_type": "code",
   "execution_count": 100,
   "id": "5ea827c8-9159-417b-bc97-e0efd76b7c2b",
   "metadata": {
    "tags": []
   },
   "outputs": [
    {
     "name": "stdout",
     "output_type": "stream",
     "text": [
      "Area of the Circle: 78.5\n",
      "Area of the Rectangle: 24\n"
     ]
    }
   ],
   "source": [
    "from abc import ABC, abstractmethod\n",
    "\n",
    "class Shape(ABC):\n",
    "    @property\n",
    "    @abstractmethod\n",
    "    def area(self):\n",
    "        pass\n",
    "\n",
    "class Circle(Shape):\n",
    "    def __init__(self, radius):\n",
    "        self.radius = radius\n",
    "\n",
    "    @property\n",
    "    def area(self):\n",
    "        return 3.14 * self.radius ** 2\n",
    "\n",
    "class Rectangle(Shape):\n",
    "    def __init__(self, width, height):\n",
    "        self.width = width\n",
    "        self.height = height\n",
    "\n",
    "    @property\n",
    "    def area(self):\n",
    "        return self.width * self.height\n",
    "\n",
    "# Example usage\n",
    "circle = Circle(radius=5)\n",
    "rectangle = Rectangle(width=4, height=6)\n",
    "\n",
    "print(f\"Area of the Circle: {circle.area}\")\n",
    "print(f\"Area of the Rectangle: {rectangle.area}\")\n"
   ]
  },
  {
   "cell_type": "code",
   "execution_count": null,
   "id": "157d60d8-3fe2-4a8d-9af0-cb584a7ea7d8",
   "metadata": {},
   "outputs": [],
   "source": [
    "13. Create a Python class hierarchy for employees in a company (e.g., manager, developer, designer) and implement\n",
    "abstraction by defining a common `get_salary()` method."
   ]
  },
  {
   "cell_type": "code",
   "execution_count": 101,
   "id": "36649816-0b60-447d-98e8-568b87546053",
   "metadata": {
    "tags": []
   },
   "outputs": [
    {
     "name": "stdout",
     "output_type": "stream",
     "text": [
      "John Manager's Salary: $69000.0\n",
      "Alice Developer's Salary: $75000\n",
      "Bob Designer's Salary: $70000\n"
     ]
    }
   ],
   "source": [
    "from abc import ABC, abstractmethod\n",
    "\n",
    "class Employee(ABC):\n",
    "    def __init__(self, name, employee_id):\n",
    "        self.name = name\n",
    "        self.employee_id = employee_id\n",
    "\n",
    "    @abstractmethod\n",
    "    def get_salary(self):\n",
    "        pass\n",
    "\n",
    "class Manager(Employee):\n",
    "    def __init__(self, name, employee_id, base_salary, bonus_percentage):\n",
    "        super().__init__(name, employee_id)\n",
    "        self.base_salary = base_salary\n",
    "        self.bonus_percentage = bonus_percentage\n",
    "\n",
    "    def get_salary(self):\n",
    "        bonus_amount = self.base_salary * (self.bonus_percentage / 100)\n",
    "        total_salary = self.base_salary + bonus_amount\n",
    "        return total_salary\n",
    "\n",
    "class Developer(Employee):\n",
    "    def __init__(self, name, employee_id, base_salary, programming_language):\n",
    "        super().__init__(name, employee_id)\n",
    "        self.base_salary = base_salary\n",
    "        self.programming_language = programming_language\n",
    "\n",
    "    def get_salary(self):\n",
    "        bonus_amount = 5000 if self.programming_language == \"Python\" else 0\n",
    "        total_salary = self.base_salary + bonus_amount\n",
    "        return total_salary\n",
    "\n",
    "class Designer(Employee):\n",
    "    def __init__(self, name, employee_id, base_salary, years_of_experience):\n",
    "        super().__init__(name, employee_id)\n",
    "        self.base_salary = base_salary\n",
    "        self.years_of_experience = years_of_experience\n",
    "\n",
    "    def get_salary(self):\n",
    "        experience_bonus = self.years_of_experience * 1000\n",
    "        total_salary = self.base_salary + experience_bonus\n",
    "        return total_salary\n",
    "\n",
    "# Example usage\n",
    "manager = Manager(name=\"John Manager\", employee_id=101, base_salary=60000, bonus_percentage=15)\n",
    "developer = Developer(name=\"Alice Developer\", employee_id=102, base_salary=70000, programming_language=\"Python\")\n",
    "designer = Designer(name=\"Bob Designer\", employee_id=103, base_salary=65000, years_of_experience=5)\n",
    "\n",
    "print(f\"{manager.name}'s Salary: ${manager.get_salary()}\")\n",
    "print(f\"{developer.name}'s Salary: ${developer.get_salary()}\")\n",
    "print(f\"{designer.name}'s Salary: ${designer.get_salary()}\")\n"
   ]
  },
  {
   "cell_type": "code",
   "execution_count": null,
   "id": "5be0a7a0-cc27-4495-9253-ad0dcf4e169e",
   "metadata": {},
   "outputs": [],
   "source": [
    "14. Discuss the differences between abstract classes and concrete classes in Python, including their\n",
    "instantiation."
   ]
  },
  {
   "cell_type": "code",
   "execution_count": null,
   "id": "a471ac8b-9cd3-4050-b333-feeb90ad4a25",
   "metadata": {},
   "outputs": [],
   "source": [
    "Abstract Classes:\n",
    "Definition:\n",
    "\n",
    "An abstract class is a class that cannot be instantiated on its own. It is meant to serve as a blueprint for other classes.\n",
    "Abstract classes may contain abstract methods, which are declared but not implemented in the abstract class itself.\n",
    "Abstract classes are created using the ABC (Abstract Base Class) module in Python.\n",
    "Purpose:\n",
    "\n",
    "Abstract classes are used to define a common interface or set of methods that must be implemented by concrete subclasses.\n",
    "They provide a way to enforce a contract among related classes, ensuring that certain methods are implemented in all subclasses.\n",
    "Instantiation:\n",
    "\n",
    "Abstract classes cannot be instantiated directly. Attempts to create an instance of an abstract class will result in an error.\n",
    "Concrete subclasses must be created to provide implementations for the abstract methods, and it is these subclasses that can be instantiated."
   ]
  },
  {
   "cell_type": "code",
   "execution_count": 102,
   "id": "3cf61c37-0b34-4fd6-a3f6-000da6c793ad",
   "metadata": {
    "tags": []
   },
   "outputs": [],
   "source": [
    "from abc import ABC, abstractmethod\n",
    "\n",
    "class Shape(ABC):\n",
    "    @abstractmethod\n",
    "    def area(self):\n",
    "        pass\n",
    "\n",
    "class Circle(Shape):\n",
    "    def area(self):\n",
    "        # Implementation for calculating the area of a circle\n",
    "        pass\n"
   ]
  },
  {
   "cell_type": "code",
   "execution_count": null,
   "id": "341dc82f-763e-49c7-ba65-aa666fee96ba",
   "metadata": {},
   "outputs": [],
   "source": [
    "Concrete Classes:\n",
    "Definition:\n",
    "\n",
    "A concrete class is a regular class that can be instantiated on its own.\n",
    "It may or may not inherit from abstract classes, but it provides complete implementations for all methods, including any \n",
    "abstract methods inherited from abstract classes.\n",
    "Purpose:\n",
    "\n",
    "Concrete classes are meant to be instantiated directly, and they may provide specific functionality without the need for further subclassing.\n",
    "Instantiation:\n",
    "\n",
    "Concrete classes can be instantiated directly using the class name and constructor parameters.\n",
    "They may or may not have abstract methods, but if they do, these methods must be implemented in the concrete class itself."
   ]
  },
  {
   "cell_type": "code",
   "execution_count": 103,
   "id": "707878e0-daaa-4b23-9e67-d47bff8021d4",
   "metadata": {
    "tags": []
   },
   "outputs": [],
   "source": [
    "class Square(Shape):\n",
    "    def __init__(self, side_length):\n",
    "        self.side_length = side_length\n",
    "\n",
    "    def area(self):\n",
    "        # Implementation for calculating the area of a square\n",
    "        pass\n",
    "\n",
    "square = Square(side_length=4)  # Instantiating a concrete class\n"
   ]
  },
  {
   "cell_type": "code",
   "execution_count": null,
   "id": "f2fe1918-e515-4d09-936b-c6313161bb6b",
   "metadata": {},
   "outputs": [],
   "source": [
    "15. Explain the concept of abstract data types (ADTs) and their role in achieving abstraction in Python."
   ]
  },
  {
   "cell_type": "code",
   "execution_count": null,
   "id": "e4985606-d584-4dc0-8651-2969b8ba9eac",
   "metadata": {},
   "outputs": [],
   "source": [
    "Abstract Data Types (ADTs) are high-level descriptions of data structures or objects that specify a set of operations and the constraints on their behavior. The main goal of ADTs is to provide a clear interface between the data and the operations that can be performed on that data. ADTs play a crucial role in achieving abstraction in Python and other programming languages. Here's an explanation of the concept and their role in Python:\n",
    "\n",
    "Concept of Abstract Data Types (ADTs):\n",
    "High-Level Description:\n",
    "\n",
    "ADTs focus on what operations can be performed on data rather than on how those operations are implemented.\n",
    "They provide a way to abstract away the details of data representation and focus on the desired functionality.\n",
    "Operations and Constraints:\n",
    "\n",
    "ADTs specify a set of operations that can be performed on the data, such as inserting, deleting, or accessing elements.\n",
    "Constraints on the behavior of these operations are defined, ensuring that certain properties are maintained.\n",
    "Encapsulation:\n",
    "\n",
    "ADTs encapsulate the internal details of data structures, allowing users to interact with the data through a well-defined interface.\n",
    "The implementation details are hidden from the user, promoting modular and maintainable code.\n",
    "Role of ADTs in Achieving Abstraction in Python:\n",
    "Clear Interface:\n",
    "\n",
    "ADTs provide a clear and well-defined interface for working with data. This allows users to focus on the functionality provided by the data \n",
    "structure without getting into the implementation details.\n",
    "Code Reusability:\n",
    "\n",
    "By abstracting data structures into ADTs, the same ADT interface can be reused across different parts of the code or even in different projects.\n",
    "This promotes code reusability and helps in building modular and extensible software.\n",
    "Modularity:\n",
    "\n",
    "ADTs promote modularity by encapsulating the details of data structures. Changes to the internal representation of data don't \n",
    "affect the external code that uses the ADT.\n",
    "Separation of Concerns:\n",
    "\n",
    "ADTs separate the concerns of data representation and data manipulation. Users of an ADT don't need to worry about how the data \n",
    "is stored; they only need to understand how to use the provided operations.\n",
    "Abstraction Levels:\n",
    "\n",
    "ADTs allow programmers to work at different levels of abstraction. Higher-level ADTs can be built using lower-level ones, \n",
    "creating a hierarchy of abstraction that simplifies complex systems"
   ]
  },
  {
   "cell_type": "code",
   "execution_count": 104,
   "id": "5ba34809-0a6a-4ec6-8acb-942e62195db1",
   "metadata": {
    "tags": []
   },
   "outputs": [],
   "source": [
    "class Stack:\n",
    "    def __init__(self):\n",
    "        self.items = []\n",
    "\n",
    "    def push(self, item):\n",
    "        self.items.append(item)\n",
    "\n",
    "    def pop(self):\n",
    "        return self.items.pop()\n",
    "\n",
    "    def is_empty(self):\n",
    "        return len(self.items) == 0\n"
   ]
  },
  {
   "cell_type": "code",
   "execution_count": null,
   "id": "652e7e62-f240-44fa-8fbf-f982f4d55d7c",
   "metadata": {},
   "outputs": [],
   "source": [
    "16. Create a Python class for a computer system, demonstrating abstraction by defining common methods (e.g., `power_on()`, `shutdown()`) in an abstract base class."
   ]
  },
  {
   "cell_type": "code",
   "execution_count": 106,
   "id": "7d0f2725-a2c1-4ebc-8bed-37111485903b",
   "metadata": {
    "tags": []
   },
   "outputs": [
    {
     "name": "stdout",
     "output_type": "stream",
     "text": [
      "Starting Dell OptiPlex desktop computer.\n",
      "Booting up HP Pavilion laptop.\n",
      "Shutting down Dell OptiPlex desktop computer.\n",
      "Shutting down HP Pavilion laptop.\n"
     ]
    }
   ],
   "source": [
    "from abc import ABC, abstractmethod\n",
    "\n",
    "class ComputerSystem(ABC):\n",
    "    def __init__(self, brand, model):\n",
    "        self.brand = brand\n",
    "        self.model = model\n",
    "        self.powered_on = False\n",
    "\n",
    "    @abstractmethod\n",
    "    def start(self):\n",
    "        pass\n",
    "\n",
    "    @abstractmethod\n",
    "    def shut_down(self):\n",
    "        pass\n",
    "\n",
    "class DesktopComputer(ComputerSystem):\n",
    "    def __init__(self, brand, model):\n",
    "        super().__init__(brand, model)\n",
    "\n",
    "    def start(self):\n",
    "        if not self.powered_on:\n",
    "            print(f\"Starting {self.brand} {self.model} desktop computer.\")\n",
    "            self.powered_on = True\n",
    "        else:\n",
    "            print(\"The computer is already powered on.\")\n",
    "\n",
    "    def shut_down(self):\n",
    "        if self.powered_on:\n",
    "            print(f\"Shutting down {self.brand} {self.model} desktop computer.\")\n",
    "            self.powered_on = False\n",
    "        else:\n",
    "            print(\"The computer is already powered off.\")\n",
    "\n",
    "class LaptopComputer(ComputerSystem):\n",
    "    def __init__(self, brand, model):\n",
    "        super().__init__(brand, model)\n",
    "\n",
    "    def start(self):\n",
    "        if not self.powered_on:\n",
    "            print(f\"Booting up {self.brand} {self.model} laptop.\")\n",
    "            self.powered_on = True\n",
    "        else:\n",
    "            print(\"The laptop is already powered on.\")\n",
    "\n",
    "    def shut_down(self):\n",
    "        if self.powered_on:\n",
    "            print(f\"Shutting down {self.brand} {self.model} laptop.\")\n",
    "            self.powered_on = False\n",
    "        else:\n",
    "            print(\"The laptop is already powered off.\")\n",
    "\n",
    "# Example usage\n",
    "desktop = DesktopComputer(brand=\"Dell\", model=\"OptiPlex\")\n",
    "laptop = LaptopComputer(brand=\"HP\", model=\"Pavilion\")\n",
    "\n",
    "desktop.start()\n",
    "laptop.start()\n",
    "\n",
    "desktop.shut_down()\n",
    "laptop.shut_down()\n"
   ]
  },
  {
   "cell_type": "code",
   "execution_count": null,
   "id": "b5ab8e3e-c64c-44ec-91a6-653a672cfd13",
   "metadata": {},
   "outputs": [],
   "source": [
    "17. Discuss the benefits of using abstraction in large-scale software development projects.\n",
    "Abstraction plays a crucial role in large-scale software development projects, offering numerous benefits that contribute to the efficiency, maintainability, and scalability of the codebase. Here are some key advantages of using abstraction in such projects:\n",
    "\n",
    "Modularity:\n",
    "\n",
    "Abstraction encourages the creation of modular components with well-defined interfaces.\n",
    "Each module can be developed and maintained independently, simplifying the overall system structure.\n",
    "Code Reusability:\n",
    "\n",
    "Abstraction promotes the creation of reusable components and libraries.\n",
    "Modules or classes with well-defined interfaces can be easily reused in different parts of the project or even in other projects, saving development time and effort.\n",
    "Simplified Complexity:\n",
    "\n",
    "Abstraction allows developers to focus on high-level concepts and operations without getting bogged down by implementation details.\n",
    "It reduces the cognitive load on developers, making it easier to understand and reason about complex systems.\n",
    "Scalability:\n",
    "\n",
    "Abstraction facilitates scalability by allowing developers to add new features or modify existing ones without affecting the entire codebase.\n",
    "New modules can be added, and existing ones can be extended without causing ripple effects throughout the system.\n",
    "Ease of Maintenance:\n",
    "\n",
    "Abstracting away implementation details leads to cleaner and more maintainable code.\n",
    "Maintenance becomes easier since changes or bug fixes can be localized to specific modules or classes without affecting the entire system.\n",
    "Team Collaboration:\n",
    "\n",
    "Abstraction provides a common language and set of interfaces for developers to work with.\n",
    "Teams can work on different parts of the project simultaneously, as long as they adhere to the agreed-upon abstractions, fostering collaboration.\n",
    "Adaptability to Changes:\n",
    "\n",
    "Abstraction enables software systems to adapt to changes in requirements or technologies.\n",
    "When the underlying implementation needs to be replaced or upgraded, the external interfaces (abstractions) remain consistent,\n",
    "minimizing the impact on other parts of the system.\n",
    "Testing and Debugging:\n",
    "\n",
    "Abstraction allows for more effective testing, as components can be tested independently of each other.\n",
    "Debugging becomes more straightforward, as issues can be isolated to specific modules or classes.\n",
    "Security:\n",
    "\n",
    "Abstraction can enhance security by encapsulating sensitive or critical operations within well-defined interfaces.\n",
    "Security measures can be concentrated and enforced at the abstraction level, ensuring consistency and reliability.\n",
    "Documentation:\n",
    "\n",
    "Abstractions serve as natural documentation by providing a high-level overview of system functionality.\n",
    "Developers can understand the system's architecture and design by referring to the abstractions, aiding in onboarding and knowledge transfer."
   ]
  },
  {
   "cell_type": "code",
   "execution_count": null,
   "id": "a46dba5f-7697-40ce-9289-c3c5f469f19e",
   "metadata": {},
   "outputs": [],
   "source": [
    "18. Explain how abstraction enhances code reusability and modularity in Python programs."
   ]
  },
  {
   "cell_type": "code",
   "execution_count": null,
   "id": "7dfd2521-99f4-4f7a-8009-baf3d81d5938",
   "metadata": {},
   "outputs": [],
   "source": [
    "Abstraction enhances code reusability and modularity in Python programs by providing a clear separation between the implementation details of a module or class and its external interface. This separation allows developers to create reusable components with well-defined interfaces, promoting a more modular and maintainable codebase. Here's how abstraction contributes to code reusability and modularity in Python:\n",
    "\n",
    "Code Reusability:\n",
    "Encapsulation of Implementation:\n",
    "\n",
    "Abstraction encapsulates the implementation details within a module or class, exposing only a well-defined interface.\n",
    "This encapsulation shields the internal complexities, making it easier to reuse the component without understanding its internal workings.\n",
    "Abstract Base Classes (ABCs):\n",
    "\n",
    "Python supports abstract classes and interfaces through the abc module.\n",
    "Abstract classes define abstract methods that must be implemented by concrete subclasses, providing a clear contract for how the class should be used.\n",
    "Inheritance and Polymorphism:\n",
    "\n",
    "Abstraction often involves defining common interfaces using abstract classes or interfaces.\n",
    "Inheritance and polymorphism allow different subclasses to implement these interfaces, enabling code reuse while accommodating specific variations.\n",
    "Mixin Classes:\n",
    "\n",
    "Mixins are small, reusable classes that provide specific functionalities.\n",
    "By using mixins, developers can compose classes with various mixins, promoting reuse of specific features across different classes.\n",
    "Modularity:\n",
    "Separation of Concerns:\n",
    "\n",
    "Abstraction separates the concerns of data representation, behavior, and interaction.\n",
    "Modules or classes with well-defined interfaces become independent components, promoting a modular design.\n",
    "Isolation of Changes:\n",
    "\n",
    "Abstraction isolates changes to specific modules or classes, preventing ripple effects throughout the codebase.\n",
    "Modifications can be localized to a particular module without affecting the rest of the system.\n",
    "Component Independence:\n",
    "\n",
    "Abstracting away implementation details allows components to function independently.\n",
    "Components can be developed, tested, and maintained in isolation, enhancing modularity.\n",
    "Explicit Interfaces:\n",
    "\n",
    "Abstraction encourages the definition of explicit interfaces for classes or modules.\n",
    "Explicit interfaces serve as contracts between components, making it clear how one component should interact with another.\n",
    "Encapsulation of State:\n",
    "\n",
    "Abstraction encapsulates the state within a class, providing controlled access through methods.\n",
    "This encapsulation allows changes to the internal state without affecting external code that interacts with the class.\n",
    "Ease of Integration:\n",
    "\n",
    "Well-defined interfaces make it easier to integrate third-party libraries or modules into a larger system.\n",
    "Integration points are clear, and developers can use external components without delving into their internal details."
   ]
  },
  {
   "cell_type": "code",
   "execution_count": 107,
   "id": "1746d9bd-3aa6-4619-8403-f37a193cf91e",
   "metadata": {
    "tags": []
   },
   "outputs": [],
   "source": [
    "from abc import ABC, abstractmethod\n",
    "\n",
    "class DatabaseConnector(ABC):\n",
    "    @abstractmethod\n",
    "    def connect(self):\n",
    "        pass\n",
    "\n",
    "    @abstractmethod\n",
    "    def execute_query(self, query):\n",
    "        pass\n",
    "\n",
    "class MySQLConnector(DatabaseConnector):\n",
    "    def connect(self):\n",
    "        # Implementation for connecting to MySQL database\n",
    "        pass\n",
    "\n",
    "    def execute_query(self, query):\n",
    "        # Implementation for executing a query on MySQL\n",
    "        pass\n",
    "\n",
    "class PostgreSQLConnector(DatabaseConnector):\n",
    "    def connect(self):\n",
    "        # Implementation for connecting to PostgreSQL database\n",
    "        pass\n",
    "\n",
    "    def execute_query(self, query):\n",
    "        # Implementation for executing a query on PostgreSQL\n",
    "        pass\n"
   ]
  },
  {
   "cell_type": "code",
   "execution_count": null,
   "id": "e4fe42cd-3090-4005-a20d-978e0f311378",
   "metadata": {},
   "outputs": [],
   "source": [
    "19. Create a Python class for a library system, implementing abstraction by defining common methods (e.g., `add_book()`, `borrow_book()`) in an abstract base class."
   ]
  },
  {
   "cell_type": "code",
   "execution_count": 108,
   "id": "9bf88e5e-136e-4b79-b51a-5ee586084cb3",
   "metadata": {
    "tags": []
   },
   "outputs": [
    {
     "name": "stdout",
     "output_type": "stream",
     "text": [
      "Added 'The Great Gatsby' by F. Scott Fitzgerald to City Public Library.\n",
      "Borrowed 'The Great Gatsby' from City Public Library.\n",
      "Returned 'The Great Gatsby' to City Public Library.\n",
      "Added 'Introduction to Python' by John Doe to University Main Library collection.\n",
      "Borrowed 'Introduction to Python' from University Main Library.\n",
      "Returned 'Introduction to Python' to University Main Library.\n",
      "Error: Displaying books is not implemented in the abstract base class.\n"
     ]
    }
   ],
   "source": [
    "from abc import ABC, abstractmethod\n",
    "\n",
    "class LibrarySystem(ABC):\n",
    "    def __init__(self, library_name):\n",
    "        self.library_name = library_name\n",
    "\n",
    "    @abstractmethod\n",
    "    def add_book(self, book_title, author):\n",
    "        pass\n",
    "\n",
    "    @abstractmethod\n",
    "    def borrow_book(self, book_title):\n",
    "        pass\n",
    "\n",
    "    @abstractmethod\n",
    "    def return_book(self, book_title):\n",
    "        pass\n",
    "\n",
    "    def display_books(self):\n",
    "        raise NotImplementedError(\"Displaying books is not implemented in the abstract base class.\")\n",
    "\n",
    "class PublicLibrary(LibrarySystem):\n",
    "    def __init__(self, library_name):\n",
    "        super().__init__(library_name)\n",
    "        self.books_in_library = {}\n",
    "\n",
    "    def add_book(self, book_title, author):\n",
    "        if book_title not in self.books_in_library:\n",
    "            self.books_in_library[book_title] = author\n",
    "            print(f\"Added '{book_title}' by {author} to {self.library_name}.\")\n",
    "        else:\n",
    "            print(f\"Book '{book_title}' already exists in {self.library_name}.\")\n",
    "\n",
    "    def borrow_book(self, book_title):\n",
    "        if book_title in self.books_in_library:\n",
    "            print(f\"Borrowed '{book_title}' from {self.library_name}.\")\n",
    "        else:\n",
    "            print(f\"Book '{book_title}' is not available in {self.library_name}.\")\n",
    "\n",
    "    def return_book(self, book_title):\n",
    "        if book_title in self.books_in_library:\n",
    "            print(f\"Returned '{book_title}' to {self.library_name}.\")\n",
    "        else:\n",
    "            print(f\"Book '{book_title}' was not borrowed from {self.library_name}.\")\n",
    "\n",
    "class UniversityLibrary(LibrarySystem):\n",
    "    def __init__(self, library_name):\n",
    "        super().__init__(library_name)\n",
    "        self.available_books = set()\n",
    "\n",
    "    def add_book(self, book_title, author):\n",
    "        self.available_books.add(book_title)\n",
    "        print(f\"Added '{book_title}' by {author} to {self.library_name} collection.\")\n",
    "\n",
    "    def borrow_book(self, book_title):\n",
    "        if book_title in self.available_books:\n",
    "            self.available_books.remove(book_title)\n",
    "            print(f\"Borrowed '{book_title}' from {self.library_name}.\")\n",
    "        else:\n",
    "            print(f\"Book '{book_title}' is not available in {self.library_name}.\")\n",
    "\n",
    "    def return_book(self, book_title):\n",
    "        self.available_books.add(book_title)\n",
    "        print(f\"Returned '{book_title}' to {self.library_name}.\")\n",
    "\n",
    "# Example usage\n",
    "public_library = PublicLibrary(\"City Public Library\")\n",
    "university_library = UniversityLibrary(\"University Main Library\")\n",
    "\n",
    "public_library.add_book(\"The Great Gatsby\", \"F. Scott Fitzgerald\")\n",
    "public_library.borrow_book(\"The Great Gatsby\")\n",
    "public_library.return_book(\"The Great Gatsby\")\n",
    "\n",
    "university_library.add_book(\"Introduction to Python\", \"John Doe\")\n",
    "university_library.borrow_book(\"Introduction to Python\")\n",
    "university_library.return_book(\"Introduction to Python\")\n",
    "\n",
    "# Displaying books (common method from the abstract base class)\n",
    "try:\n",
    "    public_library.display_books()\n",
    "except NotImplementedError as e:\n",
    "    print(f\"Error: {e}\")\n"
   ]
  },
  {
   "cell_type": "code",
   "execution_count": null,
   "id": "1f76655c-8f50-46b9-92e6-fb4957bdc960",
   "metadata": {},
   "outputs": [],
   "source": [
    "20. Describe the concept of method abstraction in Python and how it relates to polymorphism."
   ]
  },
  {
   "cell_type": "code",
   "execution_count": null,
   "id": "a1ed50ce-b6fa-4da6-a165-4e9de61d3856",
   "metadata": {},
   "outputs": [],
   "source": [
    "Method abstraction in Python involves creating abstract methods in abstract base classes (ABCs) that define a common\n",
    "interface without providing a concrete implementation. This concept is closely related to polymorphism, as it allows\n",
    "different classes to implement the same abstract method in their own way. Method abstraction and polymorphism together\n",
    "enable the creation of a consistent interface across diverse classes, facilitating code reuse and flexibility.\n",
    "\n",
    "Here's a breakdown of how method abstraction and polymorphism are connected in Python:\n",
    "\n",
    "Method Abstraction:\n",
    "Abstract Base Classes (ABCs):\n",
    "\n",
    "Method abstraction is often achieved through abstract base classes, which are created using the abc module in Python.\n",
    "Abstract base classes define abstract methods that must be implemented by concrete subclasses.\n",
    "Abstract methods have no implementation in the base class, serving as placeholders for functionality that must be provided by subclasses.\n",
    "@abstractmethod Decorator:\n",
    "\n",
    "The @abstractmethod decorator is used to declare abstract methods within abstract base classes.\n",
    "This decorator indicates that any concrete subclass must provide an implementation for the abstract method.\n",
    "Polymorphism:\n",
    "Interface Consistency:\n",
    "\n",
    "Abstract methods create a common interface that must be consistent across all subclasses.\n",
    "Polymorphism allows objects of different classes to be treated as objects of a common base class, facilitating a unified approach to method invocation.\n",
    "Method Overriding:\n",
    "\n",
    "Concrete subclasses override abstract methods to provide their own specific implementation.\n",
    "Polymorphism enables the same method name to be used across different classes, and the appropriate method is invoked\n",
    "dynamically based on the actual type of the object."
   ]
  },
  {
   "cell_type": "code",
   "execution_count": 109,
   "id": "455a7ab4-9665-4293-a831-903e575d0842",
   "metadata": {
    "tags": []
   },
   "outputs": [
    {
     "name": "stdout",
     "output_type": "stream",
     "text": [
      "Area: 78.5\n",
      "Area: 24\n"
     ]
    }
   ],
   "source": [
    "from abc import ABC, abstractmethod\n",
    "\n",
    "class Shape(ABC):\n",
    "    @abstractmethod\n",
    "    def calculate_area(self):\n",
    "        pass\n",
    "\n",
    "class Circle(Shape):\n",
    "    def __init__(self, radius):\n",
    "        self.radius = radius\n",
    "\n",
    "    def calculate_area(self):\n",
    "        return 3.14 * self.radius**2\n",
    "\n",
    "class Rectangle(Shape):\n",
    "    def __init__(self, width, height):\n",
    "        self.width = width\n",
    "        self.height = height\n",
    "\n",
    "    def calculate_area(self):\n",
    "        return self.width * self.height\n",
    "\n",
    "# Polymorphic function that works with any object of the Shape hierarchy\n",
    "def print_area(shape):\n",
    "    print(f\"Area: {shape.calculate_area()}\")\n",
    "\n",
    "# Example usage\n",
    "circle = Circle(radius=5)\n",
    "rectangle = Rectangle(width=4, height=6)\n",
    "\n",
    "# Polymorphic function call with different objects\n",
    "print_area(circle)     # Output: Area: 78.5\n",
    "print_area(rectangle)  # Output: Area: 24\n"
   ]
  },
  {
   "cell_type": "code",
   "execution_count": null,
   "id": "970736eb-5cd6-4bad-b67d-d5a4822e2ea9",
   "metadata": {},
   "outputs": [],
   "source": [
    "Composition:\n",
    "1. Explain the concept of composition in Python and how it is used to build complex objects from simpler ones."
   ]
  },
  {
   "cell_type": "code",
   "execution_count": null,
   "id": "15538d2d-70aa-41b4-a4f8-5ecfb283f001",
   "metadata": {},
   "outputs": [],
   "source": [
    "Composition in Python is a design principle that involves creating complex objects by combining simpler objects.\n",
    "It allows you to build relationships between objects in a way that promotes reusability, flexibility, and modularity \n",
    "in your code. In composition, objects are composed of other objects rather than relying solely on inheritance.\n",
    "\n",
    "Key points about composition in Python:\n",
    "\n",
    "Object Composition:\n",
    "\n",
    "Composition is the act of combining different classes or objects to create a more complex one.\n",
    "It is an alternative to inheritance and emphasizes the use of existing components to construct new ones.\n",
    "Has-A Relationship:\n",
    "\n",
    "Composition typically involves a \"has-a\" relationship, where a class contains objects of other classes as members.\n",
    "The containing class has access to the functionality of the contained objects.\n",
    "Code Reusability:\n",
    "\n",
    "Composition promotes code reuse by allowing the reuse of existing classes or components in the creation of new classes.\n",
    "Components can be modified independently without affecting the entire system.\n",
    "Modularity:\n",
    "\n",
    "Composition leads to a modular design, where each class or component is responsible for a specific aspect of functionality.\n",
    "Changes to one module don't necessarily impact other modules, enhancing maintainability.\n",
    "Flexibility:\n",
    "\n",
    "Composition provides flexibility in combining different components to create various configurations.\n",
    "It is often more flexible than inheritance, as it avoids the limitations of a fixed class hierarchy.\n",
    "Dynamic Relationships:\n",
    "\n",
    "Composition allows for dynamic relationships between objects, as components can be added, replaced, or removed during runtime."
   ]
  },
  {
   "cell_type": "code",
   "execution_count": 110,
   "id": "29769812-3d19-422b-82d7-53e79c5c9f86",
   "metadata": {
    "tags": []
   },
   "outputs": [
    {
     "name": "stdout",
     "output_type": "stream",
     "text": [
      "Car is driving. Engine started\n",
      "Car is parked. Engine stopped\n"
     ]
    }
   ],
   "source": [
    "class Engine:\n",
    "    def start(self):\n",
    "        return \"Engine started\"\n",
    "\n",
    "    def stop(self):\n",
    "        return \"Engine stopped\"\n",
    "\n",
    "class Car:\n",
    "    def __init__(self):\n",
    "        self.engine = Engine()  # Composition: Car has an Engine\n",
    "\n",
    "    def drive(self):\n",
    "        return f\"Car is driving. {self.engine.start()}\"\n",
    "\n",
    "    def park(self):\n",
    "        return f\"Car is parked. {self.engine.stop()}\"\n",
    "\n",
    "# Example usage\n",
    "my_car = Car()\n",
    "print(my_car.drive())  # Output: Car is driving. Engine started\n",
    "print(my_car.park())   # Output: Car is parked. Engine stopped\n"
   ]
  },
  {
   "cell_type": "code",
   "execution_count": null,
   "id": "8e56d1cf-3656-4a09-88b6-d9c29e25babe",
   "metadata": {},
   "outputs": [],
   "source": [
    "2 Describe the difference between composition and inheritance in object-oriented programming."
   ]
  },
  {
   "cell_type": "code",
   "execution_count": null,
   "id": "064d5c81-98dd-4add-bea0-82040a8a7bb6",
   "metadata": {},
   "outputs": [],
   "source": [
    "Composition and inheritance are two fundamental concepts in object-oriented programming (OOP) that address the relationship between classes. \n",
    "Both approaches facilitate code reuse and modular design, but they differ in their mechanisms and implications.\n",
    "\n",
    "Composition:\n",
    "Relationship:\n",
    "\n",
    "Composition involves creating complex objects by combining simpler objects.\n",
    "It emphasizes a \"has-a\" relationship, where a class contains instances of other classes as components.\n",
    "Flexibility:\n",
    "\n",
    "Composition is generally more flexible than inheritance. Objects can be combined dynamically, and components can be replaced or modified independently.\n",
    "Code Reusability:\n",
    "\n",
    "Code reuse is achieved by integrating existing classes as components, allowing for the reuse of specific functionalities.\n",
    "Modularity:\n",
    "\n",
    "Composition leads to a modular design, where each class or component is responsible for a specific aspect of functionality."
   ]
  },
  {
   "cell_type": "code",
   "execution_count": 111,
   "id": "79424eab-80e1-4b28-960a-d81986d32852",
   "metadata": {
    "tags": []
   },
   "outputs": [],
   "source": [
    "class Engine:\n",
    "    def start(self):\n",
    "        return \"Engine started\"\n",
    "    \n",
    "    def stop(self):\n",
    "        return \"Engine stopped\"\n",
    "\n",
    "class Car:\n",
    "    def __init__(self):\n",
    "        self.engine = Engine()\n",
    "\n",
    "    def drive(self):\n",
    "        return f\"Car is driving. {self.engine.start()}\"\n"
   ]
  },
  {
   "cell_type": "code",
   "execution_count": null,
   "id": "c3faa3a0-e275-4365-be01-3e0ea9882d29",
   "metadata": {},
   "outputs": [],
   "source": [
    "Inheritance:\n",
    "Relationship:\n",
    "\n",
    "Inheritance involves creating a new class by extending or inheriting from an existing class.\n",
    "It establishes an \"is-a\" relationship, where a subclass is a specialized version of its superclass.\n",
    "Rigidity:\n",
    "\n",
    "Inheritance can lead to a rigid class hierarchy, making it challenging to modify or extend the system without affecting existing classes.\n",
    "Code Reusability:\n",
    "\n",
    "Code reuse is achieved by inheriting attributes and behaviors from a superclass. Subclasses can reuse and extend the functionality of their superclass.\n",
    "Polymorphism:\n",
    "\n",
    "Inheritance supports polymorphism, where objects of a derived class can be treated as objects of their base class."
   ]
  },
  {
   "cell_type": "code",
   "execution_count": 112,
   "id": "780b3af6-6a72-4342-858c-aaa4195dbbd9",
   "metadata": {
    "tags": []
   },
   "outputs": [],
   "source": [
    "class Animal:\n",
    "    def speak(self):\n",
    "        return \"Generic animal sound\"\n",
    "\n",
    "class Dog(Animal):\n",
    "    def speak(self):\n",
    "        return \"Woof\"\n",
    "\n",
    "class Cat(Animal):\n",
    "    def speak(self):\n",
    "        return \"Meow\"\n"
   ]
  },
  {
   "cell_type": "code",
   "execution_count": null,
   "id": "9c3725fc-43a5-4664-bbeb-d54a187faa4b",
   "metadata": {},
   "outputs": [],
   "source": [
    "Key Differences:\n",
    "Relationship Type:\n",
    "\n",
    "Composition: \"Has-a\" relationship (object contains other objects).\n",
    "Inheritance: \"Is-a\" relationship (subclass is a type of its superclass).\n",
    "Flexibility:\n",
    "\n",
    "Composition: More flexible, dynamic, and less prone to changes affecting the entire system.\n",
    "Inheritance: Can be rigid, and changes to the superclass may affect all subclasses.\n",
    "Code Reusability:\n",
    "\n",
    "Composition: Code reuse is achieved by combining existing classes as components.\n",
    "Inheritance: Code reuse is achieved by inheriting attributes and behaviors from a superclass.\n",
    "Modularity:\n",
    "\n",
    "Composition: Leads to a modular design with components responsible for specific functionalities.\n",
    "Inheritance: May lead to a less modular design, especially in deep class hierarchies.\n",
    "Polymorphism:\n",
    "\n",
    "Composition: Achieves polymorphism through interfaces or abstract classes.\n",
    "Inheritance: Supports polymorphism through method overriding in subclasses."
   ]
  },
  {
   "cell_type": "code",
   "execution_count": null,
   "id": "8967c5e4-eade-49bc-9549-b885ccbe8477",
   "metadata": {},
   "outputs": [],
   "source": [
    "3. Create a Python class called `Author` with attributes for name and birthdate. Then, create a `Book` class\n",
    "that contains an instance of `Author` as a composition. Provide an example of creating a `Book` object."
   ]
  },
  {
   "cell_type": "code",
   "execution_count": 113,
   "id": "53e872ce-4ab3-4921-8af2-f8472448799b",
   "metadata": {
    "tags": []
   },
   "outputs": [
    {
     "name": "stdout",
     "output_type": "stream",
     "text": [
      "Title: Sample Book\n",
      "Genre: Fiction\n",
      "Author: John Doe (Born: January 1, 1980)\n"
     ]
    }
   ],
   "source": [
    "class Author:\n",
    "    def __init__(self, name, birthdate):\n",
    "        self.name = name\n",
    "        self.birthdate = birthdate\n",
    "\n",
    "    def __str__(self):\n",
    "        return f\"{self.name} (Born: {self.birthdate})\"\n",
    "\n",
    "class Book:\n",
    "    def __init__(self, title, genre, author):\n",
    "        self.title = title\n",
    "        self.genre = genre\n",
    "        self.author = author  # Composition: Book has an Author\n",
    "\n",
    "    def display_info(self):\n",
    "        return f\"Title: {self.title}\\nGenre: {self.genre}\\nAuthor: {self.author}\"\n",
    "\n",
    "# Example usage\n",
    "author_john_doe = Author(\"John Doe\", \"January 1, 1980\")\n",
    "book_example = Book(\"Sample Book\", \"Fiction\", author_john_doe)\n",
    "\n",
    "# Display book information\n",
    "print(book_example.display_info())\n"
   ]
  },
  {
   "cell_type": "code",
   "execution_count": null,
   "id": "d5aa046f-ac06-472e-b9c6-ec7a126345b8",
   "metadata": {},
   "outputs": [],
   "source": [
    "4. Discuss the benefits of using composition over inheritance in Python, especially in terms of code flexibility\n",
    "and reusability."
   ]
  },
  {
   "cell_type": "code",
   "execution_count": null,
   "id": "bcd57859-978a-4100-b5b1-c6cbb749b33a",
   "metadata": {},
   "outputs": [],
   "source": [
    "Using composition over inheritance in Python offers several benefits, particularly in terms of code flexibility and reusability. Here are some key advantages:\n",
    "\n",
    "Flexibility:\n",
    "\n",
    "Composition allows for a more flexible design by enabling dynamic relationships between objects during runtime.\n",
    "Objects can be composed and recomposed dynamically, providing greater adaptability to changing requirements.\n",
    "Modularity:\n",
    "\n",
    "Composition leads to a modular design where each class or component is responsible for a specific aspect of functionality.\n",
    "Modules can be developed and modified independently without affecting the entire system, enhancing maintainability.\n",
    "Code Reusability:\n",
    "\n",
    "Composition promotes code reuse by encouraging the integration of existing classes or components to create new functionality.\n",
    "Components can be easily reused in different contexts, promoting a more modular and reusable codebase.\n",
    "Avoiding Deep Class Hierarchies:\n",
    "\n",
    "Composition helps avoid the issues associated with deep class hierarchies that can arise with excessive use of inheritance.\n",
    "Deep hierarchies can become rigid, challenging to understand, and prone to introducing unintended consequences.\n",
    "Reduced Coupling:\n",
    "\n",
    "Composition reduces the level of coupling between classes compared to inheritance.\n",
    "Components can interact through well-defined interfaces, making it easier to replace or upgrade components without affecting the entire system.\n",
    "Solves the \"Diamond Problem\":\n",
    "\n",
    "Composition helps avoid the \"diamond problem\" associated with multiple inheritance, where conflicts arise when a class inherits from\n",
    "two classes with a common ancestor.\n",
    "Composition allows you to selectively include the desired behavior without introducing complex inheritance hierarchies.\n",
    "Enhanced Testability:\n",
    "\n",
    "Code developed using composition tends to be more testable since individual components can be tested independently.\n",
    "Unit testing is more straightforward as each class or component can be tested in isolation.\n",
    "Encourages Interface-Based Design:\n",
    "\n",
    "Composition encourages the use of interfaces or abstract classes, fostering a design where classes communicate through well-defined contracts.\n",
    "Interfaces provide a clear separation of concerns and support polymorphism without introducing tight coupling.\n",
    "Adaptable to Changes:\n",
    "\n",
    "As requirements change, compositions can be adjusted more easily than rigid inheritance structures.\n",
    "New components can be introduced, existing ones can be replaced, and relationships can be altered without affecting the overall system.\n",
    "Dynamic Object Relationships:\n",
    "\n",
    "Composition allows for dynamic relationships between objects during runtime, enabling the creation of complex structures based on specific needs."
   ]
  },
  {
   "cell_type": "code",
   "execution_count": null,
   "id": "0876fd45-8046-41c7-ad43-c05b944e276f",
   "metadata": {},
   "outputs": [],
   "source": [
    "5. How can you implement composition in Python classes? Provide examples of using composition to create\n",
    "complex objects."
   ]
  },
  {
   "cell_type": "code",
   "execution_count": 114,
   "id": "a2b6a20d-d26f-4ccd-8023-597e80200559",
   "metadata": {
    "tags": []
   },
   "outputs": [
    {
     "name": "stdout",
     "output_type": "stream",
     "text": [
      "Circle with center (3, 4) and radius 5\n"
     ]
    }
   ],
   "source": [
    "class Point:\n",
    "    def __init__(self, x, y):\n",
    "        self.x = x\n",
    "        self.y = y\n",
    "\n",
    "    def __str__(self):\n",
    "        return f\"({self.x}, {self.y})\"\n",
    "\n",
    "class Circle:\n",
    "    def __init__(self, center, radius):\n",
    "        self.center = center  # Composition: Circle has a Point as its center\n",
    "        self.radius = radius\n",
    "\n",
    "    def __str__(self):\n",
    "        return f\"Circle with center {self.center} and radius {self.radius}\"\n",
    "\n",
    "# Example usage\n",
    "center_point = Point(3, 4)\n",
    "my_circle = Circle(center_point, 5)\n",
    "\n",
    "# Display information about the circle\n",
    "print(my_circle)  # Output: Circle with center (3, 4) and radius 5\n"
   ]
  },
  {
   "cell_type": "code",
   "execution_count": null,
   "id": "29e1b35d-9871-4cbd-ada3-940831b9f36b",
   "metadata": {},
   "outputs": [],
   "source": [
    "6. Create a Python class hierarchy for a music player system, using composition to represent playlists and\n",
    "songs."
   ]
  },
  {
   "cell_type": "code",
   "execution_count": 115,
   "id": "eb723f15-2def-4041-b21d-909badbe57cb",
   "metadata": {
    "tags": []
   },
   "outputs": [
    {
     "name": "stdout",
     "output_type": "stream",
     "text": [
      "Music Player\n",
      "Playlist: Playlist 1\n",
      "Songs:\n",
      "Song 1 by Artist A (180 seconds)\n",
      "Song 2 by Artist B (210 seconds)\n",
      "Playlist: Playlist 2\n",
      "Songs:\n",
      "Song 3 by Artist C (240 seconds)\n"
     ]
    }
   ],
   "source": [
    "class Song:\n",
    "    def __init__(self, title, artist, duration):\n",
    "        self.title = title\n",
    "        self.artist = artist\n",
    "        self.duration = duration\n",
    "\n",
    "    def __str__(self):\n",
    "        return f\"{self.title} by {self.artist} ({self.duration} seconds)\"\n",
    "\n",
    "class Playlist:\n",
    "    def __init__(self, name, songs=None):\n",
    "        self.name = name\n",
    "        self.songs = songs if songs else []  # Composition: Playlist has a list of Song objects\n",
    "\n",
    "    def add_song(self, song):\n",
    "        self.songs.append(song)\n",
    "\n",
    "    def display_playlist(self):\n",
    "        playlist_info = f\"Playlist: {self.name}\\nSongs:\\n\"\n",
    "        playlist_info += \"\\n\".join(str(song) for song in self.songs)\n",
    "        return playlist_info\n",
    "\n",
    "class MusicPlayer:\n",
    "    def __init__(self, playlists=None):\n",
    "        self.playlists = playlists if playlists else []  # Composition: MusicPlayer has a list of Playlist objects\n",
    "\n",
    "    def add_playlist(self, playlist):\n",
    "        self.playlists.append(playlist)\n",
    "\n",
    "    def display_music_player(self):\n",
    "        player_info = \"Music Player\\n\"\n",
    "        player_info += \"\\n\".join(playlist.display_playlist() for playlist in self.playlists)\n",
    "        return player_info\n",
    "\n",
    "# Example usage\n",
    "song1 = Song(\"Song 1\", \"Artist A\", 180)\n",
    "song2 = Song(\"Song 2\", \"Artist B\", 210)\n",
    "\n",
    "playlist1 = Playlist(\"Playlist 1\", [song1, song2])\n",
    "\n",
    "song3 = Song(\"Song 3\", \"Artist C\", 240)\n",
    "playlist2 = Playlist(\"Playlist 2\", [song3])\n",
    "\n",
    "music_player = MusicPlayer([playlist1, playlist2])\n",
    "\n",
    "# Display information about the music player\n",
    "print(music_player.display_music_player())\n"
   ]
  },
  {
   "cell_type": "code",
   "execution_count": null,
   "id": "96449d1d-189e-4e62-96c3-c779e8061014",
   "metadata": {},
   "outputs": [],
   "source": [
    "7 Explain the concept of \"has-a\" relationships in composition and how it helps design software systems."
   ]
  },
  {
   "cell_type": "code",
   "execution_count": null,
   "id": "5b946104-4b42-4e80-b327-e8d2b4320477",
   "metadata": {},
   "outputs": [],
   "source": [
    "The concept of \"has-a\" relationships in composition refers to the idea that a class can have another class as a component or part of its structure. In other words, it signifies that an object of one class contains or is composed of objects of another class. This relationship is established through the inclusion of one class as an attribute within another class.\n",
    "\n",
    "Here are key aspects of the \"has-a\" relationship in composition and how it contributes to designing software systems:\n",
    "\n",
    "Object Composition:\n",
    "\n",
    "Composition allows for the creation of more complex objects by combining simpler objects. One class \"has\" another class as part of its structure.\n",
    "Modular Design:\n",
    "\n",
    "The \"has-a\" relationship promotes modular design, where each class or component is responsible for a specific aspect of functionality.\n",
    "This enhances code organization and readability.\n",
    "Code Reusability:\n",
    "\n",
    "Composition encourages code reuse by facilitating the integration of existing classes or components to create new functionality.\n",
    "This leads to a more modular and reusable codebase.\n",
    "Flexibility and Dynamism:\n",
    "\n",
    "The relationship between classes in composition is often more flexible and dynamic than in inheritance. Objects can be composed \n",
    "and recomposed dynamically during runtime,\n",
    "providing adaptability to changing requirements.\n",
    "Avoidance of Deep Class Hierarchies:\n",
    "\n",
    "Composition helps avoid issues associated with deep class hierarchies that may arise with excessive use of inheritance. Deep\n",
    "hierarchies can become rigid and challenging to manage.\n",
    "Component Independence:\n",
    "\n",
    "Each component maintains a level of independence in terms of functionality and implementation. Changes to one component do not \n",
    "necessarily impact other components, promoting code stability.\n",
    "Solves the \"Diamond Problem\":\n",
    "\n",
    "Composition helps circumvent the \"diamond problem\" associated with multiple inheritance, where conflicts arise when a class inherits\n",
    "from two classes with a common ancestor. Composition allows for selective inclusion of behavior.\n",
    "Encapsulation of Responsibilities:\n",
    "\n",
    "Each class involved in the composition encapsulates specific responsibilities. This encapsulation contributes to clearer separation of concerns,\n",
    "making it easier to understand and maintain the code.\n",
    "Enhanced Testability:\n",
    "\n",
    "Code developed using composition is often more testable since individual components can be tested independently.\n",
    "Unit testing becomes more straightforward.\n",
    "Adaptation to Changes:\n",
    "\n",
    "As requirements change, compositions can be adjusted more easily than rigid inheritance structures. New components can be introduced, \n",
    "and existing ones can be replaced or modified without affecting the entire system."
   ]
  },
  {
   "cell_type": "code",
   "execution_count": null,
   "id": "6b7b93c8-76c8-40e8-987f-91accc247819",
   "metadata": {},
   "outputs": [],
   "source": [
    "8. Create a Python class for a computer system, using composition to represent components like CPU, RAM,\n",
    "and storage devices."
   ]
  },
  {
   "cell_type": "code",
   "execution_count": 116,
   "id": "ee48036f-9b14-406a-a799-c70d07e7b164",
   "metadata": {
    "tags": []
   },
   "outputs": [
    {
     "name": "stdout",
     "output_type": "stream",
     "text": [
      "Computer System Information\n",
      "CPU: Intel i7 (8 cores)\n",
      "RAM: 16GB (2400MHz)\n",
      "Storage: SSD (512GB)\n"
     ]
    }
   ],
   "source": [
    "class CPU:\n",
    "    def __init__(self, brand, model, cores):\n",
    "        self.brand = brand\n",
    "        self.model = model\n",
    "        self.cores = cores\n",
    "\n",
    "    def __str__(self):\n",
    "        return f\"CPU: {self.brand} {self.model} ({self.cores} cores)\"\n",
    "\n",
    "class RAM:\n",
    "    def __init__(self, capacity_gb, speed_mhz):\n",
    "        self.capacity_gb = capacity_gb\n",
    "        self.speed_mhz = speed_mhz\n",
    "\n",
    "    def __str__(self):\n",
    "        return f\"RAM: {self.capacity_gb}GB ({self.speed_mhz}MHz)\"\n",
    "\n",
    "class Storage:\n",
    "    def __init__(self, type, capacity_gb):\n",
    "        self.type = type\n",
    "        self.capacity_gb = capacity_gb\n",
    "\n",
    "    def __str__(self):\n",
    "        return f\"Storage: {self.type} ({self.capacity_gb}GB)\"\n",
    "\n",
    "class ComputerSystem:\n",
    "    def __init__(self, cpu, ram, storage):\n",
    "        self.cpu = cpu  # Composition: ComputerSystem has a CPU\n",
    "        self.ram = ram  # Composition: ComputerSystem has RAM\n",
    "        self.storage = storage  # Composition: ComputerSystem has Storage\n",
    "\n",
    "    def display_system_info(self):\n",
    "        system_info = \"Computer System Information\\n\"\n",
    "        system_info += str(self.cpu) + \"\\n\"\n",
    "        system_info += str(self.ram) + \"\\n\"\n",
    "        system_info += str(self.storage)\n",
    "        return system_info\n",
    "\n",
    "# Example usage\n",
    "cpu_example = CPU(\"Intel\", \"i7\", 8)\n",
    "ram_example = RAM(16, 2400)\n",
    "storage_example = Storage(\"SSD\", 512)\n",
    "\n",
    "computer_example = ComputerSystem(cpu_example, ram_example, storage_example)\n",
    "\n",
    "# Display information about the computer system\n",
    "print(computer_example.display_system_info())\n"
   ]
  },
  {
   "cell_type": "code",
   "execution_count": null,
   "id": "8d1d609c-153a-4a58-ba8c-43fd38847f44",
   "metadata": {},
   "outputs": [],
   "source": [
    "9. Describe the concept of \"delegation\" in composition and how it simplifies the design of complex systems."
   ]
  },
  {
   "cell_type": "code",
   "execution_count": null,
   "id": "30ca5c5f-b71a-4a14-bcf3-18d4ce682cc0",
   "metadata": {},
   "outputs": [],
   "source": [
    "The concept of \"delegation\" in composition refers to the practice of assigning responsibilities or tasks to other objects rather than handling them directly. It involves creating a relationship where one object relies on another to perform certain operations or provide specific functionality. Delegation is a key aspect of composition that simplifies the design of complex systems in several ways:\n",
    "\n",
    "Responsibility Separation:\n",
    "\n",
    "Delegation allows for the separation of responsibilities. Each object is responsible for a specific aspect of functionality, promoting a modular and organized design.\n",
    "Code Reusability:\n",
    "\n",
    "Delegation facilitates code reuse by allowing objects to reuse the behavior of other objects. Instead of duplicating code, an object can delegate\n",
    "tasks to another object that already implements the desired functionality.\n",
    "Promotes Composition:\n",
    "\n",
    "Delegation is closely tied to the composition principle, where an object includes other objects as components. By delegating tasks to components, \n",
    "complex behavior can be achieved through the collaboration of simpler, specialized objects.\n",
    "Simplifies Maintenance:\n",
    "\n",
    "Delegation simplifies maintenance efforts by making it easier to update or replace individual components without affecting the entire system.\n",
    "Changes to one object's behavior don't necessarily impact the behavior of the object delegating the task.\n",
    "Enhanced Flexibility:\n",
    "\n",
    "Delegation enhances flexibility by allowing objects to adapt to changes more easily. Components can be replaced or modified, and new\n",
    "functionalities can be added without disrupting the overall system.\n",
    "Dynamic Behavior:\n",
    "\n",
    "Delegation introduces a level of dynamism into the system. The behavior of an object can be altered at runtime by delegating tasks\n",
    "to different objects, providing adaptability to changing requirements.\n",
    "Encapsulation of Complexity:\n",
    "\n",
    "Complex functionality can be encapsulated within dedicated objects, and a delegating object only needs to understand the interfaces\n",
    "of its components. This encapsulation of complexity makes the system more comprehensible and maintainable.\n",
    "Promotes Loose Coupling:\n",
    "\n",
    "Delegation contributes to loose coupling between objects. The delegating object interacts with its components through well-defined interfaces,\n",
    "reducing dependencies and promoting better encapsulation.\n",
    "Scalability:\n",
    "\n",
    "Delegation supports scalability as new functionality can be added by introducing new objects without significantly modifying existing code.\n",
    "This makes the system more adaptable to growth and evolving requirements.\n",
    "Clearer Design Intent:\n",
    "\n",
    "Delegation often leads to a design that reflects the intended collaboration between objects more clearly. Each object's role and\n",
    "responsibility are well-defined, contributing to a more intuitive and understandable design.\n"
   ]
  },
  {
   "cell_type": "code",
   "execution_count": null,
   "id": "5f1c8438-c8a9-4a01-94b4-27f5edd0becd",
   "metadata": {},
   "outputs": [],
   "source": [
    "10. Create a Python class for a car, using composition to represent components like the engine, wheels, and\n",
    "transmission."
   ]
  },
  {
   "cell_type": "code",
   "execution_count": 117,
   "id": "2bbe9d0f-a930-449c-a2b0-ff0f96fcd7ec",
   "metadata": {
    "tags": []
   },
   "outputs": [
    {
     "name": "stdout",
     "output_type": "stream",
     "text": [
      "Car Information\n",
      "Engine: 200 HP, Gasoline\n",
      "Wheels: 4 wheels, All-Season tires\n",
      "Transmission: Automatic\n"
     ]
    }
   ],
   "source": [
    "class Engine:\n",
    "    def __init__(self, fuel_type, horsepower):\n",
    "        self.fuel_type = fuel_type\n",
    "        self.horsepower = horsepower\n",
    "\n",
    "    def __str__(self):\n",
    "        return f\"Engine: {self.horsepower} HP, {self.fuel_type}\"\n",
    "\n",
    "class Wheels:\n",
    "    def __init__(self, wheel_count, tire_type):\n",
    "        self.wheel_count = wheel_count\n",
    "        self.tire_type = tire_type\n",
    "\n",
    "    def __str__(self):\n",
    "        return f\"Wheels: {self.wheel_count} wheels, {self.tire_type} tires\"\n",
    "\n",
    "class Transmission:\n",
    "    def __init__(self, transmission_type):\n",
    "        self.transmission_type = transmission_type\n",
    "\n",
    "    def __str__(self):\n",
    "        return f\"Transmission: {self.transmission_type}\"\n",
    "\n",
    "class Car:\n",
    "    def __init__(self, engine, wheels, transmission):\n",
    "        self.engine = engine  # Composition: Car has an Engine\n",
    "        self.wheels = wheels  # Composition: Car has Wheels\n",
    "        self.transmission = transmission  # Composition: Car has a Transmission\n",
    "\n",
    "    def display_car_info(self):\n",
    "        car_info = \"Car Information\\n\"\n",
    "        car_info += str(self.engine) + \"\\n\"\n",
    "        car_info += str(self.wheels) + \"\\n\"\n",
    "        car_info += str(self.transmission)\n",
    "        return car_info\n",
    "\n",
    "# Example usage\n",
    "engine_example = Engine(\"Gasoline\", 200)\n",
    "wheels_example = Wheels(4, \"All-Season\")\n",
    "transmission_example = Transmission(\"Automatic\")\n",
    "\n",
    "car_example = Car(engine_example, wheels_example, transmission_example)\n",
    "\n",
    "# Display information about the car\n",
    "print(car_example.display_car_info())\n"
   ]
  },
  {
   "cell_type": "code",
   "execution_count": null,
   "id": "f4ddb434-30f0-4680-a555-1d6f2611943e",
   "metadata": {},
   "outputs": [],
   "source": [
    "11. How can you encapsulate and hide the details of composed objects in Python classes to maintain\n",
    "abstraction?"
   ]
  },
  {
   "cell_type": "code",
   "execution_count": null,
   "id": "68bc7633-4a9b-4519-89d4-6bae023c07ca",
   "metadata": {},
   "outputs": [],
   "source": [
    "To encapsulate and hide the details of composed objects in Python classes, you can follow the principles of encapsulation and information hiding. Here are some techniques:\n",
    "\n",
    "Private Attributes:\n",
    "\n",
    "Use private attributes in the class to store the composed objects. This can be achieved by prefixing attribute names with double underscores (__). \n",
    "Private attributes are not accessible from outside the class."
   ]
  },
  {
   "cell_type": "code",
   "execution_count": 118,
   "id": "acadf060-19ab-4ec1-bc33-db6684936cf8",
   "metadata": {
    "tags": []
   },
   "outputs": [],
   "source": [
    "class Car:\n",
    "    def __init__(self, engine, wheels, transmission):\n",
    "        self.__engine = engine\n",
    "        self.__wheels = wheels\n",
    "        self.__transmission = transmission\n"
   ]
  },
  {
   "cell_type": "code",
   "execution_count": null,
   "id": "71a9e006-ff02-44ac-bc6e-051cc6d82e4a",
   "metadata": {},
   "outputs": [],
   "source": [
    "Getter Methods:\n",
    "\n",
    "Provide getter methods to access the composed objects. These methods can be public, allowing controlled access to the encapsulated objects."
   ]
  },
  {
   "cell_type": "code",
   "execution_count": null,
   "id": "2f9081ae-7740-4931-b98a-d8e64f8eb3a4",
   "metadata": {},
   "outputs": [],
   "source": [
    "class Car:\n",
    "    # ... (previous code)\n",
    "\n",
    "    def get_engine(self):\n",
    "        return self.__engine\n",
    "\n",
    "    def get_wheels(self):\n",
    "        return self.__wheels\n",
    "\n",
    "    def get_transmission(self):\n",
    "        return self.__transmission\n"
   ]
  },
  {
   "cell_type": "code",
   "execution_count": null,
   "id": "dd0c40c8-1845-41e0-9dbf-ba2fdb60a382",
   "metadata": {},
   "outputs": [],
   "source": [
    "Property Decorators:\n",
    "\n",
    "Use property decorators to create read-only properties for the composed objects. This allows you to access the objects \n",
    "like attributes while controlling modification."
   ]
  },
  {
   "cell_type": "code",
   "execution_count": null,
   "id": "77a520eb-1706-4c54-acc7-7efd1abc7c78",
   "metadata": {},
   "outputs": [],
   "source": [
    "class Car:\n",
    "    # ... (previous code)\n",
    "\n",
    "    @property\n",
    "    def engine(self):\n",
    "        return self.__engine\n",
    "\n",
    "    @property\n",
    "    def wheels(self):\n",
    "        return self.__wheels\n",
    "\n",
    "    @property\n",
    "    def transmission(self):\n",
    "        return self.__transmission\n"
   ]
  },
  {
   "cell_type": "code",
   "execution_count": null,
   "id": "ccfe8797-86ae-41ec-97db-a24324793e9d",
   "metadata": {},
   "outputs": [],
   "source": [
    "Public Interface Methods:\n",
    "\n",
    "Define public interface methods that interact with the composed objects. These methods expose only the necessary functionality \n",
    "while keeping the internal details hidden"
   ]
  },
  {
   "cell_type": "code",
   "execution_count": null,
   "id": "c6d45750-9153-4537-853f-3bdeaaf5dc1a",
   "metadata": {},
   "outputs": [],
   "source": [
    "class Car:\n",
    "    # ... (previous code)\n",
    "\n",
    "    def start_engine(self):\n",
    "        # Implementation details using self.__engine\n",
    "\n",
    "    def drive(self):\n",
    "        # Implementation details using self.__wheels and self.__transmission\n"
   ]
  },
  {
   "cell_type": "code",
   "execution_count": null,
   "id": "693757da-019c-41b3-85c0-1b6486b9e264",
   "metadata": {},
   "outputs": [],
   "source": [
    "Handle Modifications Internally:\n",
    "\n",
    "If modifications to composed objects are required, provide methods within the class to handle those modifications.\n",
    "This ensures that changes are controlled and encapsulated."
   ]
  },
  {
   "cell_type": "code",
   "execution_count": null,
   "id": "71d02b12-dec0-4bd0-ba93-e985a1ec5659",
   "metadata": {},
   "outputs": [],
   "source": [
    "class Car:\n",
    "    # ... (previous code)\n",
    "\n",
    "    def replace_engine(self, new_engine):\n",
    "        # Handle the replacement internally\n",
    "        self.__engine = new_engine\n"
   ]
  },
  {
   "cell_type": "code",
   "execution_count": null,
   "id": "2c2e8ac3-6fd1-41d5-a764-e7d0bea9b86a",
   "metadata": {},
   "outputs": [],
   "source": [
    "12. Create a Python class for a university course, using composition to represent students, instructors, and\n",
    "course materials."
   ]
  },
  {
   "cell_type": "code",
   "execution_count": 119,
   "id": "c38c3845-f347-468f-a1a4-990ca09da458",
   "metadata": {
    "tags": []
   },
   "outputs": [
    {
     "name": "stdout",
     "output_type": "stream",
     "text": [
      "University Course Information\n",
      "Course Code: COMP101\n",
      "Course Name: Introduction to Programming\n",
      "Instructor: Dr. Smith (ID: 101)\n",
      "Students:\n",
      "Student: Alice (ID: 1)\n",
      "Student: Bob (ID: 2)\n",
      "Course Material: Textbook - Python Programming, Syllabus - Spring 2024 Syllabus\n"
     ]
    }
   ],
   "source": [
    "class Student:\n",
    "    def __init__(self, student_id, name):\n",
    "        self.student_id = student_id\n",
    "        self.name = name\n",
    "\n",
    "    def __str__(self):\n",
    "        return f\"Student: {self.name} (ID: {self.student_id})\"\n",
    "\n",
    "class Instructor:\n",
    "    def __init__(self, instructor_id, name):\n",
    "        self.instructor_id = instructor_id\n",
    "        self.name = name\n",
    "\n",
    "    def __str__(self):\n",
    "        return f\"Instructor: {self.name} (ID: {self.instructor_id})\"\n",
    "\n",
    "class CourseMaterial:\n",
    "    def __init__(self, textbook, syllabus):\n",
    "        self.textbook = textbook\n",
    "        self.syllabus = syllabus\n",
    "\n",
    "    def __str__(self):\n",
    "        return f\"Course Material: Textbook - {self.textbook}, Syllabus - {self.syllabus}\"\n",
    "\n",
    "class UniversityCourse:\n",
    "    def __init__(self, course_code, course_name, instructor, students, course_material):\n",
    "        self.course_code = course_code\n",
    "        self.course_name = course_name\n",
    "        self.instructor = instructor  # Composition: UniversityCourse has an Instructor\n",
    "        self.students = students  # Composition: UniversityCourse has Students\n",
    "        self.course_material = course_material  # Composition: UniversityCourse has CourseMaterial\n",
    "\n",
    "    def display_course_info(self):\n",
    "        course_info = f\"University Course Information\\nCourse Code: {self.course_code}\\nCourse Name: {self.course_name}\\n\"\n",
    "        course_info += str(self.instructor) + \"\\n\"\n",
    "        course_info += \"Students:\\n\" + \"\\n\".join(str(student) for student in self.students) + \"\\n\"\n",
    "        course_info += str(self.course_material)\n",
    "        return course_info\n",
    "\n",
    "# Example usage\n",
    "student1 = Student(1, \"Alice\")\n",
    "student2 = Student(2, \"Bob\")\n",
    "\n",
    "instructor_example = Instructor(101, \"Dr. Smith\")\n",
    "\n",
    "course_material_example = CourseMaterial(\"Python Programming\", \"Spring 2024 Syllabus\")\n",
    "\n",
    "course_example = UniversityCourse(\"COMP101\", \"Introduction to Programming\", instructor_example, [student1, student2], course_material_example)\n",
    "\n",
    "# Display information about the university course\n",
    "print(course_example.display_course_info())\n"
   ]
  },
  {
   "cell_type": "code",
   "execution_count": null,
   "id": "13494af7-7f82-4470-925d-8c3ddb420e66",
   "metadata": {},
   "outputs": [],
   "source": [
    "13. Discuss the challenges and drawbacks of composition, such as increased complexity and potential for\n",
    "tight coupling between objects."
   ]
  },
  {
   "cell_type": "code",
   "execution_count": null,
   "id": "33b36489-2c2b-4229-b827-5b3b65002104",
   "metadata": {},
   "outputs": [],
   "source": [
    "While composition is a powerful design principle in object-oriented programming, there are challenges and potential drawbacks associated with its use. It's important to be aware of these issues to make informed design decisions. Here are some challenges and drawbacks of composition:\n",
    "\n",
    "Increased Complexity:\n",
    "\n",
    "Composition can lead to increased complexity in the code, especially when dealing with a large number of interconnected objects.\n",
    "Managing the relationships and interactions between \n",
    "various components may become challenging.\n",
    "Potential for Tight Coupling:\n",
    "\n",
    "If not managed carefully, composition can lead to tight coupling between objects. Tight coupling occurs when the components of an object \n",
    "are highly dependent on each other's implementations. This can make the code less modular and harder to maintain.\n",
    "Initialization Order Dependency:\n",
    "\n",
    "The order in which components are initialized becomes crucial. If one component depends on the state of another during initialization,\n",
    "ensuring the correct order can be challenging and error-prone.\n",
    "Inheritance vs. Composition Dilemma:\n",
    "\n",
    "Choosing between inheritance and composition can be a dilemma. While composition is often favored for its flexibility, it may lead\n",
    "to a more verbose code structure compared to inheritance, which can result in a trade-off between simplicity and flexibility.\n",
    "Boilerplate Code:\n",
    "\n",
    "Composition can sometimes result in boilerplate code, especially when creating numerous getter methods, initializing components,\n",
    "and forwarding calls. This can make the code less concise and more prone to errors.\n",
    "Increased Memory Usage:\n",
    "\n",
    "Each composed object adds its own memory overhead. In scenarios where many small objects are composed to create a larger structure,\n",
    "this can lead to increased memory usage compared to a more compact, monolithic design.\n",
    "Interfaces and Consistency:\n",
    "\n",
    "Ensuring consistent interfaces for composed objects requires careful planning. If the interfaces are not well-defined or change frequently, \n",
    "it may lead to confusion and maintenance challenges.\n",
    "Dynamic Changes:\n",
    "\n",
    "Handling dynamic changes to the composition (adding or removing components at runtime) can be complex. This dynamicity might introduce\n",
    "additional challenges in maintaining the system's state and behavior.\n",
    "Performance Overhead:\n",
    "\n",
    "Depending on the implementation, there might be some performance overhead associated with composition. Indirect access through multiple \n",
    "layers of objects can be less efficient than direct access in certain scenarios.\n",
    "Readability and Understandability:\n",
    "\n",
    "Overuse of composition without a clear structure may reduce code readability. Understanding the relationships between numerous small objects\n",
    "can become difficult, impacting the overall maintainability of the codebase."
   ]
  },
  {
   "cell_type": "code",
   "execution_count": null,
   "id": "0c4c37c0-ac99-4b98-b9d6-3f58f51d8a93",
   "metadata": {},
   "outputs": [],
   "source": [
    "14. Create a Python class hierarchy for a restaurant system, using composition to represent menus, dishes,\n",
    "and ingredients."
   ]
  },
  {
   "cell_type": "code",
   "execution_count": 120,
   "id": "862f4e1f-b397-445f-b1b6-91edcd29862d",
   "metadata": {
    "tags": []
   },
   "outputs": [
    {
     "name": "stdout",
     "output_type": "stream",
     "text": [
      "Lunch Menu\n",
      "Chicken Rice Bowl\n",
      "Vegetarian Pasta\n",
      "Chicken Rice Bowl - $10.99\n",
      "Ingredients:\n",
      "200 g of Chicken\n",
      "150 g of Rice\n",
      "100 g of Vegetables\n"
     ]
    }
   ],
   "source": [
    "class Ingredient:\n",
    "    def __init__(self, name, quantity, unit):\n",
    "        self.name = name\n",
    "        self.quantity = quantity\n",
    "        self.unit = unit\n",
    "\n",
    "    def __str__(self):\n",
    "        return f\"{self.quantity} {self.unit} of {self.name}\"\n",
    "\n",
    "class Dish:\n",
    "    def __init__(self, name, ingredients, price):\n",
    "        self.name = name\n",
    "        self.ingredients = ingredients  # Composition: Dish has Ingredients\n",
    "        self.price = price\n",
    "\n",
    "    def display_dish_info(self):\n",
    "        dish_info = f\"{self.name} - ${self.price}\\nIngredients:\\n\"\n",
    "        dish_info += \"\\n\".join(str(ingredient) for ingredient in self.ingredients)\n",
    "        return dish_info\n",
    "\n",
    "class Menu:\n",
    "    def __init__(self, name, dishes):\n",
    "        self.name = name\n",
    "        self.dishes = dishes  # Composition: Menu has Dishes\n",
    "\n",
    "    def display_menu(self):\n",
    "        menu_info = f\"{self.name} Menu\\n\"\n",
    "        menu_info += \"\\n\".join(dish.name for dish in self.dishes)\n",
    "        return menu_info\n",
    "\n",
    "# Example usage\n",
    "ingredient1 = Ingredient(\"Chicken\", 200, \"g\")\n",
    "ingredient2 = Ingredient(\"Rice\", 150, \"g\")\n",
    "ingredient3 = Ingredient(\"Vegetables\", 100, \"g\")\n",
    "\n",
    "dish1 = Dish(\"Chicken Rice Bowl\", [ingredient1, ingredient2, ingredient3], 10.99)\n",
    "dish2 = Dish(\"Vegetarian Pasta\", [ingredient2, ingredient3], 8.99)\n",
    "\n",
    "menu_example = Menu(\"Lunch\", [dish1, dish2])\n",
    "\n",
    "# Display information about the menu and dishes\n",
    "print(menu_example.display_menu())\n",
    "\n",
    "# Display information about a specific dish\n",
    "print(dish1.display_dish_info())\n"
   ]
  },
  {
   "cell_type": "code",
   "execution_count": null,
   "id": "8022f6aa-16e9-4841-8191-896edf49d7e5",
   "metadata": {},
   "outputs": [],
   "source": [
    "15. Explain how composition enhances code maintainability and modularity in Python programs."
   ]
  },
  {
   "cell_type": "code",
   "execution_count": null,
   "id": "d1921b77-712f-4611-bf0d-3e2c1f21f898",
   "metadata": {},
   "outputs": [],
   "source": [
    "Composition enhances code maintainability and modularity in Python programs by promoting a design approach that encourages encapsulation,\n",
    "flexibility, and separation of concerns.\n",
    "Here's how composition contributes to these aspects:\n",
    "\n",
    "Encapsulation:\n",
    "\n",
    "Composition allows objects to encapsulate their components, hiding the internal details and exposing only the necessary interfaces.\n",
    "This encapsulation provides a clear separation between the internal implementation of an object and its external interactions,\n",
    "reducing the risk of unintended interference.\n",
    "Flexibility and Reusability:\n",
    "\n",
    "Composing objects enables flexibility in creating complex structures by combining smaller, reusable components. Each component\n",
    "can be designed and tested independently, making it easier to reuse them in different contexts. This reusability promotes a \n",
    "modular approach to code, where well-designed components can be utilized in various scenarios.\n",
    "Separation of Concerns:\n",
    "\n",
    "Composition encourages the separation of concerns by dividing functionality into smaller, manageable units. Each component is\n",
    "responsible for a specific aspect of the system, making it easier to understand, modify, and extend individual parts without affecting the entire codebase.\n",
    "Loose Coupling:\n",
    "\n",
    "Objects created through composition are typically loosely coupled, meaning they are not heavily dependent on each other's\n",
    "internal details. Changes to one component do not necessarily require modifications in other components, promoting a more\n",
    "maintainable and less error-prone codebase.\n",
    "Modularity:\n",
    "\n",
    "Composition facilitates modularity by breaking down a system into smaller, independently replaceable parts. This modular\n",
    "design makes it easier to develop, test, and maintain individual components without affecting the overall system. It also \n",
    "allows for incremental updates and improvements to specific modules.\n",
    "Testability:\n",
    "\n",
    "Composed objects with well-defined interfaces are easier to test in isolation. Unit testing becomes more straightforward\n",
    "as each component can be tested independently, ensuring that it functions correctly within the context of the larger system.\n",
    "Clear Interfaces:\n",
    "\n",
    "Composition encourages the definition of clear and consistent interfaces between objects. Each object exposes a well-defined \n",
    "set of methods and properties, making it easier for developers to understand how to interact with the components.\n",
    "This clarity improves the overall maintainability of the code.\n",
    "Scalability:\n",
    "\n",
    "As the codebase grows, composition allows for the addition of new components without affecting existing ones. \n",
    "This scalability is crucial for handling complex systems where new features or functionalities can be introduced without disrupting the entire architecture.\n",
    "Encourages Design Patterns:\n",
    "\n",
    "Composition aligns well with common design patterns such as the Decorator, Strategy, and Composite patterns. \n",
    "These patterns promote reusable and extensible designs, contributing to better maintainability and modularity."
   ]
  },
  {
   "cell_type": "code",
   "execution_count": null,
   "id": "a5e04ff7-e1b0-4642-a82d-2f850212c844",
   "metadata": {},
   "outputs": [],
   "source": [
    "16. Create a Python class for a computer game character, using composition to represent attributes like\n",
    "weapons, armor, and inventory."
   ]
  },
  {
   "cell_type": "code",
   "execution_count": 121,
   "id": "dd982ca6-1873-48ca-a591-70cc6bd74057",
   "metadata": {
    "tags": []
   },
   "outputs": [
    {
     "name": "stdout",
     "output_type": "stream",
     "text": [
      "Hero\n",
      "Health: 100\n",
      "Weapons:\n",
      "Weapon: Sword (Damage: 20)\n",
      "Armor: Shield (Defense: 15)\n",
      "Inventory:\n",
      "Health Potion (Quantity: 3)\n",
      "\n"
     ]
    }
   ],
   "source": [
    "class Weapon:\n",
    "    def __init__(self, name, damage):\n",
    "        self.name = name\n",
    "        self.damage = damage\n",
    "\n",
    "    def __str__(self):\n",
    "        return f\"Weapon: {self.name} (Damage: {self.damage})\"\n",
    "\n",
    "class Armor:\n",
    "    def __init__(self, name, defense):\n",
    "        self.name = name\n",
    "        self.defense = defense\n",
    "\n",
    "    def __str__(self):\n",
    "        return f\"Armor: {self.name} (Defense: {self.defense})\"\n",
    "\n",
    "class InventoryItem:\n",
    "    def __init__(self, name, quantity):\n",
    "        self.name = name\n",
    "        self.quantity = quantity\n",
    "\n",
    "    def __str__(self):\n",
    "        return f\"{self.name} (Quantity: {self.quantity})\"\n",
    "\n",
    "class GameCharacter:\n",
    "    def __init__(self, name, health, weapons=None, armor=None, inventory=None):\n",
    "        self.name = name\n",
    "        self.health = health\n",
    "        self.weapons = weapons or []  # Composition: GameCharacter has Weapons\n",
    "        self.armor = armor  # Composition: GameCharacter has Armor\n",
    "        self.inventory = inventory or []  # Composition: GameCharacter has InventoryItems\n",
    "\n",
    "    def display_character_info(self):\n",
    "        character_info = f\"{self.name}\\nHealth: {self.health}\\n\"\n",
    "        \n",
    "        if self.weapons:\n",
    "            character_info += \"Weapons:\\n\" + \"\\n\".join(str(weapon) for weapon in self.weapons) + \"\\n\"\n",
    "\n",
    "        if self.armor:\n",
    "            character_info += str(self.armor) + \"\\n\"\n",
    "\n",
    "        if self.inventory:\n",
    "            character_info += \"Inventory:\\n\" + \"\\n\".join(str(item) for item in self.inventory) + \"\\n\"\n",
    "\n",
    "        return character_info\n",
    "\n",
    "# Example usage\n",
    "sword = Weapon(\"Sword\", 20)\n",
    "shield = Armor(\"Shield\", 15)\n",
    "health_potion = InventoryItem(\"Health Potion\", 3)\n",
    "\n",
    "player_character = GameCharacter(\"Hero\", 100, weapons=[sword], armor=shield, inventory=[health_potion])\n",
    "\n",
    "# Display information about the game character\n",
    "print(player_character.display_character_info())\n"
   ]
  },
  {
   "cell_type": "code",
   "execution_count": null,
   "id": "a989a081-e631-46f7-b618-c1e80896a399",
   "metadata": {},
   "outputs": [],
   "source": [
    "17. Describe the concept of \"aggregation\" in composition and how it differs from simple composition."
   ]
  },
  {
   "cell_type": "code",
   "execution_count": null,
   "id": "50bfa1a5-488a-4d60-af1f-c6afe16a64c5",
   "metadata": {},
   "outputs": [],
   "source": [
    "The concept of \"aggregation\" in composition refers to a specific type of relationship between objects where one object (the whole or container) \n",
    "contains another object (the part) but allows for the part to exist independently.\n",
    "Aggregation is a form of composition, but with a crucial distinction: the part can exist outside the context of the whole.\n",
    "\n",
    "Here are key points that differentiate aggregation from simple composition:\n",
    "\n",
    "Independence of Lifetimes:\n",
    "\n",
    "In aggregation, the \"part\" object has an independent lifetime, meaning it can exist on its own and is not solely dependent on the \n",
    "existence of the \"whole\" object. If the whole object is destroyed, the part can still exist. This contrasts with simple composition,\n",
    "where the part is tightly bound to the lifecycle of the whole.\n",
    "Multiplicity:\n",
    "\n",
    "Aggregation often involves a multiplicity relationship, indicating that a whole object can be associated with multiple instances\n",
    "of the part. The part objects may be shared among different wholes, or a whole may not contain any parts at all. This flexibility\n",
    "distinguishes aggregation from simple composition, where the part is typically a singular component of the whole.\n",
    "Navigation:\n",
    "\n",
    "Aggregation allows for navigation from the part to the whole and vice versa. This means that the part object can reference the whole,\n",
    "and the whole can reference the part. This bidirectional relationship enhances the flexibility of aggregation.\n",
    "Use of \"Has-a\" Relationship:\n",
    "\n",
    "Aggregation is often described using a \"has-a\" relationship, emphasizing that the whole object has a collection of parts.\n",
    "For example, a university \"has a\" collection of students. This linguistic distinction helps convey the idea that the part objects are components of the whole."
   ]
  },
  {
   "cell_type": "code",
   "execution_count": 122,
   "id": "bc7191a9-7b5b-4947-b630-20cda4815a73",
   "metadata": {
    "tags": []
   },
   "outputs": [],
   "source": [
    "class Department:\n",
    "    def __init__(self, name):\n",
    "        self.name = name\n",
    "        self.students = []  # Aggregation: Department has Students\n",
    "\n",
    "class Student:\n",
    "    def __init__(self, name, id):\n",
    "        self.name = name\n",
    "        self.id = id\n",
    "\n",
    "# Example of aggregation\n",
    "math_department = Department(\"Mathematics\")\n",
    "student1 = Student(\"Alice\", 101)\n",
    "student2 = Student(\"Bob\", 102)\n",
    "\n",
    "# Aggregation: Adding students to the department\n",
    "math_department.students.append(student1)\n",
    "math_department.students.append(student2)\n"
   ]
  },
  {
   "cell_type": "code",
   "execution_count": null,
   "id": "f2ea6f71-f362-4120-97ce-7b3a761aca6b",
   "metadata": {},
   "outputs": [],
   "source": [
    "18. Create a Python class for a house, using composition to represent rooms, furniture, and appliances."
   ]
  },
  {
   "cell_type": "code",
   "execution_count": 123,
   "id": "d0875dff-da67-41c8-90c2-cbfdf77e9012",
   "metadata": {
    "tags": []
   },
   "outputs": [
    {
     "name": "stdout",
     "output_type": "stream",
     "text": [
      "House Information:\n",
      "Bedroom\n",
      "Furniture: Bed, Sofa\n",
      "Appliances: TV\n",
      "\n",
      "Kitchen\n",
      "Furniture: Kitchen Table\n",
      "Appliances: Oven\n",
      "\n"
     ]
    }
   ],
   "source": [
    "class Furniture:\n",
    "    def __init__(self, name):\n",
    "        self.name = name\n",
    "\n",
    "    def __str__(self):\n",
    "        return f\"{self.name}\"\n",
    "\n",
    "class Appliance:\n",
    "    def __init__(self, name):\n",
    "        self.name = name\n",
    "\n",
    "    def __str__(self):\n",
    "        return f\"{self.name}\"\n",
    "\n",
    "class Room:\n",
    "    def __init__(self, name, furniture=None, appliances=None):\n",
    "        self.name = name\n",
    "        self.furniture = furniture or []  # Composition: Room has Furniture\n",
    "        self.appliances = appliances or []  # Composition: Room has Appliances\n",
    "\n",
    "    def __str__(self):\n",
    "        room_info = f\"{self.name}\\nFurniture: {', '.join(str(item) for item in self.furniture)}\\n\"\n",
    "        room_info += f\"Appliances: {', '.join(str(item) for item in self.appliances)}\\n\"\n",
    "        return room_info\n",
    "\n",
    "class House:\n",
    "    def __init__(self, rooms=None):\n",
    "        self.rooms = rooms or []  # Composition: House has Rooms\n",
    "\n",
    "    def display_house_info(self):\n",
    "        house_info = \"House Information:\\n\"\n",
    "        house_info += \"\\n\".join(str(room) for room in self.rooms)\n",
    "        return house_info\n",
    "\n",
    "# Example usage\n",
    "bed = Furniture(\"Bed\")\n",
    "sofa = Furniture(\"Sofa\")\n",
    "tv = Appliance(\"TV\")\n",
    "kitchen_table = Furniture(\"Kitchen Table\")\n",
    "oven = Appliance(\"Oven\")\n",
    "\n",
    "bedroom = Room(\"Bedroom\", furniture=[bed, sofa], appliances=[tv])\n",
    "kitchen = Room(\"Kitchen\", furniture=[kitchen_table], appliances=[oven])\n",
    "\n",
    "my_house = House(rooms=[bedroom, kitchen])\n",
    "\n",
    "# Display information about the house\n",
    "print(my_house.display_house_info())\n"
   ]
  },
  {
   "cell_type": "code",
   "execution_count": null,
   "id": "ae004a66-ab97-442f-b1c3-09997b3a5056",
   "metadata": {},
   "outputs": [],
   "source": [
    "19. How can you achieve flexibility in composed objects by allowing them to be replaced or modified\n",
    "dynamically at runtime?"
   ]
  },
  {
   "cell_type": "code",
   "execution_count": null,
   "id": "d1977f84-3eb7-4f45-b32a-b8fe5adb0423",
   "metadata": {},
   "outputs": [],
   "source": [
    "Achieving flexibility in composed objects by allowing them to be replaced or modified dynamically at runtime can be accomplished through design patterns \n",
    "and programming practices.\n",
    "Here are some approaches:\n",
    "\n",
    "Use of Interfaces/Abstract Classes:\n",
    "\n",
    "Define interfaces or abstract classes that represent the common behavior of the components. Each component class should implement or \n",
    "inherit from these interfaces or abstract classes. This allows you to swap or modify components dynamically as long as they adhere to the common interface.\n",
    "Strategy Pattern:\n",
    "\n",
    "Implement the Strategy Pattern, where a class (context) contains a reference to a strategy interface. The strategy can be switched\n",
    "dynamically, allowing the context to use different behaviors at runtime. This is useful when you want to vary the behavior of an object dynamically.\n",
    "Dependency Injection:\n",
    "\n",
    "Use Dependency Injection to inject components into an object at runtime. This allows you to replace or modify components without \n",
    "modifying the code of the dependent object. Dependency injection frameworks, such as Flask's dependency injection, can facilitate dynamic component replacement.\n",
    "Factory Pattern:\n",
    "\n",
    "Employ the Factory Pattern to create instances of components. You can have a factory that produces different implementations of a\n",
    "component based on runtime conditions. This way, you can dynamically change the type of component used.\n",
    "Dynamic Composition:\n",
    "\n",
    "Implement a dynamic composition approach where you have methods or mechanisms to add, remove, or replace components dynamically.\n",
    "This can involve maintaining a collection of components and providing methods to manipulate that collection.\n",
    "Decorator Pattern:\n",
    "\n",
    "Utilize the Decorator Pattern to dynamically add or remove responsibilities to objects. This allows you to extend the functionality of\n",
    "an object dynamically by stacking decorators on top of it."
   ]
  },
  {
   "cell_type": "code",
   "execution_count": 124,
   "id": "68830c0b-09f7-48ed-9360-3a6ede83be88",
   "metadata": {
    "tags": []
   },
   "outputs": [
    {
     "name": "stdout",
     "output_type": "stream",
     "text": [
      "Decorator(ConcreteComponent)\n"
     ]
    }
   ],
   "source": [
    "class Component:\n",
    "    def operation(self):\n",
    "        pass\n",
    "\n",
    "class ConcreteComponent(Component):\n",
    "    def operation(self):\n",
    "        return \"ConcreteComponent\"\n",
    "\n",
    "class Decorator(Component):\n",
    "    def __init__(self, component):\n",
    "        self.component = component\n",
    "\n",
    "    def operation(self):\n",
    "        return f\"Decorator({self.component.operation()})\"\n",
    "\n",
    "# Example usage\n",
    "component = ConcreteComponent()\n",
    "\n",
    "# Dynamically decorating the component\n",
    "decorated_component = Decorator(component)\n",
    "\n",
    "print(decorated_component.operation())  # Output: Decorator(ConcreteComponent)\n"
   ]
  },
  {
   "cell_type": "code",
   "execution_count": null,
   "id": "e34ffff0-0dd7-4a93-9029-6a89ab02b08c",
   "metadata": {},
   "outputs": [],
   "source": [
    "20. Create a Python class for a social media application, using composition to represent users, posts, and\n",
    "comments."
   ]
  },
  {
   "cell_type": "code",
   "execution_count": 125,
   "id": "a8d34b17-f2b1-47e1-b6e2-e5cff2de3a91",
   "metadata": {
    "tags": []
   },
   "outputs": [
    {
     "name": "stdout",
     "output_type": "stream",
     "text": [
      "User: Alice\n",
      "Posts:\n",
      "Alice posted:\n",
      "Hello, this is my first post!\n",
      "Comments:\n",
      "Bob: Welcome to the social media platform!\n",
      "\n",
      "---\n",
      "\n",
      "User: Bob\n",
      "Posts:\n",
      "Bob posted:\n",
      "Nice to meet you, Alice!\n",
      "Comments:\n",
      "Alice: Thank you!\n"
     ]
    }
   ],
   "source": [
    "class Comment:\n",
    "    def __init__(self, user, text):\n",
    "        self.user = user\n",
    "        self.text = text\n",
    "\n",
    "    def __str__(self):\n",
    "        return f\"{self.user}: {self.text}\"\n",
    "\n",
    "class Post:\n",
    "    def __init__(self, user, content):\n",
    "        self.user = user\n",
    "        self.content = content\n",
    "        self.comments = []  # Composition: Post has Comments\n",
    "\n",
    "    def add_comment(self, user, text):\n",
    "        comment = Comment(user, text)\n",
    "        self.comments.append(comment)\n",
    "\n",
    "    def __str__(self):\n",
    "        post_info = f\"{self.user} posted:\\n{self.content}\\nComments:\\n\"\n",
    "        post_info += \"\\n\".join(str(comment) for comment in self.comments)\n",
    "        return post_info\n",
    "\n",
    "class User:\n",
    "    def __init__(self, username):\n",
    "        self.username = username\n",
    "        self.posts = []  # Composition: User has Posts\n",
    "\n",
    "    def create_post(self, content):\n",
    "        post = Post(self.username, content)\n",
    "        self.posts.append(post)\n",
    "\n",
    "    def __str__(self):\n",
    "        user_info = f\"User: {self.username}\\nPosts:\\n\"\n",
    "        user_info += \"\\n\".join(str(post) for post in self.posts)\n",
    "        return user_info\n",
    "\n",
    "# Example usage\n",
    "alice = User(\"Alice\")\n",
    "bob = User(\"Bob\")\n",
    "\n",
    "alice.create_post(\"Hello, this is my first post!\")\n",
    "bob.create_post(\"Nice to meet you, Alice!\")\n",
    "\n",
    "alice.posts[0].add_comment(\"Bob\", \"Welcome to the social media platform!\")\n",
    "bob.posts[0].add_comment(\"Alice\", \"Thank you!\")\n",
    "\n",
    "# Display information about users, posts, and comments\n",
    "print(alice)\n",
    "print(\"\\n---\\n\")\n",
    "print(bob)\n"
   ]
  },
  {
   "cell_type": "code",
   "execution_count": null,
   "id": "4692a402-cb1d-49d3-acd5-45510a201f90",
   "metadata": {},
   "outputs": [],
   "source": []
  }
 ],
 "metadata": {
  "kernelspec": {
   "display_name": "Python 3 (ipykernel)",
   "language": "python",
   "name": "python3"
  },
  "language_info": {
   "codemirror_mode": {
    "name": "ipython",
    "version": 3
   },
   "file_extension": ".py",
   "mimetype": "text/x-python",
   "name": "python",
   "nbconvert_exporter": "python",
   "pygments_lexer": "ipython3",
   "version": "3.11.5"
  }
 },
 "nbformat": 4,
 "nbformat_minor": 5
}
